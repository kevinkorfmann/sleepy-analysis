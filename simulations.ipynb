{
 "cells": [
  {
   "cell_type": "code",
   "execution_count": 2,
   "id": "divided-layout",
   "metadata": {},
   "outputs": [],
   "source": [
    "from utils import *"
   ]
  },
  {
   "cell_type": "markdown",
   "id": "pending-discipline",
   "metadata": {},
   "source": [
    "# 1. TMRCA"
   ]
  },
  {
   "cell_type": "code",
   "execution_count": 5,
   "id": "editorial-advice",
   "metadata": {},
   "outputs": [
    {
     "name": "stdout",
     "output_type": "stream",
     "text": [
      "for j in 0 100 200 300 ; do \n",
      "        sleepy  --num_generations 100000000 --N 500 --m 100 --b 1.0 --gc 50 --r 0 --L 10000.0 --selection_coefficient 0 --dominance_coefficient 0 --selection_position 0 --selection_activation_generation 0 --stop_after_mrca True --debug_print False --output_name run_$(($i+$j)) --output_directory ./tmrca/N500_b1.0_m100_r0_sc0_dc0_L1e4_sp0_s1/ --generations_post_fixation_threshold -1 --add_mutations_after_fixation True \n",
      "        done\n",
      "for j in 0 100 200 300 ; do \n",
      "        sleepy  --num_generations 100000000 --N 500 --m 100 --b 0.5 --gc 50 --r 0 --L 10000.0 --selection_coefficient 0 --dominance_coefficient 0 --selection_position 0 --selection_activation_generation 0 --stop_after_mrca True --debug_print False --output_name run_$(($i+$j)) --output_directory ./tmrca/N500_b0.5_m100_r0_sc0_dc0_L1e4_sp0_s1/ --generations_post_fixation_threshold -1 --add_mutations_after_fixation True \n",
      "        done\n",
      "for j in 0 100 200 300 ; do \n",
      "        sleepy  --num_generations 100000000 --N 500 --m 100 --b 0.35 --gc 50 --r 0 --L 10000.0 --selection_coefficient 0 --dominance_coefficient 0 --selection_position 0 --selection_activation_generation 0 --stop_after_mrca True --debug_print False --output_name run_$(($i+$j)) --output_directory ./tmrca/N500_b0.35_m100_r0_sc0_dc0_L1e4_sp0_s1/ --generations_post_fixation_threshold -1 --add_mutations_after_fixation True \n",
      "        done\n",
      "for j in 0 100 200 300 ; do \n",
      "        sleepy  --num_generations 100000000 --N 500 --m 100 --b 0.25 --gc 50 --r 0 --L 10000.0 --selection_coefficient 0 --dominance_coefficient 0 --selection_position 0 --selection_activation_generation 0 --stop_after_mrca True --debug_print False --output_name run_$(($i+$j)) --output_directory ./tmrca/N500_b0.25_m100_r0_sc0_dc0_L1e4_sp0_s1/ --generations_post_fixation_threshold -1 --add_mutations_after_fixation True \n",
      "        done\n",
      "for j in 0 100 200 300 ; do \n",
      "        sleepy  --num_generations 100000000 --N 500 --m 100 --b 1.0 --gc 50 --r 5e-05 --L 10000.0 --selection_coefficient 0 --dominance_coefficient 0 --selection_position 0 --selection_activation_generation 0 --stop_after_mrca True --debug_print False --output_name run_$(($i+$j)) --output_directory ./tmrca/N500_b1.0_m100_r5e-05_sc0_dc0_L1e4_sp0_s1/ --generations_post_fixation_threshold -1 --add_mutations_after_fixation True \n",
      "        done\n",
      "for j in 0 100 200 300 ; do \n",
      "        sleepy  --num_generations 100000000 --N 500 --m 100 --b 0.5 --gc 50 --r 5e-05 --L 10000.0 --selection_coefficient 0 --dominance_coefficient 0 --selection_position 0 --selection_activation_generation 0 --stop_after_mrca True --debug_print False --output_name run_$(($i+$j)) --output_directory ./tmrca/N500_b0.5_m100_r5e-05_sc0_dc0_L1e4_sp0_s1/ --generations_post_fixation_threshold -1 --add_mutations_after_fixation True \n",
      "        done\n",
      "for j in 0 100 200 300 ; do \n",
      "        sleepy  --num_generations 100000000 --N 500 --m 100 --b 0.35 --gc 50 --r 5e-05 --L 10000.0 --selection_coefficient 0 --dominance_coefficient 0 --selection_position 0 --selection_activation_generation 0 --stop_after_mrca True --debug_print False --output_name run_$(($i+$j)) --output_directory ./tmrca/N500_b0.35_m100_r5e-05_sc0_dc0_L1e4_sp0_s1/ --generations_post_fixation_threshold -1 --add_mutations_after_fixation True \n",
      "        done\n",
      "for j in 0 100 200 300 ; do \n",
      "        sleepy  --num_generations 100000000 --N 500 --m 100 --b 0.25 --gc 50 --r 5e-05 --L 10000.0 --selection_coefficient 0 --dominance_coefficient 0 --selection_position 0 --selection_activation_generation 0 --stop_after_mrca True --debug_print False --output_name run_$(($i+$j)) --output_directory ./tmrca/N500_b0.25_m100_r5e-05_sc0_dc0_L1e4_sp0_s1/ --generations_post_fixation_threshold -1 --add_mutations_after_fixation True \n",
      "        done\n",
      "for j in 0 100 200 300 ; do \n",
      "        sleepy  --num_generations 100000000 --N 500 --m 100 --b 1.0 --gc 50 --r 1e-06 --L 10000.0 --selection_coefficient 0 --dominance_coefficient 0 --selection_position 0 --selection_activation_generation 0 --stop_after_mrca True --debug_print False --output_name run_$(($i+$j)) --output_directory ./tmrca/N500_b1.0_m100_r1e-06_sc0_dc0_L1e4_sp0_s1/ --generations_post_fixation_threshold -1 --add_mutations_after_fixation True \n",
      "        done\n",
      "for j in 0 100 200 300 ; do \n",
      "        sleepy  --num_generations 100000000 --N 500 --m 100 --b 0.5 --gc 50 --r 1e-06 --L 10000.0 --selection_coefficient 0 --dominance_coefficient 0 --selection_position 0 --selection_activation_generation 0 --stop_after_mrca True --debug_print False --output_name run_$(($i+$j)) --output_directory ./tmrca/N500_b0.5_m100_r1e-06_sc0_dc0_L1e4_sp0_s1/ --generations_post_fixation_threshold -1 --add_mutations_after_fixation True \n",
      "        done\n",
      "for j in 0 100 200 300 ; do \n",
      "        sleepy  --num_generations 100000000 --N 500 --m 100 --b 0.35 --gc 50 --r 1e-06 --L 10000.0 --selection_coefficient 0 --dominance_coefficient 0 --selection_position 0 --selection_activation_generation 0 --stop_after_mrca True --debug_print False --output_name run_$(($i+$j)) --output_directory ./tmrca/N500_b0.35_m100_r1e-06_sc0_dc0_L1e4_sp0_s1/ --generations_post_fixation_threshold -1 --add_mutations_after_fixation True \n",
      "        done\n",
      "for j in 0 100 200 300 ; do \n",
      "        sleepy  --num_generations 100000000 --N 500 --m 100 --b 0.25 --gc 50 --r 1e-06 --L 10000.0 --selection_coefficient 0 --dominance_coefficient 0 --selection_position 0 --selection_activation_generation 0 --stop_after_mrca True --debug_print False --output_name run_$(($i+$j)) --output_directory ./tmrca/N500_b0.25_m100_r1e-06_sc0_dc0_L1e4_sp0_s1/ --generations_post_fixation_threshold -1 --add_mutations_after_fixation True \n",
      "        done\n"
     ]
    }
   ],
   "source": [
    "for r in [0, 5e-5, 1e-6,]: \n",
    "    for i in [1.0, 0.5, 0.35, 0.25]: \n",
    "        output_directory = \"./tmrca/N500_b\" + str(i) + \"_m100_r\" + str(r) + \"_sc0_dc0_L1e4_sp0_s1/\"\n",
    "        sleepy(n_simulations=0, N=500, m=100, b=i, gc=50, r=r, L=1e4, \n",
    "                s=\"0\",d=\"0\", selection_position=\"0\",\n",
    "                stop_after_mrca=True, output_name=\"run\",\n",
    "                selection_activation_generation=0, generations_post_fixation_threshold=-1,\n",
    "                output_directory=output_directory, n_parallel=1, continue_from=0,\n",
    "                print_cmd=True, slurm=True, slurm_limit=400, slurm_divide=4);"
   ]
  },
  {
   "cell_type": "markdown",
   "id": "separated-configuration",
   "metadata": {},
   "source": [
    "# 2. LD\n",
    "\n",
    "Implicitly in TMRCA:\n",
    "\n",
    "```python\n",
    "for r in [1e-6,]:    \n",
    "    for i in [1.0, 0.5, 0.35, 0.25]:     \n",
    "        output_directory = \"./tmrca/N500_b\" + str(i) + \"_m100_mu0_r\" + str(r) + \"_mus0_sc0_dc0_L1e4_sp0_s1/\"   \n",
    "```"
   ]
  },
  {
   "cell_type": "markdown",
   "id": "thirty-decimal",
   "metadata": {},
   "source": [
    "# 3.1 Sweeps (germination rate and selection coefficient)"
   ]
  },
  {
   "cell_type": "code",
   "execution_count": 8,
   "id": "accepting-testing",
   "metadata": {},
   "outputs": [
    {
     "name": "stdout",
     "output_type": "stream",
     "text": [
      "for j in 0 ; do \n",
      "        sleepy  --num_generations 100000000 --N 500 --m 100 --b 1.0 --gc 50 --r 5e-05 --L 10000.0 --selection_coefficient 2.0 --dominance_coefficient 0.5 --selection_position 5000 --selection_activation_generation 100000 --stop_after_mrca False --debug_print False --output_name run_$(($i+$j)) --output_directory ./sweep/N500_b1.0_m100_r5e-5_sc2.0_dc0.5_L1e4_sp5e3_s1_post0/ --generations_post_fixation_threshold -1 --add_mutations_after_fixation True \n",
      "        done\n",
      "for j in 0 ; do \n",
      "        sleepy  --num_generations 100000000 --N 500 --m 100 --b 1.0 --gc 50 --r 5e-05 --L 10000.0 --selection_coefficient 1.0 --dominance_coefficient 0.5 --selection_position 5000 --selection_activation_generation 100000 --stop_after_mrca False --debug_print False --output_name run_$(($i+$j)) --output_directory ./sweep/N500_b1.0_m100_r5e-5_sc1.0_dc0.5_L1e4_sp5e3_s1_post0/ --generations_post_fixation_threshold -1 --add_mutations_after_fixation True \n",
      "        done\n",
      "for j in 0 ; do \n",
      "        sleepy  --num_generations 100000000 --N 500 --m 100 --b 1.0 --gc 50 --r 5e-05 --L 10000.0 --selection_coefficient 0.5 --dominance_coefficient 0.5 --selection_position 5000 --selection_activation_generation 100000 --stop_after_mrca False --debug_print False --output_name run_$(($i+$j)) --output_directory ./sweep/N500_b1.0_m100_r5e-5_sc0.5_dc0.5_L1e4_sp5e3_s1_post0/ --generations_post_fixation_threshold -1 --add_mutations_after_fixation True \n",
      "        done\n",
      "for j in 0 ; do \n",
      "        sleepy  --num_generations 100000000 --N 500 --m 100 --b 0.35 --gc 50 --r 5e-05 --L 10000.0 --selection_coefficient 2.0 --dominance_coefficient 0.5 --selection_position 5000 --selection_activation_generation 100000 --stop_after_mrca False --debug_print False --output_name run_$(($i+$j)) --output_directory ./sweep/N500_b0.35_m100_r5e-5_sc2.0_dc0.5_L1e4_sp5e3_s1_post0/ --generations_post_fixation_threshold -1 --add_mutations_after_fixation True \n",
      "        done\n",
      "for j in 0 ; do \n",
      "        sleepy  --num_generations 100000000 --N 500 --m 100 --b 0.35 --gc 50 --r 5e-05 --L 10000.0 --selection_coefficient 1.0 --dominance_coefficient 0.5 --selection_position 5000 --selection_activation_generation 100000 --stop_after_mrca False --debug_print False --output_name run_$(($i+$j)) --output_directory ./sweep/N500_b0.35_m100_r5e-5_sc1.0_dc0.5_L1e4_sp5e3_s1_post0/ --generations_post_fixation_threshold -1 --add_mutations_after_fixation True \n",
      "        done\n",
      "for j in 0 ; do \n",
      "        sleepy  --num_generations 100000000 --N 500 --m 100 --b 0.35 --gc 50 --r 5e-05 --L 10000.0 --selection_coefficient 0.5 --dominance_coefficient 0.5 --selection_position 5000 --selection_activation_generation 100000 --stop_after_mrca False --debug_print False --output_name run_$(($i+$j)) --output_directory ./sweep/N500_b0.35_m100_r5e-5_sc0.5_dc0.5_L1e4_sp5e3_s1_post0/ --generations_post_fixation_threshold -1 --add_mutations_after_fixation True \n",
      "        done\n"
     ]
    }
   ],
   "source": [
    "for b in [1.0, 0.35]:\n",
    "    for c in [2.0, 1.0, 0.5]:\n",
    "        output_directory = \"./sweep/N500_b\" + str(b) + \"_m100_r5e-5_sc\" + str(c) + \"_dc0.5_L1e4_sp5e3_s1_post0/\"\n",
    "        sleepy(n_simulations=100, N=500, m=100, b=b, gc=50, r=5e-5, L=1e4, \n",
    "                 s=str(c),d=\"0.5\", selection_position=\"5000\",\n",
    "                 stop_after_mrca=False, output_name=\"run\",\n",
    "                 selection_activation_generation=100000, generations_post_fixation_threshold=-1,\n",
    "                 output_directory=output_directory,n_parallel=10, continue_from=0, \n",
    "               print_cmd=True, slurm=True, slurm_limit=100, slurm_divide=1);"
   ]
  },
  {
   "cell_type": "markdown",
   "id": "instructional-system",
   "metadata": {},
   "source": [
    "# 3.2 Sweeps (germination rate and recombination rate)"
   ]
  },
  {
   "cell_type": "code",
   "execution_count": 12,
   "id": "blessed-former",
   "metadata": {},
   "outputs": [
    {
     "name": "stdout",
     "output_type": "stream",
     "text": [
      "for j in 0 ; do \n",
      "        sleepy  --num_generations 1000000 --N 500 --m 100 --b 1.0 --gc 50 --r 0.0001 --L 10000.0 --selection_coefficient 1 --dominance_coefficient 0.5 --selection_position 5000 --selection_activation_generation 100000 --stop_after_mrca False --debug_print False --output_name run_$(($i+$j)) --output_directory ./sweep/N500_b1.0_m100_r0.0001_sc1_dc0.5_L1e4_sp5e3_s1/ --generations_post_fixation_threshold -1 --add_mutations_after_fixation True \n",
      "        done\n",
      "for j in 0 ; do \n",
      "        sleepy  --num_generations 1000000 --N 500 --m 100 --b 0.35 --gc 50 --r 0.0001 --L 10000.0 --selection_coefficient 1 --dominance_coefficient 0.5 --selection_position 5000 --selection_activation_generation 100000 --stop_after_mrca False --debug_print False --output_name run_$(($i+$j)) --output_directory ./sweep/N500_b0.35_m100_r0.0001_sc1_dc0.5_L1e4_sp5e3_s1/ --generations_post_fixation_threshold -1 --add_mutations_after_fixation True \n",
      "        done\n",
      "for j in 0 ; do \n",
      "        sleepy  --num_generations 1000000 --N 500 --m 100 --b 1.0 --gc 50 --r 1e-05 --L 10000.0 --selection_coefficient 1 --dominance_coefficient 0.5 --selection_position 5000 --selection_activation_generation 100000 --stop_after_mrca False --debug_print False --output_name run_$(($i+$j)) --output_directory ./sweep/N500_b1.0_m100_r1e-05_sc1_dc0.5_L1e4_sp5e3_s1/ --generations_post_fixation_threshold -1 --add_mutations_after_fixation True \n",
      "        done\n",
      "for j in 0 ; do \n",
      "        sleepy  --num_generations 1000000 --N 500 --m 100 --b 0.35 --gc 50 --r 1e-05 --L 10000.0 --selection_coefficient 1 --dominance_coefficient 0.5 --selection_position 5000 --selection_activation_generation 100000 --stop_after_mrca False --debug_print False --output_name run_$(($i+$j)) --output_directory ./sweep/N500_b0.35_m100_r1e-05_sc1_dc0.5_L1e4_sp5e3_s1/ --generations_post_fixation_threshold -1 --add_mutations_after_fixation True \n",
      "        done\n"
     ]
    }
   ],
   "source": [
    "for r in [1e-4, 1e-5]: #5e-5\n",
    "    for b in [1.0, 0.35]:\n",
    "        output_directory = \"./sweep/N500_b\" + str(b) + \"_m100_r\" + str(r) + \"_sc1_dc0.5_L1e4_sp5e3_s1/\"\n",
    "        sleepy(n_simulations=100, N=500, m=100, b=b, gc=50, r=r, L=1e4,\n",
    "                 s=\"1\",d=\"0.5\", selection_position=\"5000\",\n",
    "                stop_after_mrca=False, output_name=\"run\",\n",
    "                 selection_activation_generation=100000, generations_post_fixation_threshold=-1,\n",
    "                 output_directory=output_directory,n_parallel=10, continue_from=0, print_cmd=True, slurm=True, slurm_limit=100, slurm_divide=1);"
   ]
  },
  {
   "cell_type": "markdown",
   "id": "brief-mechanism",
   "metadata": {},
   "source": [
    "# 3.3 Sweeps (N Rescaling)"
   ]
  },
  {
   "cell_type": "code",
   "execution_count": 15,
   "id": "headed-cutting",
   "metadata": {},
   "outputs": [
    {
     "name": "stdout",
     "output_type": "stream",
     "text": [
      "for j in 0 ; do \n",
      "        sleepy  --num_generations 100000000 --N 1000 --m 100 --b 1.0 --gc 50 --r 5e-05 --L 10000.0 --selection_coefficient 1 --dominance_coefficient 0.5 --selection_position 5000 --selection_activation_generation 100000 --stop_after_mrca False --debug_print False --output_name run_$(($i+$j)) --output_directory ./sweep/N1000_b1.0_m100_sc1_dc0.5_L1e4_sp5e3_s1/ --generations_post_fixation_threshold -1 --add_mutations_after_fixation True \n",
      "        done\n",
      "for j in 0 ; do \n",
      "        sleepy  --num_generations 100000000 --N 2000 --m 100 --b 1.0 --gc 50 --r 5e-05 --L 10000.0 --selection_coefficient 1 --dominance_coefficient 0.5 --selection_position 5000 --selection_activation_generation 100000 --stop_after_mrca False --debug_print False --output_name run_$(($i+$j)) --output_directory ./sweep/N2000_b1.0_m100_sc1_dc0.5_L1e4_sp5e3_s1/ --generations_post_fixation_threshold -1 --add_mutations_after_fixation True \n",
      "        done\n",
      "for j in 0 ; do \n",
      "        sleepy  --num_generations 100000000 --N 4000 --m 100 --b 1.0 --gc 50 --r 5e-05 --L 10000.0 --selection_coefficient 1 --dominance_coefficient 0.5 --selection_position 5000 --selection_activation_generation 100000 --stop_after_mrca False --debug_print False --output_name run_$(($i+$j)) --output_directory ./sweep/N4000_b1.0_m100_sc1_dc0.5_L1e4_sp5e3_s1/ --generations_post_fixation_threshold -1 --add_mutations_after_fixation True \n",
      "        done\n",
      "for j in 0 ; do \n",
      "        sleepy  --num_generations 100000000 --N 8000 --m 100 --b 1.0 --gc 50 --r 5e-05 --L 10000.0 --selection_coefficient 1 --dominance_coefficient 0.5 --selection_position 5000 --selection_activation_generation 100000 --stop_after_mrca False --debug_print False --output_name run_$(($i+$j)) --output_directory ./sweep/N8000_b1.0_m100_sc1_dc0.5_L1e4_sp5e3_s1/ --generations_post_fixation_threshold -1 --add_mutations_after_fixation True \n",
      "        done\n"
     ]
    }
   ],
   "source": [
    "for N in [1000, 2000, 4000, 8000]:\n",
    "    for b in [1.0]:\n",
    "        output_directory = \"./sweep/N\" + str(N) + \"_b\" + str(b) + \"_m100_sc1_dc0.5_L1e4_sp5e3_s1/\"\n",
    "        sleepy(n_simulations=200, N=N, m=100, b=b, gc=50, r=5e-5, L=1e4,  \n",
    "                 s=\"1\",d=\"0.5\", selection_position=\"5000\",\n",
    "                 stop_after_mrca=False, output_name=\"run\",\n",
    "                 selection_activation_generation=100000, generations_post_fixation_threshold=-1,\n",
    "                 output_directory=output_directory,n_parallel=10, continue_from=0, print_cmd=True, slurm=True, slurm_limit=100, slurm_divide=1);"
   ]
  },
  {
   "cell_type": "markdown",
   "id": "acute-treasure",
   "metadata": {},
   "source": [
    "# 4. Recovery "
   ]
  },
  {
   "cell_type": "code",
   "execution_count": 19,
   "id": "mexican-solution",
   "metadata": {},
   "outputs": [
    {
     "name": "stdout",
     "output_type": "stream",
     "text": [
      "for j in 0 100 200 300 ; do \n",
      "        sleepy  --num_generations 100000000 --N 500 --m 100 --b 1.0 --gc 50 --r 5e-05 --L 10000.0 --selection_coefficient 1 --dominance_coefficient 0.5 --selection_position 5000 --selection_activation_generation 100000 --stop_after_mrca False --debug_print False --output_name run_$(($i+$j)) --output_directory ./recovery_sweep/N500_b1.0_m100_r5e-5_sc1_dc0.5_L1e4_sp5e3_s1_recov0/ --generations_post_fixation_threshold 0 --add_mutations_after_fixation False \n",
      "        done\n",
      "for j in 0 100 200 300 ; do \n",
      "        sleepy  --num_generations 100000000 --N 500 --m 100 --b 1.0 --gc 50 --r 5e-05 --L 10000.0 --selection_coefficient 1 --dominance_coefficient 0.5 --selection_position 5000 --selection_activation_generation 100000 --stop_after_mrca False --debug_print False --output_name run_$(($i+$j)) --output_directory ./recovery_sweep/N500_b1.0_m100_r5e-5_sc1_dc0.5_L1e4_sp5e3_s1_recov500/ --generations_post_fixation_threshold 500 --add_mutations_after_fixation False \n",
      "        done\n",
      "for j in 0 100 200 300 ; do \n",
      "        sleepy  --num_generations 100000000 --N 500 --m 100 --b 1.0 --gc 50 --r 5e-05 --L 10000.0 --selection_coefficient 1 --dominance_coefficient 0.5 --selection_position 5000 --selection_activation_generation 100000 --stop_after_mrca False --debug_print False --output_name run_$(($i+$j)) --output_directory ./recovery_sweep/N500_b1.0_m100_r5e-5_sc1_dc0.5_L1e4_sp5e3_s1_recov1000/ --generations_post_fixation_threshold 1000 --add_mutations_after_fixation False \n",
      "        done\n",
      "for j in 0 100 200 300 ; do \n",
      "        sleepy  --num_generations 100000000 --N 500 --m 100 --b 1.0 --gc 50 --r 5e-05 --L 10000.0 --selection_coefficient 1 --dominance_coefficient 0.5 --selection_position 5000 --selection_activation_generation 100000 --stop_after_mrca False --debug_print False --output_name run_$(($i+$j)) --output_directory ./recovery_sweep/N500_b1.0_m100_r5e-5_sc1_dc0.5_L1e4_sp5e3_s1_recov2000/ --generations_post_fixation_threshold 2000 --add_mutations_after_fixation False \n",
      "        done\n",
      "for j in 0 100 200 300 ; do \n",
      "        sleepy  --num_generations 100000000 --N 500 --m 100 --b 1.0 --gc 50 --r 5e-05 --L 10000.0 --selection_coefficient 1 --dominance_coefficient 0.5 --selection_position 5000 --selection_activation_generation 100000 --stop_after_mrca False --debug_print False --output_name run_$(($i+$j)) --output_directory ./recovery_sweep/N500_b1.0_m100_r5e-5_sc1_dc0.5_L1e4_sp5e3_s1_recov4000/ --generations_post_fixation_threshold 4000 --add_mutations_after_fixation False \n",
      "        done\n",
      "for j in 0 100 200 300 ; do \n",
      "        sleepy  --num_generations 100000000 --N 500 --m 100 --b 1.0 --gc 50 --r 5e-05 --L 10000.0 --selection_coefficient 1 --dominance_coefficient 0.5 --selection_position 5000 --selection_activation_generation 100000 --stop_after_mrca False --debug_print False --output_name run_$(($i+$j)) --output_directory ./recovery_sweep/N500_b1.0_m100_r5e-5_sc1_dc0.5_L1e4_sp5e3_s1_recov8000/ --generations_post_fixation_threshold 8000 --add_mutations_after_fixation False \n",
      "        done\n",
      "for j in 0 100 200 300 ; do \n",
      "        sleepy  --num_generations 100000000 --N 500 --m 100 --b 0.35 --gc 50 --r 5e-05 --L 10000.0 --selection_coefficient 1 --dominance_coefficient 0.5 --selection_position 5000 --selection_activation_generation 100000 --stop_after_mrca False --debug_print False --output_name run_$(($i+$j)) --output_directory ./recovery_sweep/N500_b0.35_m100_r5e-5_sc1_dc0.5_L1e4_sp5e3_s1_recov0/ --generations_post_fixation_threshold 0 --add_mutations_after_fixation False \n",
      "        done\n",
      "for j in 0 100 200 300 ; do \n",
      "        sleepy  --num_generations 100000000 --N 500 --m 100 --b 0.35 --gc 50 --r 5e-05 --L 10000.0 --selection_coefficient 1 --dominance_coefficient 0.5 --selection_position 5000 --selection_activation_generation 100000 --stop_after_mrca False --debug_print False --output_name run_$(($i+$j)) --output_directory ./recovery_sweep/N500_b0.35_m100_r5e-5_sc1_dc0.5_L1e4_sp5e3_s1_recov500/ --generations_post_fixation_threshold 500 --add_mutations_after_fixation False \n",
      "        done\n",
      "for j in 0 100 200 300 ; do \n",
      "        sleepy  --num_generations 100000000 --N 500 --m 100 --b 0.35 --gc 50 --r 5e-05 --L 10000.0 --selection_coefficient 1 --dominance_coefficient 0.5 --selection_position 5000 --selection_activation_generation 100000 --stop_after_mrca False --debug_print False --output_name run_$(($i+$j)) --output_directory ./recovery_sweep/N500_b0.35_m100_r5e-5_sc1_dc0.5_L1e4_sp5e3_s1_recov1000/ --generations_post_fixation_threshold 1000 --add_mutations_after_fixation False \n",
      "        done\n",
      "for j in 0 100 200 300 ; do \n",
      "        sleepy  --num_generations 100000000 --N 500 --m 100 --b 0.35 --gc 50 --r 5e-05 --L 10000.0 --selection_coefficient 1 --dominance_coefficient 0.5 --selection_position 5000 --selection_activation_generation 100000 --stop_after_mrca False --debug_print False --output_name run_$(($i+$j)) --output_directory ./recovery_sweep/N500_b0.35_m100_r5e-5_sc1_dc0.5_L1e4_sp5e3_s1_recov2000/ --generations_post_fixation_threshold 2000 --add_mutations_after_fixation False \n",
      "        done\n",
      "for j in 0 100 200 300 ; do \n",
      "        sleepy  --num_generations 100000000 --N 500 --m 100 --b 0.35 --gc 50 --r 5e-05 --L 10000.0 --selection_coefficient 1 --dominance_coefficient 0.5 --selection_position 5000 --selection_activation_generation 100000 --stop_after_mrca False --debug_print False --output_name run_$(($i+$j)) --output_directory ./recovery_sweep/N500_b0.35_m100_r5e-5_sc1_dc0.5_L1e4_sp5e3_s1_recov4000/ --generations_post_fixation_threshold 4000 --add_mutations_after_fixation False \n",
      "        done\n",
      "for j in 0 100 200 300 ; do \n",
      "        sleepy  --num_generations 100000000 --N 500 --m 100 --b 0.35 --gc 50 --r 5e-05 --L 10000.0 --selection_coefficient 1 --dominance_coefficient 0.5 --selection_position 5000 --selection_activation_generation 100000 --stop_after_mrca False --debug_print False --output_name run_$(($i+$j)) --output_directory ./recovery_sweep/N500_b0.35_m100_r5e-5_sc1_dc0.5_L1e4_sp5e3_s1_recov8000/ --generations_post_fixation_threshold 8000 --add_mutations_after_fixation False \n",
      "        done\n"
     ]
    }
   ],
   "source": [
    "for b in [1.0, 0.35]:\n",
    "    for recov in [0, 500, 1000, 2000, 4000, 8000]:\n",
    "        output_directory = \"./recovery_sweep/N500_b\" + str(b) + \"_m100_r5e-5_sc1_dc0.5_L1e4_sp5e3_s1_recov\" +str(recov) + \"/\"\n",
    "        sleepy(n_simulations=5, N=500, m=100, b=b, gc=50, r=5e-5, L=1e4,\n",
    "                 s=\"1\",d=\"0.5\", selection_position=\"5000\",\n",
    "                 stop_after_mrca=False, output_name=\"run\",\n",
    "                 selection_activation_generation=100000, generations_post_fixation_threshold=recov, add_mutations_after_fixation=False,\n",
    "                 output_directory=output_directory, n_parallel=5, continue_from=0, print_cmd=True, slurm=True, slurm_limit=400, slurm_divide=4);"
   ]
  },
  {
   "cell_type": "markdown",
   "id": "optimum-privilege",
   "metadata": {},
   "source": [
    "# 5. Time to fixation"
   ]
  },
  {
   "cell_type": "code",
   "execution_count": 20,
   "id": "corporate-pleasure",
   "metadata": {},
   "outputs": [
    {
     "name": "stdout",
     "output_type": "stream",
     "text": [
      "for j in 0 100 200 300 400 500 600 700 800 900 ; do \n",
      "        sleepy  --num_generations 100000000 --N 500 --m 100 --b 1.0 --gc 50 --r 0 --L 10000.0 --selection_coefficient 10 --dominance_coefficient 0.5 --selection_position 5000 --selection_activation_generation 1 --stop_after_mrca False --debug_print False --output_name run_$(($i+$j)) --output_directory ./fixation/N500_b1.0_m100_r0_sc10_dc0.5_L1e4_sp5e3_s1_post0/ --generations_post_fixation_threshold 0 --add_mutations_after_fixation True \n",
      "        done\n",
      "for j in 0 100 200 300 400 500 600 700 800 900 ; do \n",
      "        sleepy  --num_generations 100000000 --N 500 --m 100 --b 1.0 --gc 50 --r 0 --L 10000.0 --selection_coefficient 1 --dominance_coefficient 0.5 --selection_position 5000 --selection_activation_generation 1 --stop_after_mrca False --debug_print False --output_name run_$(($i+$j)) --output_directory ./fixation/N500_b1.0_m100_r0_sc1_dc0.5_L1e4_sp5e3_s1_post0/ --generations_post_fixation_threshold 0 --add_mutations_after_fixation True \n",
      "        done\n",
      "for j in 0 100 200 300 400 500 600 700 800 900 ; do \n",
      "        sleepy  --num_generations 100000000 --N 500 --m 100 --b 1.0 --gc 50 --r 0 --L 10000.0 --selection_coefficient 0.1 --dominance_coefficient 0.5 --selection_position 5000 --selection_activation_generation 1 --stop_after_mrca False --debug_print False --output_name run_$(($i+$j)) --output_directory ./fixation/N500_b1.0_m100_r0_sc0.1_dc0.5_L1e4_sp5e3_s1_post0/ --generations_post_fixation_threshold 0 --add_mutations_after_fixation True \n",
      "        done\n",
      "for j in 0 100 200 300 400 500 600 700 800 900 ; do \n",
      "        sleepy  --num_generations 100000000 --N 500 --m 100 --b 1.0 --gc 50 --r 0 --L 10000.0 --selection_coefficient 0.01 --dominance_coefficient 0.5 --selection_position 5000 --selection_activation_generation 1 --stop_after_mrca False --debug_print False --output_name run_$(($i+$j)) --output_directory ./fixation/N500_b1.0_m100_r0_sc0.01_dc0.5_L1e4_sp5e3_s1_post0/ --generations_post_fixation_threshold 0 --add_mutations_after_fixation True \n",
      "        done\n",
      "for j in 0 100 200 300 400 500 600 700 800 900 ; do \n",
      "        sleepy  --num_generations 100000000 --N 500 --m 100 --b 0.5 --gc 50 --r 0 --L 10000.0 --selection_coefficient 10 --dominance_coefficient 0.5 --selection_position 5000 --selection_activation_generation 1 --stop_after_mrca False --debug_print False --output_name run_$(($i+$j)) --output_directory ./fixation/N500_b0.5_m100_r0_sc10_dc0.5_L1e4_sp5e3_s1_post0/ --generations_post_fixation_threshold 0 --add_mutations_after_fixation True \n",
      "        done\n",
      "for j in 0 100 200 300 400 500 600 700 800 900 ; do \n",
      "        sleepy  --num_generations 100000000 --N 500 --m 100 --b 0.5 --gc 50 --r 0 --L 10000.0 --selection_coefficient 1 --dominance_coefficient 0.5 --selection_position 5000 --selection_activation_generation 1 --stop_after_mrca False --debug_print False --output_name run_$(($i+$j)) --output_directory ./fixation/N500_b0.5_m100_r0_sc1_dc0.5_L1e4_sp5e3_s1_post0/ --generations_post_fixation_threshold 0 --add_mutations_after_fixation True \n",
      "        done\n",
      "for j in 0 100 200 300 400 500 600 700 800 900 ; do \n",
      "        sleepy  --num_generations 100000000 --N 500 --m 100 --b 0.5 --gc 50 --r 0 --L 10000.0 --selection_coefficient 0.1 --dominance_coefficient 0.5 --selection_position 5000 --selection_activation_generation 1 --stop_after_mrca False --debug_print False --output_name run_$(($i+$j)) --output_directory ./fixation/N500_b0.5_m100_r0_sc0.1_dc0.5_L1e4_sp5e3_s1_post0/ --generations_post_fixation_threshold 0 --add_mutations_after_fixation True \n",
      "        done\n",
      "for j in 0 100 200 300 400 500 600 700 800 900 ; do \n",
      "        sleepy  --num_generations 100000000 --N 500 --m 100 --b 0.5 --gc 50 --r 0 --L 10000.0 --selection_coefficient 0.01 --dominance_coefficient 0.5 --selection_position 5000 --selection_activation_generation 1 --stop_after_mrca False --debug_print False --output_name run_$(($i+$j)) --output_directory ./fixation/N500_b0.5_m100_r0_sc0.01_dc0.5_L1e4_sp5e3_s1_post0/ --generations_post_fixation_threshold 0 --add_mutations_after_fixation True \n",
      "        done\n",
      "for j in 0 100 200 300 400 500 600 700 800 900 ; do \n",
      "        sleepy  --num_generations 100000000 --N 500 --m 100 --b 0.35 --gc 50 --r 0 --L 10000.0 --selection_coefficient 10 --dominance_coefficient 0.5 --selection_position 5000 --selection_activation_generation 1 --stop_after_mrca False --debug_print False --output_name run_$(($i+$j)) --output_directory ./fixation/N500_b0.35_m100_r0_sc10_dc0.5_L1e4_sp5e3_s1_post0/ --generations_post_fixation_threshold 0 --add_mutations_after_fixation True \n",
      "        done\n",
      "for j in 0 100 200 300 400 500 600 700 800 900 ; do \n",
      "        sleepy  --num_generations 100000000 --N 500 --m 100 --b 0.35 --gc 50 --r 0 --L 10000.0 --selection_coefficient 1 --dominance_coefficient 0.5 --selection_position 5000 --selection_activation_generation 1 --stop_after_mrca False --debug_print False --output_name run_$(($i+$j)) --output_directory ./fixation/N500_b0.35_m100_r0_sc1_dc0.5_L1e4_sp5e3_s1_post0/ --generations_post_fixation_threshold 0 --add_mutations_after_fixation True \n",
      "        done\n",
      "for j in 0 100 200 300 400 500 600 700 800 900 ; do \n",
      "        sleepy  --num_generations 100000000 --N 500 --m 100 --b 0.35 --gc 50 --r 0 --L 10000.0 --selection_coefficient 0.1 --dominance_coefficient 0.5 --selection_position 5000 --selection_activation_generation 1 --stop_after_mrca False --debug_print False --output_name run_$(($i+$j)) --output_directory ./fixation/N500_b0.35_m100_r0_sc0.1_dc0.5_L1e4_sp5e3_s1_post0/ --generations_post_fixation_threshold 0 --add_mutations_after_fixation True \n",
      "        done\n",
      "for j in 0 100 200 300 400 500 600 700 800 900 ; do \n",
      "        sleepy  --num_generations 100000000 --N 500 --m 100 --b 0.35 --gc 50 --r 0 --L 10000.0 --selection_coefficient 0.01 --dominance_coefficient 0.5 --selection_position 5000 --selection_activation_generation 1 --stop_after_mrca False --debug_print False --output_name run_$(($i+$j)) --output_directory ./fixation/N500_b0.35_m100_r0_sc0.01_dc0.5_L1e4_sp5e3_s1_post0/ --generations_post_fixation_threshold 0 --add_mutations_after_fixation True \n",
      "        done\n",
      "for j in 0 100 200 300 400 500 600 700 800 900 ; do \n",
      "        sleepy  --num_generations 100000000 --N 500 --m 100 --b 0.25 --gc 50 --r 0 --L 10000.0 --selection_coefficient 10 --dominance_coefficient 0.5 --selection_position 5000 --selection_activation_generation 1 --stop_after_mrca False --debug_print False --output_name run_$(($i+$j)) --output_directory ./fixation/N500_b0.25_m100_r0_sc10_dc0.5_L1e4_sp5e3_s1_post0/ --generations_post_fixation_threshold 0 --add_mutations_after_fixation True \n",
      "        done\n",
      "for j in 0 100 200 300 400 500 600 700 800 900 ; do \n",
      "        sleepy  --num_generations 100000000 --N 500 --m 100 --b 0.25 --gc 50 --r 0 --L 10000.0 --selection_coefficient 1 --dominance_coefficient 0.5 --selection_position 5000 --selection_activation_generation 1 --stop_after_mrca False --debug_print False --output_name run_$(($i+$j)) --output_directory ./fixation/N500_b0.25_m100_r0_sc1_dc0.5_L1e4_sp5e3_s1_post0/ --generations_post_fixation_threshold 0 --add_mutations_after_fixation True \n",
      "        done\n",
      "for j in 0 100 200 300 400 500 600 700 800 900 ; do \n",
      "        sleepy  --num_generations 100000000 --N 500 --m 100 --b 0.25 --gc 50 --r 0 --L 10000.0 --selection_coefficient 0.1 --dominance_coefficient 0.5 --selection_position 5000 --selection_activation_generation 1 --stop_after_mrca False --debug_print False --output_name run_$(($i+$j)) --output_directory ./fixation/N500_b0.25_m100_r0_sc0.1_dc0.5_L1e4_sp5e3_s1_post0/ --generations_post_fixation_threshold 0 --add_mutations_after_fixation True \n",
      "        done\n",
      "for j in 0 100 200 300 400 500 600 700 800 900 ; do \n",
      "        sleepy  --num_generations 100000000 --N 500 --m 100 --b 0.25 --gc 50 --r 0 --L 10000.0 --selection_coefficient 0.01 --dominance_coefficient 0.5 --selection_position 5000 --selection_activation_generation 1 --stop_after_mrca False --debug_print False --output_name run_$(($i+$j)) --output_directory ./fixation/N500_b0.25_m100_r0_sc0.01_dc0.5_L1e4_sp5e3_s1_post0/ --generations_post_fixation_threshold 0 --add_mutations_after_fixation True \n",
      "        done\n"
     ]
    }
   ],
   "source": [
    "for b in [1.0, 0.5, 0.35, 0.25]:\n",
    "    for c in [10, 1, 0.1, 0.01]: \n",
    "        output_directory = \"./fixation/N500_b\" + str(b) + \"_m100_r0_sc\" + str(c) + \"_dc0.5_L1e4_sp5e3_s1_post0/\"\n",
    "        sleepy(n_simulations=500, N=500, m=100, b=b, gc=50, r=0, L=1e4, \n",
    "                 s=str(c),d=\"0.5\", selection_position=\"5000\",\n",
    "                 stop_after_mrca=False, output_name=\"run\",\n",
    "                 selection_activation_generation=1, generations_post_fixation_threshold=0,\n",
    "                 output_directory=output_directory,n_parallel=5, continue_from=0, print_cmd=True, slurm=True, slurm_limit=1000, slurm_divide=10, slurm_start=0);"
   ]
  },
  {
   "cell_type": "markdown",
   "id": "crazy-plant",
   "metadata": {},
   "source": [
    "# 6. Probability fixation"
   ]
  },
  {
   "cell_type": "code",
   "execution_count": 23,
   "id": "oriented-symphony",
   "metadata": {},
   "outputs": [
    {
     "name": "stdout",
     "output_type": "stream",
     "text": [
      "for j in 0 100 200 300 400 500 600 700 800 900 ; do \n",
      "        sleepy  --num_generations 100000000 --N 500 --m 100 --b 1.0 --gc 50 --r 0 --L 10000.0 --selection_coefficient 0.2 --dominance_coefficient 0.5 --selection_position 5000 --selection_activation_generation 1 --stop_after_mrca False --debug_print False --output_name run_$(($i+$j)) --output_directory ./fixation/N500_b1.0_m100_r0_sc0.2_dc0.5_L1e4_sp5e3_s1_post0/ --generations_post_fixation_threshold 0 --add_mutations_after_fixation True \n",
      "        done\n",
      "for j in 0 100 200 300 400 500 600 700 800 900 ; do \n",
      "        sleepy  --num_generations 100000000 --N 500 --m 100 --b 1.0 --gc 50 --r 0 --L 10000.0 --selection_coefficient 0.4 --dominance_coefficient 0.5 --selection_position 5000 --selection_activation_generation 1 --stop_after_mrca False --debug_print False --output_name run_$(($i+$j)) --output_directory ./fixation/N500_b1.0_m100_r0_sc0.4_dc0.5_L1e4_sp5e3_s1_post0/ --generations_post_fixation_threshold 0 --add_mutations_after_fixation True \n",
      "        done\n",
      "for j in 0 100 200 300 400 500 600 700 800 900 ; do \n",
      "        sleepy  --num_generations 100000000 --N 500 --m 100 --b 1.0 --gc 50 --r 0 --L 10000.0 --selection_coefficient 0.6 --dominance_coefficient 0.5 --selection_position 5000 --selection_activation_generation 1 --stop_after_mrca False --debug_print False --output_name run_$(($i+$j)) --output_directory ./fixation/N500_b1.0_m100_r0_sc0.6_dc0.5_L1e4_sp5e3_s1_post0/ --generations_post_fixation_threshold 0 --add_mutations_after_fixation True \n",
      "        done\n",
      "for j in 0 100 200 300 400 500 600 700 800 900 ; do \n",
      "        sleepy  --num_generations 100000000 --N 500 --m 100 --b 1.0 --gc 50 --r 0 --L 10000.0 --selection_coefficient 0.8 --dominance_coefficient 0.5 --selection_position 5000 --selection_activation_generation 1 --stop_after_mrca False --debug_print False --output_name run_$(($i+$j)) --output_directory ./fixation/N500_b1.0_m100_r0_sc0.8_dc0.5_L1e4_sp5e3_s1_post0/ --generations_post_fixation_threshold 0 --add_mutations_after_fixation True \n",
      "        done\n",
      "for j in 0 100 200 300 400 500 600 700 800 900 ; do \n",
      "        sleepy  --num_generations 100000000 --N 500 --m 100 --b 1.0 --gc 50 --r 0 --L 10000.0 --selection_coefficient 1.5 --dominance_coefficient 0.5 --selection_position 5000 --selection_activation_generation 1 --stop_after_mrca False --debug_print False --output_name run_$(($i+$j)) --output_directory ./fixation/N500_b1.0_m100_r0_sc1.5_dc0.5_L1e4_sp5e3_s1_post0/ --generations_post_fixation_threshold 0 --add_mutations_after_fixation True \n",
      "        done\n",
      "for j in 0 100 200 300 400 500 600 700 800 900 ; do \n",
      "        sleepy  --num_generations 100000000 --N 500 --m 100 --b 1.0 --gc 50 --r 0 --L 10000.0 --selection_coefficient 2 --dominance_coefficient 0.5 --selection_position 5000 --selection_activation_generation 1 --stop_after_mrca False --debug_print False --output_name run_$(($i+$j)) --output_directory ./fixation/N500_b1.0_m100_r0_sc2_dc0.5_L1e4_sp5e3_s1_post0/ --generations_post_fixation_threshold 0 --add_mutations_after_fixation True \n",
      "        done\n",
      "for j in 0 100 200 300 400 500 600 700 800 900 ; do \n",
      "        sleepy  --num_generations 100000000 --N 500 --m 100 --b 1.0 --gc 50 --r 0 --L 10000.0 --selection_coefficient 3 --dominance_coefficient 0.5 --selection_position 5000 --selection_activation_generation 1 --stop_after_mrca False --debug_print False --output_name run_$(($i+$j)) --output_directory ./fixation/N500_b1.0_m100_r0_sc3_dc0.5_L1e4_sp5e3_s1_post0/ --generations_post_fixation_threshold 0 --add_mutations_after_fixation True \n",
      "        done\n",
      "for j in 0 100 200 300 400 500 600 700 800 900 ; do \n",
      "        sleepy  --num_generations 100000000 --N 500 --m 100 --b 1.0 --gc 50 --r 0 --L 10000.0 --selection_coefficient 4 --dominance_coefficient 0.5 --selection_position 5000 --selection_activation_generation 1 --stop_after_mrca False --debug_print False --output_name run_$(($i+$j)) --output_directory ./fixation/N500_b1.0_m100_r0_sc4_dc0.5_L1e4_sp5e3_s1_post0/ --generations_post_fixation_threshold 0 --add_mutations_after_fixation True \n",
      "        done\n",
      "for j in 0 100 200 300 400 500 600 700 800 900 ; do \n",
      "        sleepy  --num_generations 100000000 --N 500 --m 100 --b 1.0 --gc 50 --r 0 --L 10000.0 --selection_coefficient 5 --dominance_coefficient 0.5 --selection_position 5000 --selection_activation_generation 1 --stop_after_mrca False --debug_print False --output_name run_$(($i+$j)) --output_directory ./fixation/N500_b1.0_m100_r0_sc5_dc0.5_L1e4_sp5e3_s1_post0/ --generations_post_fixation_threshold 0 --add_mutations_after_fixation True \n",
      "        done\n",
      "for j in 0 100 200 300 400 500 600 700 800 900 ; do \n",
      "        sleepy  --num_generations 100000000 --N 500 --m 100 --b 0.5 --gc 50 --r 0 --L 10000.0 --selection_coefficient 0.2 --dominance_coefficient 0.5 --selection_position 5000 --selection_activation_generation 1 --stop_after_mrca False --debug_print False --output_name run_$(($i+$j)) --output_directory ./fixation/N500_b0.5_m100_r0_sc0.2_dc0.5_L1e4_sp5e3_s1_post0/ --generations_post_fixation_threshold 0 --add_mutations_after_fixation True \n",
      "        done\n",
      "for j in 0 100 200 300 400 500 600 700 800 900 ; do \n",
      "        sleepy  --num_generations 100000000 --N 500 --m 100 --b 0.5 --gc 50 --r 0 --L 10000.0 --selection_coefficient 0.4 --dominance_coefficient 0.5 --selection_position 5000 --selection_activation_generation 1 --stop_after_mrca False --debug_print False --output_name run_$(($i+$j)) --output_directory ./fixation/N500_b0.5_m100_r0_sc0.4_dc0.5_L1e4_sp5e3_s1_post0/ --generations_post_fixation_threshold 0 --add_mutations_after_fixation True \n",
      "        done\n",
      "for j in 0 100 200 300 400 500 600 700 800 900 ; do \n",
      "        sleepy  --num_generations 100000000 --N 500 --m 100 --b 0.5 --gc 50 --r 0 --L 10000.0 --selection_coefficient 0.6 --dominance_coefficient 0.5 --selection_position 5000 --selection_activation_generation 1 --stop_after_mrca False --debug_print False --output_name run_$(($i+$j)) --output_directory ./fixation/N500_b0.5_m100_r0_sc0.6_dc0.5_L1e4_sp5e3_s1_post0/ --generations_post_fixation_threshold 0 --add_mutations_after_fixation True \n",
      "        done\n",
      "for j in 0 100 200 300 400 500 600 700 800 900 ; do \n",
      "        sleepy  --num_generations 100000000 --N 500 --m 100 --b 0.5 --gc 50 --r 0 --L 10000.0 --selection_coefficient 0.8 --dominance_coefficient 0.5 --selection_position 5000 --selection_activation_generation 1 --stop_after_mrca False --debug_print False --output_name run_$(($i+$j)) --output_directory ./fixation/N500_b0.5_m100_r0_sc0.8_dc0.5_L1e4_sp5e3_s1_post0/ --generations_post_fixation_threshold 0 --add_mutations_after_fixation True \n",
      "        done\n",
      "for j in 0 100 200 300 400 500 600 700 800 900 ; do \n",
      "        sleepy  --num_generations 100000000 --N 500 --m 100 --b 0.5 --gc 50 --r 0 --L 10000.0 --selection_coefficient 1.5 --dominance_coefficient 0.5 --selection_position 5000 --selection_activation_generation 1 --stop_after_mrca False --debug_print False --output_name run_$(($i+$j)) --output_directory ./fixation/N500_b0.5_m100_r0_sc1.5_dc0.5_L1e4_sp5e3_s1_post0/ --generations_post_fixation_threshold 0 --add_mutations_after_fixation True \n",
      "        done\n",
      "for j in 0 100 200 300 400 500 600 700 800 900 ; do \n",
      "        sleepy  --num_generations 100000000 --N 500 --m 100 --b 0.5 --gc 50 --r 0 --L 10000.0 --selection_coefficient 2 --dominance_coefficient 0.5 --selection_position 5000 --selection_activation_generation 1 --stop_after_mrca False --debug_print False --output_name run_$(($i+$j)) --output_directory ./fixation/N500_b0.5_m100_r0_sc2_dc0.5_L1e4_sp5e3_s1_post0/ --generations_post_fixation_threshold 0 --add_mutations_after_fixation True \n",
      "        done\n",
      "for j in 0 100 200 300 400 500 600 700 800 900 ; do \n",
      "        sleepy  --num_generations 100000000 --N 500 --m 100 --b 0.5 --gc 50 --r 0 --L 10000.0 --selection_coefficient 3 --dominance_coefficient 0.5 --selection_position 5000 --selection_activation_generation 1 --stop_after_mrca False --debug_print False --output_name run_$(($i+$j)) --output_directory ./fixation/N500_b0.5_m100_r0_sc3_dc0.5_L1e4_sp5e3_s1_post0/ --generations_post_fixation_threshold 0 --add_mutations_after_fixation True \n",
      "        done\n",
      "for j in 0 100 200 300 400 500 600 700 800 900 ; do \n",
      "        sleepy  --num_generations 100000000 --N 500 --m 100 --b 0.5 --gc 50 --r 0 --L 10000.0 --selection_coefficient 4 --dominance_coefficient 0.5 --selection_position 5000 --selection_activation_generation 1 --stop_after_mrca False --debug_print False --output_name run_$(($i+$j)) --output_directory ./fixation/N500_b0.5_m100_r0_sc4_dc0.5_L1e4_sp5e3_s1_post0/ --generations_post_fixation_threshold 0 --add_mutations_after_fixation True \n",
      "        done\n",
      "for j in 0 100 200 300 400 500 600 700 800 900 ; do \n",
      "        sleepy  --num_generations 100000000 --N 500 --m 100 --b 0.5 --gc 50 --r 0 --L 10000.0 --selection_coefficient 5 --dominance_coefficient 0.5 --selection_position 5000 --selection_activation_generation 1 --stop_after_mrca False --debug_print False --output_name run_$(($i+$j)) --output_directory ./fixation/N500_b0.5_m100_r0_sc5_dc0.5_L1e4_sp5e3_s1_post0/ --generations_post_fixation_threshold 0 --add_mutations_after_fixation True \n",
      "        done\n",
      "for j in 0 100 200 300 400 500 600 700 800 900 ; do \n",
      "        sleepy  --num_generations 100000000 --N 500 --m 100 --b 0.35 --gc 50 --r 0 --L 10000.0 --selection_coefficient 0.2 --dominance_coefficient 0.5 --selection_position 5000 --selection_activation_generation 1 --stop_after_mrca False --debug_print False --output_name run_$(($i+$j)) --output_directory ./fixation/N500_b0.35_m100_r0_sc0.2_dc0.5_L1e4_sp5e3_s1_post0/ --generations_post_fixation_threshold 0 --add_mutations_after_fixation True \n",
      "        done\n",
      "for j in 0 100 200 300 400 500 600 700 800 900 ; do \n",
      "        sleepy  --num_generations 100000000 --N 500 --m 100 --b 0.35 --gc 50 --r 0 --L 10000.0 --selection_coefficient 0.4 --dominance_coefficient 0.5 --selection_position 5000 --selection_activation_generation 1 --stop_after_mrca False --debug_print False --output_name run_$(($i+$j)) --output_directory ./fixation/N500_b0.35_m100_r0_sc0.4_dc0.5_L1e4_sp5e3_s1_post0/ --generations_post_fixation_threshold 0 --add_mutations_after_fixation True \n",
      "        done\n",
      "for j in 0 100 200 300 400 500 600 700 800 900 ; do \n",
      "        sleepy  --num_generations 100000000 --N 500 --m 100 --b 0.35 --gc 50 --r 0 --L 10000.0 --selection_coefficient 0.6 --dominance_coefficient 0.5 --selection_position 5000 --selection_activation_generation 1 --stop_after_mrca False --debug_print False --output_name run_$(($i+$j)) --output_directory ./fixation/N500_b0.35_m100_r0_sc0.6_dc0.5_L1e4_sp5e3_s1_post0/ --generations_post_fixation_threshold 0 --add_mutations_after_fixation True \n",
      "        done\n",
      "for j in 0 100 200 300 400 500 600 700 800 900 ; do \n",
      "        sleepy  --num_generations 100000000 --N 500 --m 100 --b 0.35 --gc 50 --r 0 --L 10000.0 --selection_coefficient 0.8 --dominance_coefficient 0.5 --selection_position 5000 --selection_activation_generation 1 --stop_after_mrca False --debug_print False --output_name run_$(($i+$j)) --output_directory ./fixation/N500_b0.35_m100_r0_sc0.8_dc0.5_L1e4_sp5e3_s1_post0/ --generations_post_fixation_threshold 0 --add_mutations_after_fixation True \n",
      "        done\n",
      "for j in 0 100 200 300 400 500 600 700 800 900 ; do \n",
      "        sleepy  --num_generations 100000000 --N 500 --m 100 --b 0.35 --gc 50 --r 0 --L 10000.0 --selection_coefficient 1.5 --dominance_coefficient 0.5 --selection_position 5000 --selection_activation_generation 1 --stop_after_mrca False --debug_print False --output_name run_$(($i+$j)) --output_directory ./fixation/N500_b0.35_m100_r0_sc1.5_dc0.5_L1e4_sp5e3_s1_post0/ --generations_post_fixation_threshold 0 --add_mutations_after_fixation True \n",
      "        done\n",
      "for j in 0 100 200 300 400 500 600 700 800 900 ; do \n",
      "        sleepy  --num_generations 100000000 --N 500 --m 100 --b 0.35 --gc 50 --r 0 --L 10000.0 --selection_coefficient 2 --dominance_coefficient 0.5 --selection_position 5000 --selection_activation_generation 1 --stop_after_mrca False --debug_print False --output_name run_$(($i+$j)) --output_directory ./fixation/N500_b0.35_m100_r0_sc2_dc0.5_L1e4_sp5e3_s1_post0/ --generations_post_fixation_threshold 0 --add_mutations_after_fixation True \n",
      "        done\n",
      "for j in 0 100 200 300 400 500 600 700 800 900 ; do \n",
      "        sleepy  --num_generations 100000000 --N 500 --m 100 --b 0.35 --gc 50 --r 0 --L 10000.0 --selection_coefficient 3 --dominance_coefficient 0.5 --selection_position 5000 --selection_activation_generation 1 --stop_after_mrca False --debug_print False --output_name run_$(($i+$j)) --output_directory ./fixation/N500_b0.35_m100_r0_sc3_dc0.5_L1e4_sp5e3_s1_post0/ --generations_post_fixation_threshold 0 --add_mutations_after_fixation True \n",
      "        done\n",
      "for j in 0 100 200 300 400 500 600 700 800 900 ; do \n",
      "        sleepy  --num_generations 100000000 --N 500 --m 100 --b 0.35 --gc 50 --r 0 --L 10000.0 --selection_coefficient 4 --dominance_coefficient 0.5 --selection_position 5000 --selection_activation_generation 1 --stop_after_mrca False --debug_print False --output_name run_$(($i+$j)) --output_directory ./fixation/N500_b0.35_m100_r0_sc4_dc0.5_L1e4_sp5e3_s1_post0/ --generations_post_fixation_threshold 0 --add_mutations_after_fixation True \n",
      "        done\n",
      "for j in 0 100 200 300 400 500 600 700 800 900 ; do \n",
      "        sleepy  --num_generations 100000000 --N 500 --m 100 --b 0.35 --gc 50 --r 0 --L 10000.0 --selection_coefficient 5 --dominance_coefficient 0.5 --selection_position 5000 --selection_activation_generation 1 --stop_after_mrca False --debug_print False --output_name run_$(($i+$j)) --output_directory ./fixation/N500_b0.35_m100_r0_sc5_dc0.5_L1e4_sp5e3_s1_post0/ --generations_post_fixation_threshold 0 --add_mutations_after_fixation True \n",
      "        done\n",
      "for j in 0 100 200 300 400 500 600 700 800 900 ; do \n",
      "        sleepy  --num_generations 100000000 --N 500 --m 100 --b 0.25 --gc 50 --r 0 --L 10000.0 --selection_coefficient 0.2 --dominance_coefficient 0.5 --selection_position 5000 --selection_activation_generation 1 --stop_after_mrca False --debug_print False --output_name run_$(($i+$j)) --output_directory ./fixation/N500_b0.25_m100_r0_sc0.2_dc0.5_L1e4_sp5e3_s1_post0/ --generations_post_fixation_threshold 0 --add_mutations_after_fixation True \n",
      "        done\n",
      "for j in 0 100 200 300 400 500 600 700 800 900 ; do \n",
      "        sleepy  --num_generations 100000000 --N 500 --m 100 --b 0.25 --gc 50 --r 0 --L 10000.0 --selection_coefficient 0.4 --dominance_coefficient 0.5 --selection_position 5000 --selection_activation_generation 1 --stop_after_mrca False --debug_print False --output_name run_$(($i+$j)) --output_directory ./fixation/N500_b0.25_m100_r0_sc0.4_dc0.5_L1e4_sp5e3_s1_post0/ --generations_post_fixation_threshold 0 --add_mutations_after_fixation True \n",
      "        done\n",
      "for j in 0 100 200 300 400 500 600 700 800 900 ; do \n",
      "        sleepy  --num_generations 100000000 --N 500 --m 100 --b 0.25 --gc 50 --r 0 --L 10000.0 --selection_coefficient 0.6 --dominance_coefficient 0.5 --selection_position 5000 --selection_activation_generation 1 --stop_after_mrca False --debug_print False --output_name run_$(($i+$j)) --output_directory ./fixation/N500_b0.25_m100_r0_sc0.6_dc0.5_L1e4_sp5e3_s1_post0/ --generations_post_fixation_threshold 0 --add_mutations_after_fixation True \n",
      "        done\n",
      "for j in 0 100 200 300 400 500 600 700 800 900 ; do \n",
      "        sleepy  --num_generations 100000000 --N 500 --m 100 --b 0.25 --gc 50 --r 0 --L 10000.0 --selection_coefficient 0.8 --dominance_coefficient 0.5 --selection_position 5000 --selection_activation_generation 1 --stop_after_mrca False --debug_print False --output_name run_$(($i+$j)) --output_directory ./fixation/N500_b0.25_m100_r0_sc0.8_dc0.5_L1e4_sp5e3_s1_post0/ --generations_post_fixation_threshold 0 --add_mutations_after_fixation True \n",
      "        done\n",
      "for j in 0 100 200 300 400 500 600 700 800 900 ; do \n",
      "        sleepy  --num_generations 100000000 --N 500 --m 100 --b 0.25 --gc 50 --r 0 --L 10000.0 --selection_coefficient 1.5 --dominance_coefficient 0.5 --selection_position 5000 --selection_activation_generation 1 --stop_after_mrca False --debug_print False --output_name run_$(($i+$j)) --output_directory ./fixation/N500_b0.25_m100_r0_sc1.5_dc0.5_L1e4_sp5e3_s1_post0/ --generations_post_fixation_threshold 0 --add_mutations_after_fixation True \n",
      "        done\n",
      "for j in 0 100 200 300 400 500 600 700 800 900 ; do \n",
      "        sleepy  --num_generations 100000000 --N 500 --m 100 --b 0.25 --gc 50 --r 0 --L 10000.0 --selection_coefficient 2 --dominance_coefficient 0.5 --selection_position 5000 --selection_activation_generation 1 --stop_after_mrca False --debug_print False --output_name run_$(($i+$j)) --output_directory ./fixation/N500_b0.25_m100_r0_sc2_dc0.5_L1e4_sp5e3_s1_post0/ --generations_post_fixation_threshold 0 --add_mutations_after_fixation True \n",
      "        done\n",
      "for j in 0 100 200 300 400 500 600 700 800 900 ; do \n",
      "        sleepy  --num_generations 100000000 --N 500 --m 100 --b 0.25 --gc 50 --r 0 --L 10000.0 --selection_coefficient 3 --dominance_coefficient 0.5 --selection_position 5000 --selection_activation_generation 1 --stop_after_mrca False --debug_print False --output_name run_$(($i+$j)) --output_directory ./fixation/N500_b0.25_m100_r0_sc3_dc0.5_L1e4_sp5e3_s1_post0/ --generations_post_fixation_threshold 0 --add_mutations_after_fixation True \n",
      "        done\n",
      "for j in 0 100 200 300 400 500 600 700 800 900 ; do \n",
      "        sleepy  --num_generations 100000000 --N 500 --m 100 --b 0.25 --gc 50 --r 0 --L 10000.0 --selection_coefficient 4 --dominance_coefficient 0.5 --selection_position 5000 --selection_activation_generation 1 --stop_after_mrca False --debug_print False --output_name run_$(($i+$j)) --output_directory ./fixation/N500_b0.25_m100_r0_sc4_dc0.5_L1e4_sp5e3_s1_post0/ --generations_post_fixation_threshold 0 --add_mutations_after_fixation True \n",
      "        done\n",
      "for j in 0 100 200 300 400 500 600 700 800 900 ; do \n",
      "        sleepy  --num_generations 100000000 --N 500 --m 100 --b 0.25 --gc 50 --r 0 --L 10000.0 --selection_coefficient 5 --dominance_coefficient 0.5 --selection_position 5000 --selection_activation_generation 1 --stop_after_mrca False --debug_print False --output_name run_$(($i+$j)) --output_directory ./fixation/N500_b0.25_m100_r0_sc5_dc0.5_L1e4_sp5e3_s1_post0/ --generations_post_fixation_threshold 0 --add_mutations_after_fixation True \n",
      "        done\n"
     ]
    }
   ],
   "source": [
    "for b in [1.0, 0.5, 0.35, 0.25]:\n",
    "    for c in [0.2, 0.4, 0.6, 0.8, 1.5, 2, 3, 4, 5]: \n",
    "        output_directory = \"./fixation/N500_b\" + str(b) + \"_m100_r0_sc\" + str(c) + \"_dc0.5_L1e4_sp5e3_s1_post0/\"\n",
    "        sleepy(n_simulations=500, N=500, m=100, b=b, gc=50, r=0, L=1e4,\n",
    "                 s=str(c),d=\"0.5\", selection_position=\"5000\",\n",
    "                 stop_after_mrca=False, output_name=\"run\",\n",
    "                 selection_activation_generation=1, generations_post_fixation_threshold=0,\n",
    "                 output_directory=output_directory,n_parallel=5, continue_from=0, print_cmd=True, slurm=True, slurm_limit=1000, slurm_divide=10, slurm_start=0);"
   ]
  },
  {
   "cell_type": "markdown",
   "id": "optical-weather",
   "metadata": {},
   "source": [
    "# 7. Dominance coefficient"
   ]
  },
  {
   "cell_type": "code",
   "execution_count": 28,
   "id": "balanced-trick",
   "metadata": {},
   "outputs": [
    {
     "name": "stdout",
     "output_type": "stream",
     "text": [
      "for j in 0 100 200 300 400 ; do \n",
      "        sleepy  --num_generations 1000000 --N 500 --m 100 --b 1.0 --gc 50 --r 5e-05 --L 10000.0 --selection_coefficient 1 --dominance_coefficient 0.1 --selection_position 5000 --selection_activation_generation 100000 --stop_after_mrca False --debug_print False --output_name run_$(($i+$j)) --output_directory ./dominance/N500_b1.0_m100_r5e-5_sc1_dc0.1_L1e4_sp5e3_s1/ --generations_post_fixation_threshold -1 --add_mutations_after_fixation True \n",
      "        done\n",
      "for j in 0 100 200 300 400 ; do \n",
      "        sleepy  --num_generations 1000000 --N 500 --m 100 --b 0.35 --gc 50 --r 5e-05 --L 10000.0 --selection_coefficient 1 --dominance_coefficient 0.1 --selection_position 5000 --selection_activation_generation 100000 --stop_after_mrca False --debug_print False --output_name run_$(($i+$j)) --output_directory ./dominance/N500_b0.35_m100_r5e-5_sc1_dc0.1_L1e4_sp5e3_s1/ --generations_post_fixation_threshold -1 --add_mutations_after_fixation True \n",
      "        done\n",
      "for j in 0 100 200 300 400 ; do \n",
      "        sleepy  --num_generations 1000000 --N 500 --m 100 --b 1.0 --gc 50 --r 5e-05 --L 10000.0 --selection_coefficient 1 --dominance_coefficient 0.5 --selection_position 5000 --selection_activation_generation 100000 --stop_after_mrca False --debug_print False --output_name run_$(($i+$j)) --output_directory ./dominance/N500_b1.0_m100_r5e-5_sc1_dc0.5_L1e4_sp5e3_s1/ --generations_post_fixation_threshold -1 --add_mutations_after_fixation True \n",
      "        done\n",
      "for j in 0 100 200 300 400 ; do \n",
      "        sleepy  --num_generations 1000000 --N 500 --m 100 --b 0.35 --gc 50 --r 5e-05 --L 10000.0 --selection_coefficient 1 --dominance_coefficient 0.5 --selection_position 5000 --selection_activation_generation 100000 --stop_after_mrca False --debug_print False --output_name run_$(($i+$j)) --output_directory ./dominance/N500_b0.35_m100_r5e-5_sc1_dc0.5_L1e4_sp5e3_s1/ --generations_post_fixation_threshold -1 --add_mutations_after_fixation True \n",
      "        done\n",
      "for j in 0 100 200 300 400 ; do \n",
      "        sleepy  --num_generations 1000000 --N 500 --m 100 --b 1.0 --gc 50 --r 5e-05 --L 10000.0 --selection_coefficient 1 --dominance_coefficient 1.1 --selection_position 5000 --selection_activation_generation 100000 --stop_after_mrca False --debug_print False --output_name run_$(($i+$j)) --output_directory ./dominance/N500_b1.0_m100_r5e-5_sc1_dc1.1_L1e4_sp5e3_s1/ --generations_post_fixation_threshold -1 --add_mutations_after_fixation True \n",
      "        done\n",
      "for j in 0 100 200 300 400 ; do \n",
      "        sleepy  --num_generations 1000000 --N 500 --m 100 --b 0.35 --gc 50 --r 5e-05 --L 10000.0 --selection_coefficient 1 --dominance_coefficient 1.1 --selection_position 5000 --selection_activation_generation 100000 --stop_after_mrca False --debug_print False --output_name run_$(($i+$j)) --output_directory ./dominance/N500_b0.35_m100_r5e-5_sc1_dc1.1_L1e4_sp5e3_s1/ --generations_post_fixation_threshold -1 --add_mutations_after_fixation True \n",
      "        done\n"
     ]
    }
   ],
   "source": [
    "for d in [0.1, 0.5, 1.1]: \n",
    "    for b in [1.0, 0.35]:\n",
    "        output_directory = \"./dominance/N500_b\" + str(b) + \"_m100_r5e-5_sc1_dc\" + str(d) + \"_L1e4_sp5e3_s1/\"\n",
    "        sleepy(n_simulations=100, num_generations=1000000, N=500, m=100, b=b, gc=50, r=5e-5, L=1e4, \n",
    "                 s=\"1\",d=d, selection_position=\"5000\",\n",
    "                 stop_after_mrca=False, output_name=\"run\",\n",
    "                 selection_activation_generation=100000, generations_post_fixation_threshold=-1,\n",
    "                 output_directory=output_directory,n_parallel=10, continue_from=0, print_cmd=True, slurm=True, slurm_limit=500, slurm_divide=5);"
   ]
  }
 ],
 "metadata": {
  "kernelspec": {
   "display_name": "Python 3",
   "language": "python",
   "name": "python3"
  },
  "language_info": {
   "codemirror_mode": {
    "name": "ipython",
    "version": 3
   },
   "file_extension": ".py",
   "mimetype": "text/x-python",
   "name": "python",
   "nbconvert_exporter": "python",
   "pygments_lexer": "ipython3",
   "version": "3.8.5"
  }
 },
 "nbformat": 4,
 "nbformat_minor": 5
}
