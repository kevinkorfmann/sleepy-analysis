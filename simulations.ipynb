{
 "cells": [
  {
   "cell_type": "code",
   "execution_count": 1,
   "id": "surface-minister",
   "metadata": {},
   "outputs": [],
   "source": [
    "from utils import *"
   ]
  },
  {
   "cell_type": "markdown",
   "id": "democratic-consolidation",
   "metadata": {},
   "source": [
    "# 1. TMRCA"
   ]
  },
  {
   "cell_type": "code",
   "execution_count": 12,
   "id": "higher-enforcement",
   "metadata": {},
   "outputs": [
    {
     "name": "stdout",
     "output_type": "stream",
     "text": [
      "for j in 0 100 200 300 ; do \n",
      "        sleepy  --num_generations 100000000 --N 500 --m 100 --b 1.0 --gc 50 --mu 0 --r 0 --L 10000.0 --mu_selection_rates 0 --selection_coefficients 0 --dominance_coefficients 0 --selection_positions 0 --selection_activation_generation 0 --percent_fixed 1 --mutation_in_seeds True --stop_after_mrca True --debug_print False --output_name run_$(($i+$j)) --output_directory ./tmrca/N500_b1.0_m100_mu0_r0_mus0_sc0_dc0_L1e4_sp0_s1/ --generations_post_fixation_threshold -1 --add_mutations_after_fixation True \n",
      "        done\n",
      "for j in 0 100 200 300 ; do \n",
      "        sleepy  --num_generations 100000000 --N 500 --m 100 --b 0.5 --gc 50 --mu 0 --r 0 --L 10000.0 --mu_selection_rates 0 --selection_coefficients 0 --dominance_coefficients 0 --selection_positions 0 --selection_activation_generation 0 --percent_fixed 1 --mutation_in_seeds True --stop_after_mrca True --debug_print False --output_name run_$(($i+$j)) --output_directory ./tmrca/N500_b0.5_m100_mu0_r0_mus0_sc0_dc0_L1e4_sp0_s1/ --generations_post_fixation_threshold -1 --add_mutations_after_fixation True \n",
      "        done\n",
      "for j in 0 100 200 300 ; do \n",
      "        sleepy  --num_generations 100000000 --N 500 --m 100 --b 0.35 --gc 50 --mu 0 --r 0 --L 10000.0 --mu_selection_rates 0 --selection_coefficients 0 --dominance_coefficients 0 --selection_positions 0 --selection_activation_generation 0 --percent_fixed 1 --mutation_in_seeds True --stop_after_mrca True --debug_print False --output_name run_$(($i+$j)) --output_directory ./tmrca/N500_b0.35_m100_mu0_r0_mus0_sc0_dc0_L1e4_sp0_s1/ --generations_post_fixation_threshold -1 --add_mutations_after_fixation True \n",
      "        done\n",
      "for j in 0 100 200 300 ; do \n",
      "        sleepy  --num_generations 100000000 --N 500 --m 100 --b 0.25 --gc 50 --mu 0 --r 0 --L 10000.0 --mu_selection_rates 0 --selection_coefficients 0 --dominance_coefficients 0 --selection_positions 0 --selection_activation_generation 0 --percent_fixed 1 --mutation_in_seeds True --stop_after_mrca True --debug_print False --output_name run_$(($i+$j)) --output_directory ./tmrca/N500_b0.25_m100_mu0_r0_mus0_sc0_dc0_L1e4_sp0_s1/ --generations_post_fixation_threshold -1 --add_mutations_after_fixation True \n",
      "        done\n",
      "for j in 0 100 200 300 ; do \n",
      "        sleepy  --num_generations 100000000 --N 500 --m 100 --b 1.0 --gc 50 --mu 0 --r 5e-05 --L 10000.0 --mu_selection_rates 0 --selection_coefficients 0 --dominance_coefficients 0 --selection_positions 0 --selection_activation_generation 0 --percent_fixed 1 --mutation_in_seeds True --stop_after_mrca True --debug_print False --output_name run_$(($i+$j)) --output_directory ./tmrca/N500_b1.0_m100_mu0_r5e-05_mus0_sc0_dc0_L1e4_sp0_s1/ --generations_post_fixation_threshold -1 --add_mutations_after_fixation True \n",
      "        done\n",
      "for j in 0 100 200 300 ; do \n",
      "        sleepy  --num_generations 100000000 --N 500 --m 100 --b 0.5 --gc 50 --mu 0 --r 5e-05 --L 10000.0 --mu_selection_rates 0 --selection_coefficients 0 --dominance_coefficients 0 --selection_positions 0 --selection_activation_generation 0 --percent_fixed 1 --mutation_in_seeds True --stop_after_mrca True --debug_print False --output_name run_$(($i+$j)) --output_directory ./tmrca/N500_b0.5_m100_mu0_r5e-05_mus0_sc0_dc0_L1e4_sp0_s1/ --generations_post_fixation_threshold -1 --add_mutations_after_fixation True \n",
      "        done\n",
      "for j in 0 100 200 300 ; do \n",
      "        sleepy  --num_generations 100000000 --N 500 --m 100 --b 0.35 --gc 50 --mu 0 --r 5e-05 --L 10000.0 --mu_selection_rates 0 --selection_coefficients 0 --dominance_coefficients 0 --selection_positions 0 --selection_activation_generation 0 --percent_fixed 1 --mutation_in_seeds True --stop_after_mrca True --debug_print False --output_name run_$(($i+$j)) --output_directory ./tmrca/N500_b0.35_m100_mu0_r5e-05_mus0_sc0_dc0_L1e4_sp0_s1/ --generations_post_fixation_threshold -1 --add_mutations_after_fixation True \n",
      "        done\n",
      "for j in 0 100 200 300 ; do \n",
      "        sleepy  --num_generations 100000000 --N 500 --m 100 --b 0.25 --gc 50 --mu 0 --r 5e-05 --L 10000.0 --mu_selection_rates 0 --selection_coefficients 0 --dominance_coefficients 0 --selection_positions 0 --selection_activation_generation 0 --percent_fixed 1 --mutation_in_seeds True --stop_after_mrca True --debug_print False --output_name run_$(($i+$j)) --output_directory ./tmrca/N500_b0.25_m100_mu0_r5e-05_mus0_sc0_dc0_L1e4_sp0_s1/ --generations_post_fixation_threshold -1 --add_mutations_after_fixation True \n",
      "        done\n",
      "for j in 0 100 200 300 ; do \n",
      "        sleepy  --num_generations 100000000 --N 500 --m 100 --b 1.0 --gc 50 --mu 0 --r 1e-06 --L 10000.0 --mu_selection_rates 0 --selection_coefficients 0 --dominance_coefficients 0 --selection_positions 0 --selection_activation_generation 0 --percent_fixed 1 --mutation_in_seeds True --stop_after_mrca True --debug_print False --output_name run_$(($i+$j)) --output_directory ./tmrca/N500_b1.0_m100_mu0_r1e-06_mus0_sc0_dc0_L1e4_sp0_s1/ --generations_post_fixation_threshold -1 --add_mutations_after_fixation True \n",
      "        done\n",
      "for j in 0 100 200 300 ; do \n",
      "        sleepy  --num_generations 100000000 --N 500 --m 100 --b 0.5 --gc 50 --mu 0 --r 1e-06 --L 10000.0 --mu_selection_rates 0 --selection_coefficients 0 --dominance_coefficients 0 --selection_positions 0 --selection_activation_generation 0 --percent_fixed 1 --mutation_in_seeds True --stop_after_mrca True --debug_print False --output_name run_$(($i+$j)) --output_directory ./tmrca/N500_b0.5_m100_mu0_r1e-06_mus0_sc0_dc0_L1e4_sp0_s1/ --generations_post_fixation_threshold -1 --add_mutations_after_fixation True \n",
      "        done\n",
      "for j in 0 100 200 300 ; do \n",
      "        sleepy  --num_generations 100000000 --N 500 --m 100 --b 0.35 --gc 50 --mu 0 --r 1e-06 --L 10000.0 --mu_selection_rates 0 --selection_coefficients 0 --dominance_coefficients 0 --selection_positions 0 --selection_activation_generation 0 --percent_fixed 1 --mutation_in_seeds True --stop_after_mrca True --debug_print False --output_name run_$(($i+$j)) --output_directory ./tmrca/N500_b0.35_m100_mu0_r1e-06_mus0_sc0_dc0_L1e4_sp0_s1/ --generations_post_fixation_threshold -1 --add_mutations_after_fixation True \n",
      "        done\n",
      "for j in 0 100 200 300 ; do \n",
      "        sleepy  --num_generations 100000000 --N 500 --m 100 --b 0.25 --gc 50 --mu 0 --r 1e-06 --L 10000.0 --mu_selection_rates 0 --selection_coefficients 0 --dominance_coefficients 0 --selection_positions 0 --selection_activation_generation 0 --percent_fixed 1 --mutation_in_seeds True --stop_after_mrca True --debug_print False --output_name run_$(($i+$j)) --output_directory ./tmrca/N500_b0.25_m100_mu0_r1e-06_mus0_sc0_dc0_L1e4_sp0_s1/ --generations_post_fixation_threshold -1 --add_mutations_after_fixation True \n",
      "        done\n"
     ]
    }
   ],
   "source": [
    "for r in [0, 5e-5, 1e-6,]: \n",
    "    for i in [1.0, 0.5, 0.35, 0.25]: \n",
    "        output_directory = \"./tmrca/N500_b\" + str(i) + \"_m100_mu0_r\" + str(r) + \"_mus0_sc0_dc0_L1e4_sp0_s1/\"\n",
    "        sleepy(n_simulations=5, num_generations=100000000, N=500, m=100, b=i, gc=50, mu=0, r=r, L=1e4, mu_selection_rates=\"0\", \n",
    "                 selection_coefficients=\"0\",dominance_coefficients=\"0\", selection_positions=\"0\",\n",
    "                 mutation_in_seeds=True, stop_after_mrca=True, debug_print=False, output_name=\"run\",\n",
    "                 selection_activation_generation=0, generations_post_fixation_threshold=-1,\n",
    "                 output_directory=output_directory, n_parallel=1, continue_from=0, print_cmd=True, slurm=True, slurm_limit=400, slurm_divide=4);"
   ]
  },
  {
   "cell_type": "markdown",
   "id": "changed-equality",
   "metadata": {},
   "source": [
    "# 2. LD\n",
    "\n",
    "Implicitly in TMRCA:\n",
    "\n",
    "```python\n",
    "for r in [1e-6,]:    \n",
    "    for i in [1.0, 0.5, 0.35, 0.25]:     \n",
    "        output_directory = \"./tmrca/N500_b\" + str(i) + \"_m100_mu0_r\" + str(r) + \"_mus0_sc0_dc0_L1e4_sp0_s1/\"   \n",
    "```"
   ]
  },
  {
   "cell_type": "markdown",
   "id": "proud-duration",
   "metadata": {},
   "source": [
    "# 3.1 Sweeps (germination rate and selection coefficient)"
   ]
  },
  {
   "cell_type": "code",
   "execution_count": 8,
   "id": "rubber-brighton",
   "metadata": {},
   "outputs": [
    {
     "name": "stdout",
     "output_type": "stream",
     "text": [
      "for j in 0 ; do \n",
      "        sleepy  --num_generations 100000000 --N 500 --m 100 --b 1.0 --gc 50 --mu 0 --r 5e-05 --L 10000.0 --mu_selection_rates 5e-10 --selection_coefficients 2.0 --dominance_coefficients 0.5 --selection_positions 5000 --selection_activation_generation 100000 --percent_fixed 1 --mutation_in_seeds True --stop_after_mrca False --debug_print False --output_name run_$(($i+$j)) --output_directory ./sweep/N500_b1.0_m100_mu0_r5e-5_mus5e-10_sc2.0_dc0.5_L1e4_sp5e3_s1_post0/ --generations_post_fixation_threshold -1 --add_mutations_after_fixation True \n",
      "        done\n",
      "for j in 0 ; do \n",
      "        sleepy  --num_generations 100000000 --N 500 --m 100 --b 1.0 --gc 50 --mu 0 --r 5e-05 --L 10000.0 --mu_selection_rates 5e-10 --selection_coefficients 1.0 --dominance_coefficients 0.5 --selection_positions 5000 --selection_activation_generation 100000 --percent_fixed 1 --mutation_in_seeds True --stop_after_mrca False --debug_print False --output_name run_$(($i+$j)) --output_directory ./sweep/N500_b1.0_m100_mu0_r5e-5_mus5e-10_sc1.0_dc0.5_L1e4_sp5e3_s1_post0/ --generations_post_fixation_threshold -1 --add_mutations_after_fixation True \n",
      "        done\n",
      "for j in 0 ; do \n",
      "        sleepy  --num_generations 100000000 --N 500 --m 100 --b 1.0 --gc 50 --mu 0 --r 5e-05 --L 10000.0 --mu_selection_rates 5e-10 --selection_coefficients 0.5 --dominance_coefficients 0.5 --selection_positions 5000 --selection_activation_generation 100000 --percent_fixed 1 --mutation_in_seeds True --stop_after_mrca False --debug_print False --output_name run_$(($i+$j)) --output_directory ./sweep/N500_b1.0_m100_mu0_r5e-5_mus5e-10_sc0.5_dc0.5_L1e4_sp5e3_s1_post0/ --generations_post_fixation_threshold -1 --add_mutations_after_fixation True \n",
      "        done\n",
      "for j in 0 ; do \n",
      "        sleepy  --num_generations 100000000 --N 500 --m 100 --b 0.35 --gc 50 --mu 0 --r 5e-05 --L 10000.0 --mu_selection_rates 5e-10 --selection_coefficients 2.0 --dominance_coefficients 0.5 --selection_positions 5000 --selection_activation_generation 100000 --percent_fixed 1 --mutation_in_seeds True --stop_after_mrca False --debug_print False --output_name run_$(($i+$j)) --output_directory ./sweep/N500_b0.35_m100_mu0_r5e-5_mus5e-10_sc2.0_dc0.5_L1e4_sp5e3_s1_post0/ --generations_post_fixation_threshold -1 --add_mutations_after_fixation True \n",
      "        done\n",
      "for j in 0 ; do \n",
      "        sleepy  --num_generations 100000000 --N 500 --m 100 --b 0.35 --gc 50 --mu 0 --r 5e-05 --L 10000.0 --mu_selection_rates 5e-10 --selection_coefficients 1.0 --dominance_coefficients 0.5 --selection_positions 5000 --selection_activation_generation 100000 --percent_fixed 1 --mutation_in_seeds True --stop_after_mrca False --debug_print False --output_name run_$(($i+$j)) --output_directory ./sweep/N500_b0.35_m100_mu0_r5e-5_mus5e-10_sc1.0_dc0.5_L1e4_sp5e3_s1_post0/ --generations_post_fixation_threshold -1 --add_mutations_after_fixation True \n",
      "        done\n",
      "for j in 0 ; do \n",
      "        sleepy  --num_generations 100000000 --N 500 --m 100 --b 0.35 --gc 50 --mu 0 --r 5e-05 --L 10000.0 --mu_selection_rates 5e-10 --selection_coefficients 0.5 --dominance_coefficients 0.5 --selection_positions 5000 --selection_activation_generation 100000 --percent_fixed 1 --mutation_in_seeds True --stop_after_mrca False --debug_print False --output_name run_$(($i+$j)) --output_directory ./sweep/N500_b0.35_m100_mu0_r5e-5_mus5e-10_sc0.5_dc0.5_L1e4_sp5e3_s1_post0/ --generations_post_fixation_threshold -1 --add_mutations_after_fixation True \n",
      "        done\n"
     ]
    }
   ],
   "source": [
    "for b in [1.0, 0.35]:\n",
    "    for c in [2.0, 1.0, 0.5]:\n",
    "        output_directory = \"./sweep/N500_b\" + str(b) + \"_m100_mu0_r5e-5_mus5e-10_sc\" + str(c) + \"_dc0.5_L1e4_sp5e3_s1_post0/\"\n",
    "        sleepy(n_simulations=100, num_generations=100000000, N=500, m=100, b=b, gc=50, mu=0, r=5e-5, L=1e4, mu_selection_rates=\"5e-10\", \n",
    "                 selection_coefficients=str(c),dominance_coefficients=\"0.5\", selection_positions=\"5000\",\n",
    "                 mutation_in_seeds=True, stop_after_mrca=False, debug_print=False, output_name=\"run\",\n",
    "                 selection_activation_generation=100000, generations_post_fixation_threshold=-1,\n",
    "                 output_directory=output_directory,n_parallel=10, continue_from=0, print_cmd=True, slurm=True, slurm_limit=100, slurm_divide=1);"
   ]
  },
  {
   "cell_type": "markdown",
   "id": "placed-wrapping",
   "metadata": {},
   "source": [
    "# 3.2 Sweeps (germination rate and recombination rate)"
   ]
  },
  {
   "cell_type": "code",
   "execution_count": 7,
   "id": "wireless-member",
   "metadata": {},
   "outputs": [
    {
     "name": "stdout",
     "output_type": "stream",
     "text": [
      "for j in 0 ; do \n",
      "        sleepy  --num_generations 1000000 --N 500 --m 100 --b 1.0 --gc 50 --mu 0 --r 0.0001 --L 10000.0 --mu_selection_rates 5e-10 --selection_coefficients 1 --dominance_coefficients 0.5 --selection_positions 5000 --selection_activation_generation 100000 --percent_fixed 1 --mutation_in_seeds True --stop_after_mrca False --debug_print False --output_name run_$(($i+$j)) --output_directory ./sweep/N500_b1.0_m100_mu0_r0.0001_mus5e-10_sc1_dc0.5_L1e4_sp5e3_s1/ --generations_post_fixation_threshold -1 --add_mutations_after_fixation True \n",
      "        done\n",
      "for j in 0 ; do \n",
      "        sleepy  --num_generations 1000000 --N 500 --m 100 --b 0.35 --gc 50 --mu 0 --r 0.0001 --L 10000.0 --mu_selection_rates 5e-10 --selection_coefficients 1 --dominance_coefficients 0.5 --selection_positions 5000 --selection_activation_generation 100000 --percent_fixed 1 --mutation_in_seeds True --stop_after_mrca False --debug_print False --output_name run_$(($i+$j)) --output_directory ./sweep/N500_b0.35_m100_mu0_r0.0001_mus5e-10_sc1_dc0.5_L1e4_sp5e3_s1/ --generations_post_fixation_threshold -1 --add_mutations_after_fixation True \n",
      "        done\n",
      "for j in 0 ; do \n",
      "        sleepy  --num_generations 1000000 --N 500 --m 100 --b 1.0 --gc 50 --mu 0 --r 1e-05 --L 10000.0 --mu_selection_rates 5e-10 --selection_coefficients 1 --dominance_coefficients 0.5 --selection_positions 5000 --selection_activation_generation 100000 --percent_fixed 1 --mutation_in_seeds True --stop_after_mrca False --debug_print False --output_name run_$(($i+$j)) --output_directory ./sweep/N500_b1.0_m100_mu0_r1e-05_mus5e-10_sc1_dc0.5_L1e4_sp5e3_s1/ --generations_post_fixation_threshold -1 --add_mutations_after_fixation True \n",
      "        done\n",
      "for j in 0 ; do \n",
      "        sleepy  --num_generations 1000000 --N 500 --m 100 --b 0.35 --gc 50 --mu 0 --r 1e-05 --L 10000.0 --mu_selection_rates 5e-10 --selection_coefficients 1 --dominance_coefficients 0.5 --selection_positions 5000 --selection_activation_generation 100000 --percent_fixed 1 --mutation_in_seeds True --stop_after_mrca False --debug_print False --output_name run_$(($i+$j)) --output_directory ./sweep/N500_b0.35_m100_mu0_r1e-05_mus5e-10_sc1_dc0.5_L1e4_sp5e3_s1/ --generations_post_fixation_threshold -1 --add_mutations_after_fixation True \n",
      "        done\n"
     ]
    }
   ],
   "source": [
    "for r in [1e-4, 1e-5]: #5e-5\n",
    "    for b in [1.0, 0.35]:\n",
    "        output_directory = \"./sweep/N500_b\" + str(b) + \"_m100_mu0_r\" + str(r) + \"_mus5e-10_sc1_dc0.5_L1e4_sp5e3_s1/\"\n",
    "        sleepy(n_simulations=100, num_generations=1000000, N=500, m=100, b=b, gc=50, mu=0, r=r, L=1e4, mu_selection_rates=\"5e-10\", \n",
    "                 selection_coefficients=\"1\",dominance_coefficients=\"0.5\", selection_positions=\"5000\",\n",
    "                 mutation_in_seeds=True, stop_after_mrca=False, debug_print=False, output_name=\"run\",\n",
    "                 selection_activation_generation=100000, generations_post_fixation_threshold=-1,\n",
    "                 output_directory=output_directory,n_parallel=10, continue_from=0, print_cmd=True, slurm=True, slurm_limit=100, slurm_divide=1);"
   ]
  },
  {
   "cell_type": "markdown",
   "id": "affecting-plane",
   "metadata": {},
   "source": [
    "# 3.3 Sweeps (N Rescaling)"
   ]
  },
  {
   "cell_type": "code",
   "execution_count": 10,
   "id": "electoral-nickname",
   "metadata": {},
   "outputs": [
    {
     "name": "stdout",
     "output_type": "stream",
     "text": [
      "for j in 0 ; do \n",
      "        sleepy  --num_generations 1000000 --N 1000 --m 100 --b 1.0 --gc 50 --mu 0 --r 5e-05 --L 10000.0 --mu_selection_rates 5e-10 --selection_coefficients 1 --dominance_coefficients 0.5 --selection_positions 5000 --selection_activation_generation 100000 --percent_fixed 1 --mutation_in_seeds True --stop_after_mrca False --debug_print False --output_name run_$(($i+$j)) --output_directory ./sweep/N1000_b1.0_m100_mu0_r5e-5_mus5e-10_sc1_dc0.5_L1e4_sp5e3_s1/ --generations_post_fixation_threshold -1 --add_mutations_after_fixation True \n",
      "        done\n",
      "for j in 0 ; do \n",
      "        sleepy  --num_generations 1000000 --N 2000 --m 100 --b 1.0 --gc 50 --mu 0 --r 5e-05 --L 10000.0 --mu_selection_rates 5e-10 --selection_coefficients 1 --dominance_coefficients 0.5 --selection_positions 5000 --selection_activation_generation 100000 --percent_fixed 1 --mutation_in_seeds True --stop_after_mrca False --debug_print False --output_name run_$(($i+$j)) --output_directory ./sweep/N2000_b1.0_m100_mu0_r5e-5_mus5e-10_sc1_dc0.5_L1e4_sp5e3_s1/ --generations_post_fixation_threshold -1 --add_mutations_after_fixation True \n",
      "        done\n",
      "for j in 0 ; do \n",
      "        sleepy  --num_generations 1000000 --N 4000 --m 100 --b 1.0 --gc 50 --mu 0 --r 5e-05 --L 10000.0 --mu_selection_rates 5e-10 --selection_coefficients 1 --dominance_coefficients 0.5 --selection_positions 5000 --selection_activation_generation 100000 --percent_fixed 1 --mutation_in_seeds True --stop_after_mrca False --debug_print False --output_name run_$(($i+$j)) --output_directory ./sweep/N4000_b1.0_m100_mu0_r5e-5_mus5e-10_sc1_dc0.5_L1e4_sp5e3_s1/ --generations_post_fixation_threshold -1 --add_mutations_after_fixation True \n",
      "        done\n",
      "for j in 0 ; do \n",
      "        sleepy  --num_generations 1000000 --N 8000 --m 100 --b 1.0 --gc 50 --mu 0 --r 5e-05 --L 10000.0 --mu_selection_rates 5e-10 --selection_coefficients 1 --dominance_coefficients 0.5 --selection_positions 5000 --selection_activation_generation 100000 --percent_fixed 1 --mutation_in_seeds True --stop_after_mrca False --debug_print False --output_name run_$(($i+$j)) --output_directory ./sweep/N8000_b1.0_m100_mu0_r5e-5_mus5e-10_sc1_dc0.5_L1e4_sp5e3_s1/ --generations_post_fixation_threshold -1 --add_mutations_after_fixation True \n",
      "        done\n"
     ]
    }
   ],
   "source": [
    "for N in [1000, 2000, 4000, 8000]:\n",
    "    for b in [1.0]:\n",
    "        output_directory = \"./sweep/N\" + str(N) + \"_b\" + str(b) + \"_m100_mu0_r5e-5_mus5e-10_sc1_dc0.5_L1e4_sp5e3_s1/\"\n",
    "        sleepy(n_simulations=200, num_generations=1000000, N=N, m=100, b=b, gc=50, mu=0, r=5e-5, L=1e4, mu_selection_rates=\"5e-10\", \n",
    "                 selection_coefficients=\"1\",dominance_coefficients=\"0.5\", selection_positions=\"5000\",\n",
    "                 mutation_in_seeds=True, stop_after_mrca=False, debug_print=False, output_name=\"run\",\n",
    "                 selection_activation_generation=100000, generations_post_fixation_threshold=-1,\n",
    "                 output_directory=output_directory,n_parallel=10, continue_from=0, print_cmd=True, slurm=True, slurm_limit=100, slurm_divide=1);"
   ]
  },
  {
   "cell_type": "markdown",
   "id": "passing-carnival",
   "metadata": {},
   "source": [
    "# 4. Recovery "
   ]
  },
  {
   "cell_type": "code",
   "execution_count": 2,
   "id": "coral-medium",
   "metadata": {},
   "outputs": [
    {
     "name": "stdout",
     "output_type": "stream",
     "text": [
      "for j in 0 100 200 300 ; do \n",
      "        sleepy  --num_generations 1000000 --N 500 --m 100 --b 1.0 --gc 50 --mu 0 --r 5e-05 --L 10000.0 --mu_selection_rates 5e-10 --selection_coefficients 1 --dominance_coefficients 0.5 --selection_positions 5000 --selection_activation_generation 100000 --percent_fixed 1 --mutation_in_seeds True --stop_after_mrca False --debug_print False --output_name run_$(($i+$j)) --output_directory ./recovery_sweep/N500_b1.0_m100_mu0_r5e-5_mus5e-10_sc1_dc0.5_L1e4_sp5e3_s1_recov0/ --generations_post_fixation_threshold 0 --add_mutations_after_fixation False \n",
      "        done\n",
      "for j in 0 100 200 300 ; do \n",
      "        sleepy  --num_generations 1000000 --N 500 --m 100 --b 1.0 --gc 50 --mu 0 --r 5e-05 --L 10000.0 --mu_selection_rates 5e-10 --selection_coefficients 1 --dominance_coefficients 0.5 --selection_positions 5000 --selection_activation_generation 100000 --percent_fixed 1 --mutation_in_seeds True --stop_after_mrca False --debug_print False --output_name run_$(($i+$j)) --output_directory ./recovery_sweep/N500_b1.0_m100_mu0_r5e-5_mus5e-10_sc1_dc0.5_L1e4_sp5e3_s1_recov500/ --generations_post_fixation_threshold 500 --add_mutations_after_fixation False \n",
      "        done\n",
      "for j in 0 100 200 300 ; do \n",
      "        sleepy  --num_generations 1000000 --N 500 --m 100 --b 1.0 --gc 50 --mu 0 --r 5e-05 --L 10000.0 --mu_selection_rates 5e-10 --selection_coefficients 1 --dominance_coefficients 0.5 --selection_positions 5000 --selection_activation_generation 100000 --percent_fixed 1 --mutation_in_seeds True --stop_after_mrca False --debug_print False --output_name run_$(($i+$j)) --output_directory ./recovery_sweep/N500_b1.0_m100_mu0_r5e-5_mus5e-10_sc1_dc0.5_L1e4_sp5e3_s1_recov1000/ --generations_post_fixation_threshold 1000 --add_mutations_after_fixation False \n",
      "        done\n",
      "for j in 0 100 200 300 ; do \n",
      "        sleepy  --num_generations 1000000 --N 500 --m 100 --b 1.0 --gc 50 --mu 0 --r 5e-05 --L 10000.0 --mu_selection_rates 5e-10 --selection_coefficients 1 --dominance_coefficients 0.5 --selection_positions 5000 --selection_activation_generation 100000 --percent_fixed 1 --mutation_in_seeds True --stop_after_mrca False --debug_print False --output_name run_$(($i+$j)) --output_directory ./recovery_sweep/N500_b1.0_m100_mu0_r5e-5_mus5e-10_sc1_dc0.5_L1e4_sp5e3_s1_recov2000/ --generations_post_fixation_threshold 2000 --add_mutations_after_fixation False \n",
      "        done\n",
      "for j in 0 100 200 300 ; do \n",
      "        sleepy  --num_generations 1000000 --N 500 --m 100 --b 1.0 --gc 50 --mu 0 --r 5e-05 --L 10000.0 --mu_selection_rates 5e-10 --selection_coefficients 1 --dominance_coefficients 0.5 --selection_positions 5000 --selection_activation_generation 100000 --percent_fixed 1 --mutation_in_seeds True --stop_after_mrca False --debug_print False --output_name run_$(($i+$j)) --output_directory ./recovery_sweep/N500_b1.0_m100_mu0_r5e-5_mus5e-10_sc1_dc0.5_L1e4_sp5e3_s1_recov4000/ --generations_post_fixation_threshold 4000 --add_mutations_after_fixation False \n",
      "        done\n",
      "for j in 0 100 200 300 ; do \n",
      "        sleepy  --num_generations 1000000 --N 500 --m 100 --b 1.0 --gc 50 --mu 0 --r 5e-05 --L 10000.0 --mu_selection_rates 5e-10 --selection_coefficients 1 --dominance_coefficients 0.5 --selection_positions 5000 --selection_activation_generation 100000 --percent_fixed 1 --mutation_in_seeds True --stop_after_mrca False --debug_print False --output_name run_$(($i+$j)) --output_directory ./recovery_sweep/N500_b1.0_m100_mu0_r5e-5_mus5e-10_sc1_dc0.5_L1e4_sp5e3_s1_recov8000/ --generations_post_fixation_threshold 8000 --add_mutations_after_fixation False \n",
      "        done\n",
      "for j in 0 100 200 300 ; do \n",
      "        sleepy  --num_generations 1000000 --N 500 --m 100 --b 0.35 --gc 50 --mu 0 --r 5e-05 --L 10000.0 --mu_selection_rates 5e-10 --selection_coefficients 1 --dominance_coefficients 0.5 --selection_positions 5000 --selection_activation_generation 100000 --percent_fixed 1 --mutation_in_seeds True --stop_after_mrca False --debug_print False --output_name run_$(($i+$j)) --output_directory ./recovery_sweep/N500_b0.35_m100_mu0_r5e-5_mus5e-10_sc1_dc0.5_L1e4_sp5e3_s1_recov0/ --generations_post_fixation_threshold 0 --add_mutations_after_fixation False \n",
      "        done\n",
      "for j in 0 100 200 300 ; do \n",
      "        sleepy  --num_generations 1000000 --N 500 --m 100 --b 0.35 --gc 50 --mu 0 --r 5e-05 --L 10000.0 --mu_selection_rates 5e-10 --selection_coefficients 1 --dominance_coefficients 0.5 --selection_positions 5000 --selection_activation_generation 100000 --percent_fixed 1 --mutation_in_seeds True --stop_after_mrca False --debug_print False --output_name run_$(($i+$j)) --output_directory ./recovery_sweep/N500_b0.35_m100_mu0_r5e-5_mus5e-10_sc1_dc0.5_L1e4_sp5e3_s1_recov500/ --generations_post_fixation_threshold 500 --add_mutations_after_fixation False \n",
      "        done\n",
      "for j in 0 100 200 300 ; do \n",
      "        sleepy  --num_generations 1000000 --N 500 --m 100 --b 0.35 --gc 50 --mu 0 --r 5e-05 --L 10000.0 --mu_selection_rates 5e-10 --selection_coefficients 1 --dominance_coefficients 0.5 --selection_positions 5000 --selection_activation_generation 100000 --percent_fixed 1 --mutation_in_seeds True --stop_after_mrca False --debug_print False --output_name run_$(($i+$j)) --output_directory ./recovery_sweep/N500_b0.35_m100_mu0_r5e-5_mus5e-10_sc1_dc0.5_L1e4_sp5e3_s1_recov1000/ --generations_post_fixation_threshold 1000 --add_mutations_after_fixation False \n",
      "        done\n",
      "for j in 0 100 200 300 ; do \n",
      "        sleepy  --num_generations 1000000 --N 500 --m 100 --b 0.35 --gc 50 --mu 0 --r 5e-05 --L 10000.0 --mu_selection_rates 5e-10 --selection_coefficients 1 --dominance_coefficients 0.5 --selection_positions 5000 --selection_activation_generation 100000 --percent_fixed 1 --mutation_in_seeds True --stop_after_mrca False --debug_print False --output_name run_$(($i+$j)) --output_directory ./recovery_sweep/N500_b0.35_m100_mu0_r5e-5_mus5e-10_sc1_dc0.5_L1e4_sp5e3_s1_recov2000/ --generations_post_fixation_threshold 2000 --add_mutations_after_fixation False \n",
      "        done\n",
      "for j in 0 100 200 300 ; do \n",
      "        sleepy  --num_generations 1000000 --N 500 --m 100 --b 0.35 --gc 50 --mu 0 --r 5e-05 --L 10000.0 --mu_selection_rates 5e-10 --selection_coefficients 1 --dominance_coefficients 0.5 --selection_positions 5000 --selection_activation_generation 100000 --percent_fixed 1 --mutation_in_seeds True --stop_after_mrca False --debug_print False --output_name run_$(($i+$j)) --output_directory ./recovery_sweep/N500_b0.35_m100_mu0_r5e-5_mus5e-10_sc1_dc0.5_L1e4_sp5e3_s1_recov4000/ --generations_post_fixation_threshold 4000 --add_mutations_after_fixation False \n",
      "        done\n",
      "for j in 0 100 200 300 ; do \n",
      "        sleepy  --num_generations 1000000 --N 500 --m 100 --b 0.35 --gc 50 --mu 0 --r 5e-05 --L 10000.0 --mu_selection_rates 5e-10 --selection_coefficients 1 --dominance_coefficients 0.5 --selection_positions 5000 --selection_activation_generation 100000 --percent_fixed 1 --mutation_in_seeds True --stop_after_mrca False --debug_print False --output_name run_$(($i+$j)) --output_directory ./recovery_sweep/N500_b0.35_m100_mu0_r5e-5_mus5e-10_sc1_dc0.5_L1e4_sp5e3_s1_recov8000/ --generations_post_fixation_threshold 8000 --add_mutations_after_fixation False \n",
      "        done\n"
     ]
    }
   ],
   "source": [
    "for b in [1.0, 0.35]:\n",
    "    for recov in [0, 500, 1000, 2000, 4000, 8000]:\n",
    "        output_directory = \"./recovery_sweep/N500_b\" + str(b) + \"_m100_mu0_r5e-5_mus5e-10_sc1_dc0.5_L1e4_sp5e3_s1_recov\" +str(recov) + \"/\"\n",
    "        sleepy(n_simulations=5, num_generations=1000000, N=500, m=100, b=b, gc=50, mu=0, r=5e-5, L=1e4, mu_selection_rates=\"5e-10\", \n",
    "                 selection_coefficients=\"1\",dominance_coefficients=\"0.5\", selection_positions=\"5000\",\n",
    "                 mutation_in_seeds=True, stop_after_mrca=False, debug_print=False, output_name=\"run\",\n",
    "                 selection_activation_generation=100000, generations_post_fixation_threshold=recov, add_mutations_after_fixation=False,\n",
    "                 output_directory=output_directory, n_parallel=5, continue_from=0, print_cmd=True, slurm=True, slurm_limit=400, slurm_divide=4);"
   ]
  },
  {
   "cell_type": "markdown",
   "id": "retained-consortium",
   "metadata": {},
   "source": [
    "# 5. Time to fixation"
   ]
  },
  {
   "cell_type": "code",
   "execution_count": 11,
   "id": "suspected-biography",
   "metadata": {},
   "outputs": [
    {
     "name": "stdout",
     "output_type": "stream",
     "text": [
      "for j in 0 100 200 300 400 500 600 700 800 900 ; do \n",
      "        sleepy  --num_generations 100000000 --N 500 --m 100 --b 1.0 --gc 50 --mu 0 --r 0 --L 10000.0 --mu_selection_rates 5e-10 --selection_coefficients 10 --dominance_coefficients 0.5 --selection_positions 5000 --selection_activation_generation 1 --percent_fixed 1 --mutation_in_seeds True --stop_after_mrca False --debug_print False --output_name run_$(($i+$j)) --output_directory ./fixation/N500_b1.0_m100_mu0_r0_mus5e-10_sc10_dc0.5_L1e4_sp5e3_s1_post0/ --generations_post_fixation_threshold 0 --add_mutations_after_fixation True \n",
      "        done\n",
      "for j in 0 100 200 300 400 500 600 700 800 900 ; do \n",
      "        sleepy  --num_generations 100000000 --N 500 --m 100 --b 1.0 --gc 50 --mu 0 --r 0 --L 10000.0 --mu_selection_rates 5e-10 --selection_coefficients 1 --dominance_coefficients 0.5 --selection_positions 5000 --selection_activation_generation 1 --percent_fixed 1 --mutation_in_seeds True --stop_after_mrca False --debug_print False --output_name run_$(($i+$j)) --output_directory ./fixation/N500_b1.0_m100_mu0_r0_mus5e-10_sc1_dc0.5_L1e4_sp5e3_s1_post0/ --generations_post_fixation_threshold 0 --add_mutations_after_fixation True \n",
      "        done\n",
      "for j in 0 100 200 300 400 500 600 700 800 900 ; do \n",
      "        sleepy  --num_generations 100000000 --N 500 --m 100 --b 1.0 --gc 50 --mu 0 --r 0 --L 10000.0 --mu_selection_rates 5e-10 --selection_coefficients 0.1 --dominance_coefficients 0.5 --selection_positions 5000 --selection_activation_generation 1 --percent_fixed 1 --mutation_in_seeds True --stop_after_mrca False --debug_print False --output_name run_$(($i+$j)) --output_directory ./fixation/N500_b1.0_m100_mu0_r0_mus5e-10_sc0.1_dc0.5_L1e4_sp5e3_s1_post0/ --generations_post_fixation_threshold 0 --add_mutations_after_fixation True \n",
      "        done\n",
      "for j in 0 100 200 300 400 500 600 700 800 900 ; do \n",
      "        sleepy  --num_generations 100000000 --N 500 --m 100 --b 1.0 --gc 50 --mu 0 --r 0 --L 10000.0 --mu_selection_rates 5e-10 --selection_coefficients 0.01 --dominance_coefficients 0.5 --selection_positions 5000 --selection_activation_generation 1 --percent_fixed 1 --mutation_in_seeds True --stop_after_mrca False --debug_print False --output_name run_$(($i+$j)) --output_directory ./fixation/N500_b1.0_m100_mu0_r0_mus5e-10_sc0.01_dc0.5_L1e4_sp5e3_s1_post0/ --generations_post_fixation_threshold 0 --add_mutations_after_fixation True \n",
      "        done\n",
      "for j in 0 100 200 300 400 500 600 700 800 900 ; do \n",
      "        sleepy  --num_generations 100000000 --N 500 --m 100 --b 0.5 --gc 50 --mu 0 --r 0 --L 10000.0 --mu_selection_rates 5e-10 --selection_coefficients 10 --dominance_coefficients 0.5 --selection_positions 5000 --selection_activation_generation 1 --percent_fixed 1 --mutation_in_seeds True --stop_after_mrca False --debug_print False --output_name run_$(($i+$j)) --output_directory ./fixation/N500_b0.5_m100_mu0_r0_mus5e-10_sc10_dc0.5_L1e4_sp5e3_s1_post0/ --generations_post_fixation_threshold 0 --add_mutations_after_fixation True \n",
      "        done\n",
      "for j in 0 100 200 300 400 500 600 700 800 900 ; do \n",
      "        sleepy  --num_generations 100000000 --N 500 --m 100 --b 0.5 --gc 50 --mu 0 --r 0 --L 10000.0 --mu_selection_rates 5e-10 --selection_coefficients 1 --dominance_coefficients 0.5 --selection_positions 5000 --selection_activation_generation 1 --percent_fixed 1 --mutation_in_seeds True --stop_after_mrca False --debug_print False --output_name run_$(($i+$j)) --output_directory ./fixation/N500_b0.5_m100_mu0_r0_mus5e-10_sc1_dc0.5_L1e4_sp5e3_s1_post0/ --generations_post_fixation_threshold 0 --add_mutations_after_fixation True \n",
      "        done\n",
      "for j in 0 100 200 300 400 500 600 700 800 900 ; do \n",
      "        sleepy  --num_generations 100000000 --N 500 --m 100 --b 0.5 --gc 50 --mu 0 --r 0 --L 10000.0 --mu_selection_rates 5e-10 --selection_coefficients 0.1 --dominance_coefficients 0.5 --selection_positions 5000 --selection_activation_generation 1 --percent_fixed 1 --mutation_in_seeds True --stop_after_mrca False --debug_print False --output_name run_$(($i+$j)) --output_directory ./fixation/N500_b0.5_m100_mu0_r0_mus5e-10_sc0.1_dc0.5_L1e4_sp5e3_s1_post0/ --generations_post_fixation_threshold 0 --add_mutations_after_fixation True \n",
      "        done\n",
      "for j in 0 100 200 300 400 500 600 700 800 900 ; do \n",
      "        sleepy  --num_generations 100000000 --N 500 --m 100 --b 0.5 --gc 50 --mu 0 --r 0 --L 10000.0 --mu_selection_rates 5e-10 --selection_coefficients 0.01 --dominance_coefficients 0.5 --selection_positions 5000 --selection_activation_generation 1 --percent_fixed 1 --mutation_in_seeds True --stop_after_mrca False --debug_print False --output_name run_$(($i+$j)) --output_directory ./fixation/N500_b0.5_m100_mu0_r0_mus5e-10_sc0.01_dc0.5_L1e4_sp5e3_s1_post0/ --generations_post_fixation_threshold 0 --add_mutations_after_fixation True \n",
      "        done\n",
      "for j in 0 100 200 300 400 500 600 700 800 900 ; do \n",
      "        sleepy  --num_generations 100000000 --N 500 --m 100 --b 0.35 --gc 50 --mu 0 --r 0 --L 10000.0 --mu_selection_rates 5e-10 --selection_coefficients 10 --dominance_coefficients 0.5 --selection_positions 5000 --selection_activation_generation 1 --percent_fixed 1 --mutation_in_seeds True --stop_after_mrca False --debug_print False --output_name run_$(($i+$j)) --output_directory ./fixation/N500_b0.35_m100_mu0_r0_mus5e-10_sc10_dc0.5_L1e4_sp5e3_s1_post0/ --generations_post_fixation_threshold 0 --add_mutations_after_fixation True \n",
      "        done\n",
      "for j in 0 100 200 300 400 500 600 700 800 900 ; do \n",
      "        sleepy  --num_generations 100000000 --N 500 --m 100 --b 0.35 --gc 50 --mu 0 --r 0 --L 10000.0 --mu_selection_rates 5e-10 --selection_coefficients 1 --dominance_coefficients 0.5 --selection_positions 5000 --selection_activation_generation 1 --percent_fixed 1 --mutation_in_seeds True --stop_after_mrca False --debug_print False --output_name run_$(($i+$j)) --output_directory ./fixation/N500_b0.35_m100_mu0_r0_mus5e-10_sc1_dc0.5_L1e4_sp5e3_s1_post0/ --generations_post_fixation_threshold 0 --add_mutations_after_fixation True \n",
      "        done\n",
      "for j in 0 100 200 300 400 500 600 700 800 900 ; do \n",
      "        sleepy  --num_generations 100000000 --N 500 --m 100 --b 0.35 --gc 50 --mu 0 --r 0 --L 10000.0 --mu_selection_rates 5e-10 --selection_coefficients 0.1 --dominance_coefficients 0.5 --selection_positions 5000 --selection_activation_generation 1 --percent_fixed 1 --mutation_in_seeds True --stop_after_mrca False --debug_print False --output_name run_$(($i+$j)) --output_directory ./fixation/N500_b0.35_m100_mu0_r0_mus5e-10_sc0.1_dc0.5_L1e4_sp5e3_s1_post0/ --generations_post_fixation_threshold 0 --add_mutations_after_fixation True \n",
      "        done\n",
      "for j in 0 100 200 300 400 500 600 700 800 900 ; do \n",
      "        sleepy  --num_generations 100000000 --N 500 --m 100 --b 0.35 --gc 50 --mu 0 --r 0 --L 10000.0 --mu_selection_rates 5e-10 --selection_coefficients 0.01 --dominance_coefficients 0.5 --selection_positions 5000 --selection_activation_generation 1 --percent_fixed 1 --mutation_in_seeds True --stop_after_mrca False --debug_print False --output_name run_$(($i+$j)) --output_directory ./fixation/N500_b0.35_m100_mu0_r0_mus5e-10_sc0.01_dc0.5_L1e4_sp5e3_s1_post0/ --generations_post_fixation_threshold 0 --add_mutations_after_fixation True \n",
      "        done\n",
      "for j in 0 100 200 300 400 500 600 700 800 900 ; do \n",
      "        sleepy  --num_generations 100000000 --N 500 --m 100 --b 0.25 --gc 50 --mu 0 --r 0 --L 10000.0 --mu_selection_rates 5e-10 --selection_coefficients 10 --dominance_coefficients 0.5 --selection_positions 5000 --selection_activation_generation 1 --percent_fixed 1 --mutation_in_seeds True --stop_after_mrca False --debug_print False --output_name run_$(($i+$j)) --output_directory ./fixation/N500_b0.25_m100_mu0_r0_mus5e-10_sc10_dc0.5_L1e4_sp5e3_s1_post0/ --generations_post_fixation_threshold 0 --add_mutations_after_fixation True \n",
      "        done\n",
      "for j in 0 100 200 300 400 500 600 700 800 900 ; do \n",
      "        sleepy  --num_generations 100000000 --N 500 --m 100 --b 0.25 --gc 50 --mu 0 --r 0 --L 10000.0 --mu_selection_rates 5e-10 --selection_coefficients 1 --dominance_coefficients 0.5 --selection_positions 5000 --selection_activation_generation 1 --percent_fixed 1 --mutation_in_seeds True --stop_after_mrca False --debug_print False --output_name run_$(($i+$j)) --output_directory ./fixation/N500_b0.25_m100_mu0_r0_mus5e-10_sc1_dc0.5_L1e4_sp5e3_s1_post0/ --generations_post_fixation_threshold 0 --add_mutations_after_fixation True \n",
      "        done\n",
      "for j in 0 100 200 300 400 500 600 700 800 900 ; do \n",
      "        sleepy  --num_generations 100000000 --N 500 --m 100 --b 0.25 --gc 50 --mu 0 --r 0 --L 10000.0 --mu_selection_rates 5e-10 --selection_coefficients 0.1 --dominance_coefficients 0.5 --selection_positions 5000 --selection_activation_generation 1 --percent_fixed 1 --mutation_in_seeds True --stop_after_mrca False --debug_print False --output_name run_$(($i+$j)) --output_directory ./fixation/N500_b0.25_m100_mu0_r0_mus5e-10_sc0.1_dc0.5_L1e4_sp5e3_s1_post0/ --generations_post_fixation_threshold 0 --add_mutations_after_fixation True \n",
      "        done\n",
      "for j in 0 100 200 300 400 500 600 700 800 900 ; do \n",
      "        sleepy  --num_generations 100000000 --N 500 --m 100 --b 0.25 --gc 50 --mu 0 --r 0 --L 10000.0 --mu_selection_rates 5e-10 --selection_coefficients 0.01 --dominance_coefficients 0.5 --selection_positions 5000 --selection_activation_generation 1 --percent_fixed 1 --mutation_in_seeds True --stop_after_mrca False --debug_print False --output_name run_$(($i+$j)) --output_directory ./fixation/N500_b0.25_m100_mu0_r0_mus5e-10_sc0.01_dc0.5_L1e4_sp5e3_s1_post0/ --generations_post_fixation_threshold 0 --add_mutations_after_fixation True \n",
      "        done\n"
     ]
    }
   ],
   "source": [
    "for b in [1.0, 0.5, 0.35, 0.25]:\n",
    "    for c in [10, 1, 0.1, 0.01]: \n",
    "        output_directory = \"./fixation/N500_b\" + str(b) + \"_m100_mu0_r0_mus5e-10_sc\" + str(c) + \"_dc0.5_L1e4_sp5e3_s1_post0/\"\n",
    "        sleepy(n_simulations=500, num_generations=100000000, N=500, m=100, b=b, gc=50, mu=0, r=0, L=1e4, mu_selection_rates=\"5e-10\", \n",
    "                 selection_coefficients=str(c),dominance_coefficients=\"0.5\", selection_positions=\"5000\",\n",
    "                 mutation_in_seeds=True, stop_after_mrca=False, debug_print=False, output_name=\"run\",\n",
    "                 selection_activation_generation=1, generations_post_fixation_threshold=0,\n",
    "                 output_directory=output_directory,n_parallel=5, continue_from=0, print_cmd=True, slurm=True, slurm_limit=1000, slurm_divide=10, slurm_start=0);"
   ]
  },
  {
   "cell_type": "markdown",
   "id": "original-warren",
   "metadata": {},
   "source": [
    "# 6. Probability fixation"
   ]
  },
  {
   "cell_type": "code",
   "execution_count": 10,
   "id": "engaging-calgary",
   "metadata": {},
   "outputs": [
    {
     "name": "stdout",
     "output_type": "stream",
     "text": [
      "for j in 0 100 200 300 400 500 600 700 800 900 ; do \n",
      "        sleepy  --num_generations 100000000 --N 500 --m 100 --b 1.0 --gc 50 --mu 0 --r 0 --L 10000.0 --mu_selection_rates 5e-10 --selection_coefficients 0.2 --dominance_coefficients 0.5 --selection_positions 5000 --selection_activation_generation 1 --percent_fixed 1 --mutation_in_seeds True --stop_after_mrca False --debug_print False --output_name run_$(($i+$j)) --output_directory ./fixation/N500_b1.0_m100_mu0_r0_mus5e-10_sc0.2_dc0.5_L1e4_sp5e3_s1_post0/ --generations_post_fixation_threshold 0 --add_mutations_after_fixation True \n",
      "        done\n",
      "for j in 0 100 200 300 400 500 600 700 800 900 ; do \n",
      "        sleepy  --num_generations 100000000 --N 500 --m 100 --b 1.0 --gc 50 --mu 0 --r 0 --L 10000.0 --mu_selection_rates 5e-10 --selection_coefficients 0.4 --dominance_coefficients 0.5 --selection_positions 5000 --selection_activation_generation 1 --percent_fixed 1 --mutation_in_seeds True --stop_after_mrca False --debug_print False --output_name run_$(($i+$j)) --output_directory ./fixation/N500_b1.0_m100_mu0_r0_mus5e-10_sc0.4_dc0.5_L1e4_sp5e3_s1_post0/ --generations_post_fixation_threshold 0 --add_mutations_after_fixation True \n",
      "        done\n",
      "for j in 0 100 200 300 400 500 600 700 800 900 ; do \n",
      "        sleepy  --num_generations 100000000 --N 500 --m 100 --b 1.0 --gc 50 --mu 0 --r 0 --L 10000.0 --mu_selection_rates 5e-10 --selection_coefficients 0.6 --dominance_coefficients 0.5 --selection_positions 5000 --selection_activation_generation 1 --percent_fixed 1 --mutation_in_seeds True --stop_after_mrca False --debug_print False --output_name run_$(($i+$j)) --output_directory ./fixation/N500_b1.0_m100_mu0_r0_mus5e-10_sc0.6_dc0.5_L1e4_sp5e3_s1_post0/ --generations_post_fixation_threshold 0 --add_mutations_after_fixation True \n",
      "        done\n",
      "for j in 0 100 200 300 400 500 600 700 800 900 ; do \n",
      "        sleepy  --num_generations 100000000 --N 500 --m 100 --b 1.0 --gc 50 --mu 0 --r 0 --L 10000.0 --mu_selection_rates 5e-10 --selection_coefficients 0.8 --dominance_coefficients 0.5 --selection_positions 5000 --selection_activation_generation 1 --percent_fixed 1 --mutation_in_seeds True --stop_after_mrca False --debug_print False --output_name run_$(($i+$j)) --output_directory ./fixation/N500_b1.0_m100_mu0_r0_mus5e-10_sc0.8_dc0.5_L1e4_sp5e3_s1_post0/ --generations_post_fixation_threshold 0 --add_mutations_after_fixation True \n",
      "        done\n",
      "for j in 0 100 200 300 400 500 600 700 800 900 ; do \n",
      "        sleepy  --num_generations 100000000 --N 500 --m 100 --b 1.0 --gc 50 --mu 0 --r 0 --L 10000.0 --mu_selection_rates 5e-10 --selection_coefficients 1.5 --dominance_coefficients 0.5 --selection_positions 5000 --selection_activation_generation 1 --percent_fixed 1 --mutation_in_seeds True --stop_after_mrca False --debug_print False --output_name run_$(($i+$j)) --output_directory ./fixation/N500_b1.0_m100_mu0_r0_mus5e-10_sc1.5_dc0.5_L1e4_sp5e3_s1_post0/ --generations_post_fixation_threshold 0 --add_mutations_after_fixation True \n",
      "        done\n",
      "for j in 0 100 200 300 400 500 600 700 800 900 ; do \n",
      "        sleepy  --num_generations 100000000 --N 500 --m 100 --b 1.0 --gc 50 --mu 0 --r 0 --L 10000.0 --mu_selection_rates 5e-10 --selection_coefficients 2 --dominance_coefficients 0.5 --selection_positions 5000 --selection_activation_generation 1 --percent_fixed 1 --mutation_in_seeds True --stop_after_mrca False --debug_print False --output_name run_$(($i+$j)) --output_directory ./fixation/N500_b1.0_m100_mu0_r0_mus5e-10_sc2_dc0.5_L1e4_sp5e3_s1_post0/ --generations_post_fixation_threshold 0 --add_mutations_after_fixation True \n",
      "        done\n",
      "for j in 0 100 200 300 400 500 600 700 800 900 ; do \n",
      "        sleepy  --num_generations 100000000 --N 500 --m 100 --b 1.0 --gc 50 --mu 0 --r 0 --L 10000.0 --mu_selection_rates 5e-10 --selection_coefficients 3 --dominance_coefficients 0.5 --selection_positions 5000 --selection_activation_generation 1 --percent_fixed 1 --mutation_in_seeds True --stop_after_mrca False --debug_print False --output_name run_$(($i+$j)) --output_directory ./fixation/N500_b1.0_m100_mu0_r0_mus5e-10_sc3_dc0.5_L1e4_sp5e3_s1_post0/ --generations_post_fixation_threshold 0 --add_mutations_after_fixation True \n",
      "        done\n",
      "for j in 0 100 200 300 400 500 600 700 800 900 ; do \n",
      "        sleepy  --num_generations 100000000 --N 500 --m 100 --b 1.0 --gc 50 --mu 0 --r 0 --L 10000.0 --mu_selection_rates 5e-10 --selection_coefficients 4 --dominance_coefficients 0.5 --selection_positions 5000 --selection_activation_generation 1 --percent_fixed 1 --mutation_in_seeds True --stop_after_mrca False --debug_print False --output_name run_$(($i+$j)) --output_directory ./fixation/N500_b1.0_m100_mu0_r0_mus5e-10_sc4_dc0.5_L1e4_sp5e3_s1_post0/ --generations_post_fixation_threshold 0 --add_mutations_after_fixation True \n",
      "        done\n",
      "for j in 0 100 200 300 400 500 600 700 800 900 ; do \n",
      "        sleepy  --num_generations 100000000 --N 500 --m 100 --b 1.0 --gc 50 --mu 0 --r 0 --L 10000.0 --mu_selection_rates 5e-10 --selection_coefficients 5 --dominance_coefficients 0.5 --selection_positions 5000 --selection_activation_generation 1 --percent_fixed 1 --mutation_in_seeds True --stop_after_mrca False --debug_print False --output_name run_$(($i+$j)) --output_directory ./fixation/N500_b1.0_m100_mu0_r0_mus5e-10_sc5_dc0.5_L1e4_sp5e3_s1_post0/ --generations_post_fixation_threshold 0 --add_mutations_after_fixation True \n",
      "        done\n",
      "for j in 0 100 200 300 400 500 600 700 800 900 ; do \n",
      "        sleepy  --num_generations 100000000 --N 500 --m 100 --b 0.5 --gc 50 --mu 0 --r 0 --L 10000.0 --mu_selection_rates 5e-10 --selection_coefficients 0.2 --dominance_coefficients 0.5 --selection_positions 5000 --selection_activation_generation 1 --percent_fixed 1 --mutation_in_seeds True --stop_after_mrca False --debug_print False --output_name run_$(($i+$j)) --output_directory ./fixation/N500_b0.5_m100_mu0_r0_mus5e-10_sc0.2_dc0.5_L1e4_sp5e3_s1_post0/ --generations_post_fixation_threshold 0 --add_mutations_after_fixation True \n",
      "        done\n",
      "for j in 0 100 200 300 400 500 600 700 800 900 ; do \n",
      "        sleepy  --num_generations 100000000 --N 500 --m 100 --b 0.5 --gc 50 --mu 0 --r 0 --L 10000.0 --mu_selection_rates 5e-10 --selection_coefficients 0.4 --dominance_coefficients 0.5 --selection_positions 5000 --selection_activation_generation 1 --percent_fixed 1 --mutation_in_seeds True --stop_after_mrca False --debug_print False --output_name run_$(($i+$j)) --output_directory ./fixation/N500_b0.5_m100_mu0_r0_mus5e-10_sc0.4_dc0.5_L1e4_sp5e3_s1_post0/ --generations_post_fixation_threshold 0 --add_mutations_after_fixation True \n",
      "        done\n",
      "for j in 0 100 200 300 400 500 600 700 800 900 ; do \n",
      "        sleepy  --num_generations 100000000 --N 500 --m 100 --b 0.5 --gc 50 --mu 0 --r 0 --L 10000.0 --mu_selection_rates 5e-10 --selection_coefficients 0.6 --dominance_coefficients 0.5 --selection_positions 5000 --selection_activation_generation 1 --percent_fixed 1 --mutation_in_seeds True --stop_after_mrca False --debug_print False --output_name run_$(($i+$j)) --output_directory ./fixation/N500_b0.5_m100_mu0_r0_mus5e-10_sc0.6_dc0.5_L1e4_sp5e3_s1_post0/ --generations_post_fixation_threshold 0 --add_mutations_after_fixation True \n",
      "        done\n",
      "for j in 0 100 200 300 400 500 600 700 800 900 ; do \n",
      "        sleepy  --num_generations 100000000 --N 500 --m 100 --b 0.5 --gc 50 --mu 0 --r 0 --L 10000.0 --mu_selection_rates 5e-10 --selection_coefficients 0.8 --dominance_coefficients 0.5 --selection_positions 5000 --selection_activation_generation 1 --percent_fixed 1 --mutation_in_seeds True --stop_after_mrca False --debug_print False --output_name run_$(($i+$j)) --output_directory ./fixation/N500_b0.5_m100_mu0_r0_mus5e-10_sc0.8_dc0.5_L1e4_sp5e3_s1_post0/ --generations_post_fixation_threshold 0 --add_mutations_after_fixation True \n",
      "        done\n",
      "for j in 0 100 200 300 400 500 600 700 800 900 ; do \n",
      "        sleepy  --num_generations 100000000 --N 500 --m 100 --b 0.5 --gc 50 --mu 0 --r 0 --L 10000.0 --mu_selection_rates 5e-10 --selection_coefficients 1.5 --dominance_coefficients 0.5 --selection_positions 5000 --selection_activation_generation 1 --percent_fixed 1 --mutation_in_seeds True --stop_after_mrca False --debug_print False --output_name run_$(($i+$j)) --output_directory ./fixation/N500_b0.5_m100_mu0_r0_mus5e-10_sc1.5_dc0.5_L1e4_sp5e3_s1_post0/ --generations_post_fixation_threshold 0 --add_mutations_after_fixation True \n",
      "        done\n",
      "for j in 0 100 200 300 400 500 600 700 800 900 ; do \n",
      "        sleepy  --num_generations 100000000 --N 500 --m 100 --b 0.5 --gc 50 --mu 0 --r 0 --L 10000.0 --mu_selection_rates 5e-10 --selection_coefficients 2 --dominance_coefficients 0.5 --selection_positions 5000 --selection_activation_generation 1 --percent_fixed 1 --mutation_in_seeds True --stop_after_mrca False --debug_print False --output_name run_$(($i+$j)) --output_directory ./fixation/N500_b0.5_m100_mu0_r0_mus5e-10_sc2_dc0.5_L1e4_sp5e3_s1_post0/ --generations_post_fixation_threshold 0 --add_mutations_after_fixation True \n",
      "        done\n",
      "for j in 0 100 200 300 400 500 600 700 800 900 ; do \n",
      "        sleepy  --num_generations 100000000 --N 500 --m 100 --b 0.5 --gc 50 --mu 0 --r 0 --L 10000.0 --mu_selection_rates 5e-10 --selection_coefficients 3 --dominance_coefficients 0.5 --selection_positions 5000 --selection_activation_generation 1 --percent_fixed 1 --mutation_in_seeds True --stop_after_mrca False --debug_print False --output_name run_$(($i+$j)) --output_directory ./fixation/N500_b0.5_m100_mu0_r0_mus5e-10_sc3_dc0.5_L1e4_sp5e3_s1_post0/ --generations_post_fixation_threshold 0 --add_mutations_after_fixation True \n",
      "        done\n",
      "for j in 0 100 200 300 400 500 600 700 800 900 ; do \n",
      "        sleepy  --num_generations 100000000 --N 500 --m 100 --b 0.5 --gc 50 --mu 0 --r 0 --L 10000.0 --mu_selection_rates 5e-10 --selection_coefficients 4 --dominance_coefficients 0.5 --selection_positions 5000 --selection_activation_generation 1 --percent_fixed 1 --mutation_in_seeds True --stop_after_mrca False --debug_print False --output_name run_$(($i+$j)) --output_directory ./fixation/N500_b0.5_m100_mu0_r0_mus5e-10_sc4_dc0.5_L1e4_sp5e3_s1_post0/ --generations_post_fixation_threshold 0 --add_mutations_after_fixation True \n",
      "        done\n",
      "for j in 0 100 200 300 400 500 600 700 800 900 ; do \n",
      "        sleepy  --num_generations 100000000 --N 500 --m 100 --b 0.5 --gc 50 --mu 0 --r 0 --L 10000.0 --mu_selection_rates 5e-10 --selection_coefficients 5 --dominance_coefficients 0.5 --selection_positions 5000 --selection_activation_generation 1 --percent_fixed 1 --mutation_in_seeds True --stop_after_mrca False --debug_print False --output_name run_$(($i+$j)) --output_directory ./fixation/N500_b0.5_m100_mu0_r0_mus5e-10_sc5_dc0.5_L1e4_sp5e3_s1_post0/ --generations_post_fixation_threshold 0 --add_mutations_after_fixation True \n",
      "        done\n",
      "for j in 0 100 200 300 400 500 600 700 800 900 ; do \n",
      "        sleepy  --num_generations 100000000 --N 500 --m 100 --b 0.35 --gc 50 --mu 0 --r 0 --L 10000.0 --mu_selection_rates 5e-10 --selection_coefficients 0.2 --dominance_coefficients 0.5 --selection_positions 5000 --selection_activation_generation 1 --percent_fixed 1 --mutation_in_seeds True --stop_after_mrca False --debug_print False --output_name run_$(($i+$j)) --output_directory ./fixation/N500_b0.35_m100_mu0_r0_mus5e-10_sc0.2_dc0.5_L1e4_sp5e3_s1_post0/ --generations_post_fixation_threshold 0 --add_mutations_after_fixation True \n",
      "        done\n",
      "for j in 0 100 200 300 400 500 600 700 800 900 ; do \n",
      "        sleepy  --num_generations 100000000 --N 500 --m 100 --b 0.35 --gc 50 --mu 0 --r 0 --L 10000.0 --mu_selection_rates 5e-10 --selection_coefficients 0.4 --dominance_coefficients 0.5 --selection_positions 5000 --selection_activation_generation 1 --percent_fixed 1 --mutation_in_seeds True --stop_after_mrca False --debug_print False --output_name run_$(($i+$j)) --output_directory ./fixation/N500_b0.35_m100_mu0_r0_mus5e-10_sc0.4_dc0.5_L1e4_sp5e3_s1_post0/ --generations_post_fixation_threshold 0 --add_mutations_after_fixation True \n",
      "        done\n",
      "for j in 0 100 200 300 400 500 600 700 800 900 ; do \n",
      "        sleepy  --num_generations 100000000 --N 500 --m 100 --b 0.35 --gc 50 --mu 0 --r 0 --L 10000.0 --mu_selection_rates 5e-10 --selection_coefficients 0.6 --dominance_coefficients 0.5 --selection_positions 5000 --selection_activation_generation 1 --percent_fixed 1 --mutation_in_seeds True --stop_after_mrca False --debug_print False --output_name run_$(($i+$j)) --output_directory ./fixation/N500_b0.35_m100_mu0_r0_mus5e-10_sc0.6_dc0.5_L1e4_sp5e3_s1_post0/ --generations_post_fixation_threshold 0 --add_mutations_after_fixation True \n",
      "        done\n",
      "for j in 0 100 200 300 400 500 600 700 800 900 ; do \n",
      "        sleepy  --num_generations 100000000 --N 500 --m 100 --b 0.35 --gc 50 --mu 0 --r 0 --L 10000.0 --mu_selection_rates 5e-10 --selection_coefficients 0.8 --dominance_coefficients 0.5 --selection_positions 5000 --selection_activation_generation 1 --percent_fixed 1 --mutation_in_seeds True --stop_after_mrca False --debug_print False --output_name run_$(($i+$j)) --output_directory ./fixation/N500_b0.35_m100_mu0_r0_mus5e-10_sc0.8_dc0.5_L1e4_sp5e3_s1_post0/ --generations_post_fixation_threshold 0 --add_mutations_after_fixation True \n",
      "        done\n",
      "for j in 0 100 200 300 400 500 600 700 800 900 ; do \n",
      "        sleepy  --num_generations 100000000 --N 500 --m 100 --b 0.35 --gc 50 --mu 0 --r 0 --L 10000.0 --mu_selection_rates 5e-10 --selection_coefficients 1.5 --dominance_coefficients 0.5 --selection_positions 5000 --selection_activation_generation 1 --percent_fixed 1 --mutation_in_seeds True --stop_after_mrca False --debug_print False --output_name run_$(($i+$j)) --output_directory ./fixation/N500_b0.35_m100_mu0_r0_mus5e-10_sc1.5_dc0.5_L1e4_sp5e3_s1_post0/ --generations_post_fixation_threshold 0 --add_mutations_after_fixation True \n",
      "        done\n",
      "for j in 0 100 200 300 400 500 600 700 800 900 ; do \n",
      "        sleepy  --num_generations 100000000 --N 500 --m 100 --b 0.35 --gc 50 --mu 0 --r 0 --L 10000.0 --mu_selection_rates 5e-10 --selection_coefficients 2 --dominance_coefficients 0.5 --selection_positions 5000 --selection_activation_generation 1 --percent_fixed 1 --mutation_in_seeds True --stop_after_mrca False --debug_print False --output_name run_$(($i+$j)) --output_directory ./fixation/N500_b0.35_m100_mu0_r0_mus5e-10_sc2_dc0.5_L1e4_sp5e3_s1_post0/ --generations_post_fixation_threshold 0 --add_mutations_after_fixation True \n",
      "        done\n",
      "for j in 0 100 200 300 400 500 600 700 800 900 ; do \n",
      "        sleepy  --num_generations 100000000 --N 500 --m 100 --b 0.35 --gc 50 --mu 0 --r 0 --L 10000.0 --mu_selection_rates 5e-10 --selection_coefficients 3 --dominance_coefficients 0.5 --selection_positions 5000 --selection_activation_generation 1 --percent_fixed 1 --mutation_in_seeds True --stop_after_mrca False --debug_print False --output_name run_$(($i+$j)) --output_directory ./fixation/N500_b0.35_m100_mu0_r0_mus5e-10_sc3_dc0.5_L1e4_sp5e3_s1_post0/ --generations_post_fixation_threshold 0 --add_mutations_after_fixation True \n",
      "        done\n",
      "for j in 0 100 200 300 400 500 600 700 800 900 ; do \n",
      "        sleepy  --num_generations 100000000 --N 500 --m 100 --b 0.35 --gc 50 --mu 0 --r 0 --L 10000.0 --mu_selection_rates 5e-10 --selection_coefficients 4 --dominance_coefficients 0.5 --selection_positions 5000 --selection_activation_generation 1 --percent_fixed 1 --mutation_in_seeds True --stop_after_mrca False --debug_print False --output_name run_$(($i+$j)) --output_directory ./fixation/N500_b0.35_m100_mu0_r0_mus5e-10_sc4_dc0.5_L1e4_sp5e3_s1_post0/ --generations_post_fixation_threshold 0 --add_mutations_after_fixation True \n",
      "        done\n",
      "for j in 0 100 200 300 400 500 600 700 800 900 ; do \n",
      "        sleepy  --num_generations 100000000 --N 500 --m 100 --b 0.35 --gc 50 --mu 0 --r 0 --L 10000.0 --mu_selection_rates 5e-10 --selection_coefficients 5 --dominance_coefficients 0.5 --selection_positions 5000 --selection_activation_generation 1 --percent_fixed 1 --mutation_in_seeds True --stop_after_mrca False --debug_print False --output_name run_$(($i+$j)) --output_directory ./fixation/N500_b0.35_m100_mu0_r0_mus5e-10_sc5_dc0.5_L1e4_sp5e3_s1_post0/ --generations_post_fixation_threshold 0 --add_mutations_after_fixation True \n",
      "        done\n",
      "for j in 0 100 200 300 400 500 600 700 800 900 ; do \n",
      "        sleepy  --num_generations 100000000 --N 500 --m 100 --b 0.25 --gc 50 --mu 0 --r 0 --L 10000.0 --mu_selection_rates 5e-10 --selection_coefficients 0.2 --dominance_coefficients 0.5 --selection_positions 5000 --selection_activation_generation 1 --percent_fixed 1 --mutation_in_seeds True --stop_after_mrca False --debug_print False --output_name run_$(($i+$j)) --output_directory ./fixation/N500_b0.25_m100_mu0_r0_mus5e-10_sc0.2_dc0.5_L1e4_sp5e3_s1_post0/ --generations_post_fixation_threshold 0 --add_mutations_after_fixation True \n",
      "        done\n",
      "for j in 0 100 200 300 400 500 600 700 800 900 ; do \n",
      "        sleepy  --num_generations 100000000 --N 500 --m 100 --b 0.25 --gc 50 --mu 0 --r 0 --L 10000.0 --mu_selection_rates 5e-10 --selection_coefficients 0.4 --dominance_coefficients 0.5 --selection_positions 5000 --selection_activation_generation 1 --percent_fixed 1 --mutation_in_seeds True --stop_after_mrca False --debug_print False --output_name run_$(($i+$j)) --output_directory ./fixation/N500_b0.25_m100_mu0_r0_mus5e-10_sc0.4_dc0.5_L1e4_sp5e3_s1_post0/ --generations_post_fixation_threshold 0 --add_mutations_after_fixation True \n",
      "        done\n",
      "for j in 0 100 200 300 400 500 600 700 800 900 ; do \n",
      "        sleepy  --num_generations 100000000 --N 500 --m 100 --b 0.25 --gc 50 --mu 0 --r 0 --L 10000.0 --mu_selection_rates 5e-10 --selection_coefficients 0.6 --dominance_coefficients 0.5 --selection_positions 5000 --selection_activation_generation 1 --percent_fixed 1 --mutation_in_seeds True --stop_after_mrca False --debug_print False --output_name run_$(($i+$j)) --output_directory ./fixation/N500_b0.25_m100_mu0_r0_mus5e-10_sc0.6_dc0.5_L1e4_sp5e3_s1_post0/ --generations_post_fixation_threshold 0 --add_mutations_after_fixation True \n",
      "        done\n",
      "for j in 0 100 200 300 400 500 600 700 800 900 ; do \n",
      "        sleepy  --num_generations 100000000 --N 500 --m 100 --b 0.25 --gc 50 --mu 0 --r 0 --L 10000.0 --mu_selection_rates 5e-10 --selection_coefficients 0.8 --dominance_coefficients 0.5 --selection_positions 5000 --selection_activation_generation 1 --percent_fixed 1 --mutation_in_seeds True --stop_after_mrca False --debug_print False --output_name run_$(($i+$j)) --output_directory ./fixation/N500_b0.25_m100_mu0_r0_mus5e-10_sc0.8_dc0.5_L1e4_sp5e3_s1_post0/ --generations_post_fixation_threshold 0 --add_mutations_after_fixation True \n",
      "        done\n",
      "for j in 0 100 200 300 400 500 600 700 800 900 ; do \n",
      "        sleepy  --num_generations 100000000 --N 500 --m 100 --b 0.25 --gc 50 --mu 0 --r 0 --L 10000.0 --mu_selection_rates 5e-10 --selection_coefficients 1.5 --dominance_coefficients 0.5 --selection_positions 5000 --selection_activation_generation 1 --percent_fixed 1 --mutation_in_seeds True --stop_after_mrca False --debug_print False --output_name run_$(($i+$j)) --output_directory ./fixation/N500_b0.25_m100_mu0_r0_mus5e-10_sc1.5_dc0.5_L1e4_sp5e3_s1_post0/ --generations_post_fixation_threshold 0 --add_mutations_after_fixation True \n",
      "        done\n",
      "for j in 0 100 200 300 400 500 600 700 800 900 ; do \n",
      "        sleepy  --num_generations 100000000 --N 500 --m 100 --b 0.25 --gc 50 --mu 0 --r 0 --L 10000.0 --mu_selection_rates 5e-10 --selection_coefficients 2 --dominance_coefficients 0.5 --selection_positions 5000 --selection_activation_generation 1 --percent_fixed 1 --mutation_in_seeds True --stop_after_mrca False --debug_print False --output_name run_$(($i+$j)) --output_directory ./fixation/N500_b0.25_m100_mu0_r0_mus5e-10_sc2_dc0.5_L1e4_sp5e3_s1_post0/ --generations_post_fixation_threshold 0 --add_mutations_after_fixation True \n",
      "        done\n",
      "for j in 0 100 200 300 400 500 600 700 800 900 ; do \n",
      "        sleepy  --num_generations 100000000 --N 500 --m 100 --b 0.25 --gc 50 --mu 0 --r 0 --L 10000.0 --mu_selection_rates 5e-10 --selection_coefficients 3 --dominance_coefficients 0.5 --selection_positions 5000 --selection_activation_generation 1 --percent_fixed 1 --mutation_in_seeds True --stop_after_mrca False --debug_print False --output_name run_$(($i+$j)) --output_directory ./fixation/N500_b0.25_m100_mu0_r0_mus5e-10_sc3_dc0.5_L1e4_sp5e3_s1_post0/ --generations_post_fixation_threshold 0 --add_mutations_after_fixation True \n",
      "        done\n",
      "for j in 0 100 200 300 400 500 600 700 800 900 ; do \n",
      "        sleepy  --num_generations 100000000 --N 500 --m 100 --b 0.25 --gc 50 --mu 0 --r 0 --L 10000.0 --mu_selection_rates 5e-10 --selection_coefficients 4 --dominance_coefficients 0.5 --selection_positions 5000 --selection_activation_generation 1 --percent_fixed 1 --mutation_in_seeds True --stop_after_mrca False --debug_print False --output_name run_$(($i+$j)) --output_directory ./fixation/N500_b0.25_m100_mu0_r0_mus5e-10_sc4_dc0.5_L1e4_sp5e3_s1_post0/ --generations_post_fixation_threshold 0 --add_mutations_after_fixation True \n",
      "        done\n",
      "for j in 0 100 200 300 400 500 600 700 800 900 ; do \n",
      "        sleepy  --num_generations 100000000 --N 500 --m 100 --b 0.25 --gc 50 --mu 0 --r 0 --L 10000.0 --mu_selection_rates 5e-10 --selection_coefficients 5 --dominance_coefficients 0.5 --selection_positions 5000 --selection_activation_generation 1 --percent_fixed 1 --mutation_in_seeds True --stop_after_mrca False --debug_print False --output_name run_$(($i+$j)) --output_directory ./fixation/N500_b0.25_m100_mu0_r0_mus5e-10_sc5_dc0.5_L1e4_sp5e3_s1_post0/ --generations_post_fixation_threshold 0 --add_mutations_after_fixation True \n",
      "        done\n"
     ]
    }
   ],
   "source": [
    "for b in [1.0, 0.5, 0.35, 0.25]:\n",
    "    for c in [0.2, 0.4, 0.6, 0.8, 1.5, 2, 3, 4, 5]: \n",
    "        output_directory = \"./fixation/N500_b\" + str(b) + \"_m100_mu0_r0_mus5e-10_sc\" + str(c) + \"_dc0.5_L1e4_sp5e3_s1_post0/\"\n",
    "        sleepy(n_simulations=500, num_generations=100000000, N=500, m=100, b=b, gc=50, mu=0, r=0, L=1e4, mu_selection_rates=\"5e-10\", \n",
    "                 selection_coefficients=str(c),dominance_coefficients=\"0.5\", selection_positions=\"5000\",\n",
    "                 mutation_in_seeds=True, stop_after_mrca=False, debug_print=False, output_name=\"run\",\n",
    "                 selection_activation_generation=1, generations_post_fixation_threshold=0,\n",
    "                 output_directory=output_directory,n_parallel=5, continue_from=0, print_cmd=True, slurm=True, slurm_limit=1000, slurm_divide=10, slurm_start=0);"
   ]
  },
  {
   "cell_type": "markdown",
   "id": "invisible-benefit",
   "metadata": {},
   "source": [
    "# 7. Dominance coefficient"
   ]
  },
  {
   "cell_type": "code",
   "execution_count": 6,
   "id": "harmful-gregory",
   "metadata": {},
   "outputs": [
    {
     "name": "stdout",
     "output_type": "stream",
     "text": [
      "for j in 0 100 200 300 400 ; do \n",
      "        sleepy  --num_generations 1000000 --N 500 --m 100 --b 1.0 --gc 50 --mu 0 --r 5e-05 --L 10000.0 --mu_selection_rates 5e-10 --selection_coefficients 1 --dominance_coefficients 0.1 --selection_positions 5000 --selection_activation_generation 100000 --percent_fixed 1 --mutation_in_seeds True --stop_after_mrca False --debug_print False --output_name run_$(($i+$j)) --output_directory ./dominance/N500_b1.0_m100_mu0_r5e-5_mus5e-10_sc1_dc0.1_L1e4_sp5e3_s1/ --generations_post_fixation_threshold -1 --add_mutations_after_fixation True \n",
      "        done\n",
      "for j in 0 100 200 300 400 ; do \n",
      "        sleepy  --num_generations 1000000 --N 500 --m 100 --b 0.35 --gc 50 --mu 0 --r 5e-05 --L 10000.0 --mu_selection_rates 5e-10 --selection_coefficients 1 --dominance_coefficients 0.1 --selection_positions 5000 --selection_activation_generation 100000 --percent_fixed 1 --mutation_in_seeds True --stop_after_mrca False --debug_print False --output_name run_$(($i+$j)) --output_directory ./dominance/N500_b0.35_m100_mu0_r5e-5_mus5e-10_sc1_dc0.1_L1e4_sp5e3_s1/ --generations_post_fixation_threshold -1 --add_mutations_after_fixation True \n",
      "        done\n",
      "for j in 0 100 200 300 400 ; do \n",
      "        sleepy  --num_generations 1000000 --N 500 --m 100 --b 1.0 --gc 50 --mu 0 --r 5e-05 --L 10000.0 --mu_selection_rates 5e-10 --selection_coefficients 1 --dominance_coefficients 0.5 --selection_positions 5000 --selection_activation_generation 100000 --percent_fixed 1 --mutation_in_seeds True --stop_after_mrca False --debug_print False --output_name run_$(($i+$j)) --output_directory ./dominance/N500_b1.0_m100_mu0_r5e-5_mus5e-10_sc1_dc0.5_L1e4_sp5e3_s1/ --generations_post_fixation_threshold -1 --add_mutations_after_fixation True \n",
      "        done\n",
      "for j in 0 100 200 300 400 ; do \n",
      "        sleepy  --num_generations 1000000 --N 500 --m 100 --b 0.35 --gc 50 --mu 0 --r 5e-05 --L 10000.0 --mu_selection_rates 5e-10 --selection_coefficients 1 --dominance_coefficients 0.5 --selection_positions 5000 --selection_activation_generation 100000 --percent_fixed 1 --mutation_in_seeds True --stop_after_mrca False --debug_print False --output_name run_$(($i+$j)) --output_directory ./dominance/N500_b0.35_m100_mu0_r5e-5_mus5e-10_sc1_dc0.5_L1e4_sp5e3_s1/ --generations_post_fixation_threshold -1 --add_mutations_after_fixation True \n",
      "        done\n",
      "for j in 0 100 200 300 400 ; do \n",
      "        sleepy  --num_generations 1000000 --N 500 --m 100 --b 1.0 --gc 50 --mu 0 --r 5e-05 --L 10000.0 --mu_selection_rates 5e-10 --selection_coefficients 1 --dominance_coefficients 1 --selection_positions 5000 --selection_activation_generation 100000 --percent_fixed 1 --mutation_in_seeds True --stop_after_mrca False --debug_print False --output_name run_$(($i+$j)) --output_directory ./dominance/N500_b1.0_m100_mu0_r5e-5_mus5e-10_sc1_dc1_L1e4_sp5e3_s1/ --generations_post_fixation_threshold -1 --add_mutations_after_fixation True \n",
      "        done\n",
      "for j in 0 100 200 300 400 ; do \n",
      "        sleepy  --num_generations 1000000 --N 500 --m 100 --b 0.35 --gc 50 --mu 0 --r 5e-05 --L 10000.0 --mu_selection_rates 5e-10 --selection_coefficients 1 --dominance_coefficients 1 --selection_positions 5000 --selection_activation_generation 100000 --percent_fixed 1 --mutation_in_seeds True --stop_after_mrca False --debug_print False --output_name run_$(($i+$j)) --output_directory ./dominance/N500_b0.35_m100_mu0_r5e-5_mus5e-10_sc1_dc1_L1e4_sp5e3_s1/ --generations_post_fixation_threshold -1 --add_mutations_after_fixation True \n",
      "        done\n"
     ]
    }
   ],
   "source": [
    "for d in [0.1, 0.5, 1]: \n",
    "    for b in [1.0, 0.35]:\n",
    "        output_directory = \"./dominance/N500_b\" + str(b) + \"_m100_mu0_r5e-5_mus5e-10_sc1_dc\" + str(d) + \"_L1e4_sp5e3_s1/\"\n",
    "        sleepy(n_simulations=100, num_generations=1000000, N=500, m=100, b=b, gc=50, mu=0, r=5e-5, L=1e4, mu_selection_rates=\"5e-10\", \n",
    "                 selection_coefficients=\"1\",dominance_coefficients=d, selection_positions=\"5000\",\n",
    "                 mutation_in_seeds=True, stop_after_mrca=False, debug_print=False, output_name=\"run\",\n",
    "                 selection_activation_generation=100000, generations_post_fixation_threshold=-1,\n",
    "                 output_directory=output_directory,n_parallel=10, continue_from=0, print_cmd=True, slurm=True, slurm_limit=500, slurm_divide=5);"
   ]
  }
 ],
 "metadata": {
  "kernelspec": {
   "display_name": "Python 3",
   "language": "python",
   "name": "python3"
  },
  "language_info": {
   "codemirror_mode": {
    "name": "ipython",
    "version": 3
   },
   "file_extension": ".py",
   "mimetype": "text/x-python",
   "name": "python",
   "nbconvert_exporter": "python",
   "pygments_lexer": "ipython3",
   "version": "3.8.5"
  }
 },
 "nbformat": 4,
 "nbformat_minor": 5
}
