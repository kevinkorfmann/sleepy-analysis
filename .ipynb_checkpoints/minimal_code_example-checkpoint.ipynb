{
 "cells": [
  {
   "cell_type": "code",
   "execution_count": 55,
   "id": "anonymous-license",
   "metadata": {},
   "outputs": [],
   "source": [
    "from utils import sleepy\n",
    "\n",
    "import tskit\n",
    "import msprime\n",
    "import numpy as np\n",
    "import seaborn as sns\n",
    "import matplotlib.pyplot as plt\n",
    "\n",
    "%matplotlib inline"
   ]
  },
  {
   "cell_type": "markdown",
   "id": "modern-wheel",
   "metadata": {},
   "source": [
    "# Minimal version of simulation function"
   ]
  },
  {
   "cell_type": "code",
   "execution_count": 19,
   "id": "reflected-sauce",
   "metadata": {},
   "outputs": [],
   "source": [
    "def minimal_sleepy(N, b, selection_coefficients=0, selection_activation_generation=100_000, stop_after_mrca=True, output_directory=\"./example/\",\n",
    "                   num_generations=100000000):\n",
    "    sleepy(n_simulations=1, # number of simulations\n",
    "       num_generations=num_generations, # maxium number of generations\n",
    "       N=N, # population size\n",
    "       m=100, # upper-limit of seed generation\n",
    "       b=b, # germination rate\n",
    "       gc=50, # garbage collection\n",
    "       mu=0, # mutation rate\n",
    "       r=5e-5, # recombination rate\n",
    "       L=1e4, # sequence mapping length\n",
    "       \n",
    "       # rate at which selective mutations are introduced *NOT IMPLEMENTED*\n",
    "       # mutations are introduced statically at mutation_activation generation\n",
    "       # if lost reintoduction of mutation\n",
    "       # if fixed stop simulation or continue depending on generations_post_fixation_threshold parameter\n",
    "       mu_selection_rates=\"5e-10\", \n",
    "       \n",
    "       selection_coefficients=selection_coefficients, # selection coefficient\n",
    "       dominance_coefficients=\"0.5\", # dominance coefficient\n",
    "       selection_positions=\"5000\", # mapping postion of positive selection\n",
    "       mutation_in_seeds=True, # allow for mutating seeds\n",
    "       stop_after_mrca=stop_after_mrca, # stop simulation after mrca is found\n",
    "       debug_print=False, # debuging info used during development\n",
    "       output_name=\"run\", # outputname\n",
    "       selection_activation_generation=selection_activation_generation, # selective mutation will be introduced at generation at\n",
    "       generations_post_fixation_threshold=-1, # run for n simulations after fixation event (used for recovery)\n",
    "       output_directory=output_directory,\n",
    "       n_parallel=10, # for running locally\n",
    "       continue_from=0, # start from n-th simulation\n",
    "       print_cmd=False, # don't run but print bash command\n",
    "       slurm=True, # output slurm script\n",
    "       slurm_limit=100, # slurm parallelization options 1\n",
    "       slurm_divide=1); # slurm parallelization options 2"
   ]
  },
  {
   "cell_type": "code",
   "execution_count": null,
   "id": "capital-rubber",
   "metadata": {},
   "outputs": [],
   "source": []
  },
  {
   "cell_type": "markdown",
   "id": "velvet-childhood",
   "metadata": {},
   "source": [
    "# Example"
   ]
  },
  {
   "cell_type": "code",
   "execution_count": 16,
   "id": "separate-remove",
   "metadata": {},
   "outputs": [
    {
     "name": "stdout",
     "output_type": "stream",
     "text": [
      "CPU times: user 0 ns, sys: 6.48 ms, total: 6.48 ms\n",
      "Wall time: 28.8 s\n"
     ]
    }
   ],
   "source": [
    "%%time\n",
    "\n",
    "minimal_sleepy(N=500,\n",
    "               b=1.0,\n",
    "               selection_coefficients=0,\n",
    "               stop_after_mrca=True,\n",
    "               output_directory=\"./germination_rate_b1/\")"
   ]
  },
  {
   "cell_type": "code",
   "execution_count": 20,
   "id": "purple-indiana",
   "metadata": {},
   "outputs": [
    {
     "name": "stdout",
     "output_type": "stream",
     "text": [
      "CPU times: user 4.83 ms, sys: 5.31 ms, total: 10.1 ms\n",
      "Wall time: 2min 28s\n"
     ]
    }
   ],
   "source": [
    "%%time\n",
    "\n",
    "minimal_sleepy(N=500,\n",
    "               b=1.0,\n",
    "               selection_coefficients=0,\n",
    "               num_generations=100_000,\n",
    "               stop_after_mrca=False,\n",
    "               output_directory=\"./germination_rate_b1/\")"
   ]
  },
  {
   "cell_type": "code",
   "execution_count": 17,
   "id": "exclusive-murray",
   "metadata": {},
   "outputs": [
    {
     "name": "stdout",
     "output_type": "stream",
     "text": [
      "CPU times: user 3.11 ms, sys: 4 ms, total: 7.11 ms\n",
      "Wall time: 1min 5s\n"
     ]
    }
   ],
   "source": []
  },
  {
   "cell_type": "code",
   "execution_count": 18,
   "id": "dietary-chase",
   "metadata": {},
   "outputs": [
    {
     "name": "stdout",
     "output_type": "stream",
     "text": [
      "CPU times: user 5.55 ms, sys: 4.52 ms, total: 10.1 ms\n",
      "Wall time: 2min 24s\n"
     ]
    }
   ],
   "source": [
    "%%time\n",
    "\n",
    "minimal_sleepy(N=500,\n",
    "               b=0.35,\n",
    "               selection_coefficients=0,\n",
    "               stop_after_mrca=True,\n",
    "               output_directory=\"./germination_rate_b035/\")"
   ]
  },
  {
   "cell_type": "code",
   "execution_count": 21,
   "id": "hybrid-transmission",
   "metadata": {},
   "outputs": [
    {
     "name": "stdout",
     "output_type": "stream",
     "text": [
      "CPU times: user 4.3 ms, sys: 5.22 ms, total: 9.51 ms\n",
      "Wall time: 3min 1s\n"
     ]
    }
   ],
   "source": [
    "%%time\n",
    "\n",
    "minimal_sleepy(N=500,\n",
    "               b=0.35,\n",
    "               selection_coefficients=0,\n",
    "               num_generations=100_000,\n",
    "               stop_after_mrca=False,\n",
    "               output_directory=\"./germination_rate_b035/\")"
   ]
  },
  {
   "cell_type": "code",
   "execution_count": null,
   "id": "frozen-frederick",
   "metadata": {},
   "outputs": [],
   "source": []
  },
  {
   "cell_type": "code",
   "execution_count": null,
   "id": "accepted-affiliate",
   "metadata": {},
   "outputs": [],
   "source": []
  },
  {
   "cell_type": "code",
   "execution_count": null,
   "id": "lightweight-match",
   "metadata": {},
   "outputs": [],
   "source": []
  },
  {
   "cell_type": "code",
   "execution_count": 34,
   "id": "virtual-instrument",
   "metadata": {},
   "outputs": [],
   "source": [
    "minimal_sleepy(N=500, b=1.0, output_directory=\"./germination_rate_b1/\")\n",
    "minimal_sleepy(N=500, b=0.5, output_directory=\"./germination_rate_b05/\")"
   ]
  },
  {
   "cell_type": "code",
   "execution_count": 4,
   "id": "instrumental-sauce",
   "metadata": {},
   "outputs": [
    {
     "data": {
      "text/html": [
       "\n",
       "            <div>\n",
       "              <style>\n",
       "                .tskit-table thead tr th {text-align: left;padding: 0.5em 0.5em;}\n",
       "                .tskit-table tbody tr td {padding: 0.5em 0.5em;}\n",
       "                .tskit-table tbody tr td:first-of-type {text-align: left;}\n",
       "                .tskit-details-label {vertical-align: top; padding-right:5px;}\n",
       "                .tskit-table-set {display: inline-flex;flex-wrap: wrap;margin: -12px 0 0 -12px;width: calc(100% + 12px);}\n",
       "                .tskit-table-set-table {margin: 12px 0 0 12px;}\n",
       "                details {display: inline-block;}\n",
       "                summary {cursor: pointer; outline: 0; display: list-item;}\n",
       "              </style>\n",
       "              <div class=\"tskit-table-set\">\n",
       "                <div class=\"tskit-table-set-table\">\n",
       "                  <table class=\"tskit-table\">\n",
       "                    <thead>\n",
       "                      <tr>\n",
       "                        <th style=\"padding:0;line-height:21px;\">\n",
       "                          <img style=\"height: 32px;display: inline-block;padding: 3px 5px 3px 0;\" src=\"https://raw.githubusercontent.com/tskit-dev/administrative/main/tskit_logo.svg\"/>\n",
       "                          <a target=\"_blank\" href=\"https://tskit.readthedocs.io/en/latest/python-api.html#the-treesequence-class\"> Tree Sequence </a>\n",
       "                        </th>\n",
       "                      </tr>\n",
       "                    </thead>\n",
       "                    <tbody>\n",
       "                      <tr><td>Trees</td><td>6206</td></tr>\n",
       "                      <tr><td>Sequence Length</td><td>10000.0</td></tr>\n",
       "                      <tr><td>Sample Nodes</td><td>1000</td></tr>\n",
       "                      <tr><td>Total Size</td><td>942.2 KiB</td></tr>\n",
       "                      <tr>\n",
       "                        <td>Metadata</td><td style=\"text-align: left;\">No Metadata</td></tr>\n",
       "                    </tbody>\n",
       "                  </table>\n",
       "                </div>\n",
       "                <div class=\"tskit-table-set-table\">\n",
       "                  <table class=\"tskit-table\">\n",
       "                    <thead>\n",
       "                      <tr>\n",
       "                        <th style=\"line-height:21px;\">Table</th>\n",
       "                        <th>Rows</th>\n",
       "                        <th>Size</th>\n",
       "                        <th>Has Metadata</th>\n",
       "                      </tr>\n",
       "                    </thead>\n",
       "                    <tbody>\n",
       "                    \n",
       "                  <tr>\n",
       "                    <td>Edges</td>\n",
       "                      <td>23240</td>\n",
       "                      <td>635.5 KiB</td>\n",
       "                      <td style=\"text-align: center;\">\n",
       "                        \n",
       "                      </td>\n",
       "                    </tr>\n",
       "                \n",
       "                  <tr>\n",
       "                    <td>Individuals</td>\n",
       "                      <td>0</td>\n",
       "                      <td>12 Bytes</td>\n",
       "                      <td style=\"text-align: center;\">\n",
       "                        \n",
       "                      </td>\n",
       "                    </tr>\n",
       "                \n",
       "                  <tr>\n",
       "                    <td>Migrations</td>\n",
       "                      <td>0</td>\n",
       "                      <td>4 Bytes</td>\n",
       "                      <td style=\"text-align: center;\">\n",
       "                        \n",
       "                      </td>\n",
       "                    </tr>\n",
       "                \n",
       "                  <tr>\n",
       "                    <td>Mutations</td>\n",
       "                      <td>1</td>\n",
       "                      <td>37 Bytes</td>\n",
       "                      <td style=\"text-align: center;\">\n",
       "                        \n",
       "                      </td>\n",
       "                    </tr>\n",
       "                \n",
       "                  <tr>\n",
       "                    <td>Nodes</td>\n",
       "                      <td>5337</td>\n",
       "                      <td>125.1 KiB</td>\n",
       "                      <td style=\"text-align: center;\">\n",
       "                        \n",
       "                      </td>\n",
       "                    </tr>\n",
       "                \n",
       "                  <tr>\n",
       "                    <td>Populations</td>\n",
       "                      <td>0</td>\n",
       "                      <td>4 Bytes</td>\n",
       "                      <td style=\"text-align: center;\">\n",
       "                        \n",
       "                      </td>\n",
       "                    </tr>\n",
       "                \n",
       "                  <tr>\n",
       "                    <td>Provenances</td>\n",
       "                      <td>0</td>\n",
       "                      <td>8 Bytes</td>\n",
       "                      <td style=\"text-align: center;\">\n",
       "                        \n",
       "                      </td>\n",
       "                    </tr>\n",
       "                \n",
       "                  <tr>\n",
       "                    <td>Sites</td>\n",
       "                      <td>1</td>\n",
       "                      <td>25 Bytes</td>\n",
       "                      <td style=\"text-align: center;\">\n",
       "                        \n",
       "                      </td>\n",
       "                    </tr>\n",
       "                \n",
       "                    </tbody>\n",
       "                  </table>\n",
       "                </div>\n",
       "              </div>\n",
       "            </div>\n",
       "            "
      ],
      "text/plain": [
       "<tskit.trees.TreeSequence at 0x7f783cef7c70>"
      ]
     },
     "execution_count": 4,
     "metadata": {},
     "output_type": "execute_result"
    }
   ],
   "source": [
    "ts_b1 = tskit.load(\"./germination_rate_b1_m1/run_0.trees\"); ts_b1"
   ]
  },
  {
   "cell_type": "code",
   "execution_count": 16,
   "id": "breathing-delicious",
   "metadata": {},
   "outputs": [
    {
     "data": {
      "text/html": [
       "\n",
       "            <div>\n",
       "              <style>\n",
       "                .tskit-table thead tr th {text-align: left;padding: 0.5em 0.5em;}\n",
       "                .tskit-table tbody tr td {padding: 0.5em 0.5em;}\n",
       "                .tskit-table tbody tr td:first-of-type {text-align: left;}\n",
       "                .tskit-details-label {vertical-align: top; padding-right:5px;}\n",
       "                .tskit-table-set {display: inline-flex;flex-wrap: wrap;margin: -12px 0 0 -12px;width: calc(100% + 12px);}\n",
       "                .tskit-table-set-table {margin: 12px 0 0 12px;}\n",
       "                details {display: inline-block;}\n",
       "                summary {cursor: pointer; outline: 0; display: list-item;}\n",
       "              </style>\n",
       "              <div class=\"tskit-table-set\">\n",
       "                <div class=\"tskit-table-set-table\">\n",
       "                  <table class=\"tskit-table\">\n",
       "                    <thead>\n",
       "                      <tr>\n",
       "                        <th style=\"padding:0;line-height:21px;\">\n",
       "                          <img style=\"height: 32px;display: inline-block;padding: 3px 5px 3px 0;\" src=\"https://raw.githubusercontent.com/tskit-dev/administrative/main/tskit_logo.svg\"/>\n",
       "                          <a target=\"_blank\" href=\"https://tskit.readthedocs.io/en/latest/python-api.html#the-treesequence-class\"> Tree Sequence </a>\n",
       "                        </th>\n",
       "                      </tr>\n",
       "                    </thead>\n",
       "                    <tbody>\n",
       "                      <tr><td>Trees</td><td>8056</td></tr>\n",
       "                      <tr><td>Sequence Length</td><td>10000.0</td></tr>\n",
       "                      <tr><td>Sample Nodes</td><td>1000</td></tr>\n",
       "                      <tr><td>Total Size</td><td>1.2 MiB</td></tr>\n",
       "                      <tr>\n",
       "                        <td>Metadata</td><td style=\"text-align: left;\">No Metadata</td></tr>\n",
       "                    </tbody>\n",
       "                  </table>\n",
       "                </div>\n",
       "                <div class=\"tskit-table-set-table\">\n",
       "                  <table class=\"tskit-table\">\n",
       "                    <thead>\n",
       "                      <tr>\n",
       "                        <th style=\"line-height:21px;\">Table</th>\n",
       "                        <th>Rows</th>\n",
       "                        <th>Size</th>\n",
       "                        <th>Has Metadata</th>\n",
       "                      </tr>\n",
       "                    </thead>\n",
       "                    <tbody>\n",
       "                    \n",
       "                  <tr>\n",
       "                    <td>Edges</td>\n",
       "                      <td>29731</td>\n",
       "                      <td>813.0 KiB</td>\n",
       "                      <td style=\"text-align: center;\">\n",
       "                        \n",
       "                      </td>\n",
       "                    </tr>\n",
       "                \n",
       "                  <tr>\n",
       "                    <td>Individuals</td>\n",
       "                      <td>0</td>\n",
       "                      <td>12 Bytes</td>\n",
       "                      <td style=\"text-align: center;\">\n",
       "                        \n",
       "                      </td>\n",
       "                    </tr>\n",
       "                \n",
       "                  <tr>\n",
       "                    <td>Migrations</td>\n",
       "                      <td>0</td>\n",
       "                      <td>4 Bytes</td>\n",
       "                      <td style=\"text-align: center;\">\n",
       "                        \n",
       "                      </td>\n",
       "                    </tr>\n",
       "                \n",
       "                  <tr>\n",
       "                    <td>Mutations</td>\n",
       "                      <td>1</td>\n",
       "                      <td>37 Bytes</td>\n",
       "                      <td style=\"text-align: center;\">\n",
       "                        \n",
       "                      </td>\n",
       "                    </tr>\n",
       "                \n",
       "                  <tr>\n",
       "                    <td>Nodes</td>\n",
       "                      <td>6366</td>\n",
       "                      <td>149.2 KiB</td>\n",
       "                      <td style=\"text-align: center;\">\n",
       "                        \n",
       "                      </td>\n",
       "                    </tr>\n",
       "                \n",
       "                  <tr>\n",
       "                    <td>Populations</td>\n",
       "                      <td>0</td>\n",
       "                      <td>4 Bytes</td>\n",
       "                      <td style=\"text-align: center;\">\n",
       "                        \n",
       "                      </td>\n",
       "                    </tr>\n",
       "                \n",
       "                  <tr>\n",
       "                    <td>Provenances</td>\n",
       "                      <td>0</td>\n",
       "                      <td>8 Bytes</td>\n",
       "                      <td style=\"text-align: center;\">\n",
       "                        \n",
       "                      </td>\n",
       "                    </tr>\n",
       "                \n",
       "                  <tr>\n",
       "                    <td>Sites</td>\n",
       "                      <td>1</td>\n",
       "                      <td>25 Bytes</td>\n",
       "                      <td style=\"text-align: center;\">\n",
       "                        \n",
       "                      </td>\n",
       "                    </tr>\n",
       "                \n",
       "                    </tbody>\n",
       "                  </table>\n",
       "                </div>\n",
       "              </div>\n",
       "            </div>\n",
       "            "
      ],
      "text/plain": [
       "<tskit.trees.TreeSequence at 0x7f783c420c70>"
      ]
     },
     "execution_count": 16,
     "metadata": {},
     "output_type": "execute_result"
    }
   ],
   "source": [
    "ts_b05 = tskit.load(\"./germination_rate_b05/run_0.trees\"); ts_b05"
   ]
  },
  {
   "cell_type": "code",
   "execution_count": 13,
   "id": "focused-behalf",
   "metadata": {},
   "outputs": [],
   "source": [
    "windows = np.linspace(0, 10_000, 50) # window size 200"
   ]
  },
  {
   "cell_type": "code",
   "execution_count": 17,
   "id": "educational-response",
   "metadata": {},
   "outputs": [
    {
     "data": {
      "text/plain": [
       "Text(0.5, 1.0, 'b = 0.5')"
      ]
     },
     "execution_count": 17,
     "metadata": {},
     "output_type": "execute_result"
    },
    {
     "data": {
      "image/png": "[encoded data removed]",
      "text/plain": [
       "<Figure size 1008x432 with 2 Axes>"
      ]
     },
     "metadata": {},
     "output_type": "display_data"
    }
   ],
   "source": [
    "def calculate_diversity_along_genome(ts):\n",
    "    ts = msprime.sim_mutations(ts, rate=5e-5, discrete_genome=False, keep=False)\n",
    "    windows = np.linspace(0, ts.sequence_length, 50) # window size 200\n",
    "    diversity = ts.diversity(windows=windows, span_normalise=True, mode=\"site\").tolist()\n",
    "    return diversity\n",
    "\n",
    "\n",
    "\n",
    "sns.set_style(\"ticks\")\n",
    "fig, ax = plt.subplots(1, 2, figsize=(14, 6), sharey=True)\n",
    "\n",
    "sns.lineplot(x=windows[:-1], y=calculate_diversity_along_genome(ts_b1), ax=ax[0])\n",
    "ax[0].set(xlabel=\"mapping length\", ylabel=\"genetic diversity [tajima's pi]\")\n",
    "ax[0].set_title('b = 1.0')\n",
    "\n",
    "sns.lineplot(x=windows[:-1], y=calculate_diversity_along_genome(ts_b05), ax=ax[1])\n",
    "ax[1].set(xlabel=\"mapping length\", ylabel=\"genetic diversity [tajima's pi]\")\n",
    "ax[1].set_title('b = 0.5')"
   ]
  },
  {
   "cell_type": "code",
   "execution_count": null,
   "id": "legitimate-opening",
   "metadata": {},
   "outputs": [],
   "source": []
  },
  {
   "cell_type": "code",
   "execution_count": null,
   "id": "unavailable-official",
   "metadata": {},
   "outputs": [],
   "source": []
  },
  {
   "cell_type": "code",
   "execution_count": null,
   "id": "usual-importance",
   "metadata": {},
   "outputs": [],
   "source": []
  },
  {
   "cell_type": "code",
   "execution_count": null,
   "id": "narrative-holiday",
   "metadata": {},
   "outputs": [],
   "source": []
  },
  {
   "cell_type": "code",
   "execution_count": 5,
   "id": "least-ordinary",
   "metadata": {},
   "outputs": [
    {
     "name": "stdout",
     "output_type": "stream",
     "text": [
      "25.8 s ± 169 ms per loop (mean ± std. dev. of 7 runs, 1 loop each)\n"
     ]
    }
   ],
   "source": [
    "%%timeit\n",
    "\n",
    "minimal_sleepy(N=500, b=1.0, output_directory=\"./germination_rate_b1/\")"
   ]
  },
  {
   "cell_type": "code",
   "execution_count": 6,
   "id": "stone-brazil",
   "metadata": {},
   "outputs": [
    {
     "name": "stdout",
     "output_type": "stream",
     "text": [
      "38.6 s ± 5.09 s per loop (mean ± std. dev. of 7 runs, 1 loop each)\n"
     ]
    }
   ],
   "source": [
    "%%timeit\n",
    "\n",
    "minimal_sleepy(N=500, b=0.5, output_directory=\"./germination_rate_b05/\")"
   ]
  },
  {
   "cell_type": "code",
   "execution_count": 7,
   "id": "korean-portland",
   "metadata": {},
   "outputs": [
    {
     "name": "stdout",
     "output_type": "stream",
     "text": [
      "40.8 s ± 4.9 s per loop (mean ± std. dev. of 7 runs, 1 loop each)\n"
     ]
    }
   ],
   "source": [
    "%%timeit\n",
    "\n",
    "minimal_sleepy(N=500, b=0.35, output_directory=\"./germination_rate_b035/\")"
   ]
  },
  {
   "cell_type": "code",
   "execution_count": 8,
   "id": "wrong-measurement",
   "metadata": {},
   "outputs": [
    {
     "name": "stdout",
     "output_type": "stream",
     "text": [
      "52 s ± 11.4 s per loop (mean ± std. dev. of 7 runs, 1 loop each)\n"
     ]
    }
   ],
   "source": [
    "%%timeit\n",
    "\n",
    "minimal_sleepy(N=500, b=0.25, output_directory=\"./germination_rate_b035/\")"
   ]
  },
  {
   "cell_type": "code",
   "execution_count": null,
   "id": "entire-property",
   "metadata": {},
   "outputs": [],
   "source": []
  },
  {
   "cell_type": "code",
   "execution_count": null,
   "id": "structured-account",
   "metadata": {},
   "outputs": [],
   "source": []
  },
  {
   "cell_type": "code",
   "execution_count": 21,
   "id": "electronic-renewal",
   "metadata": {},
   "outputs": [
    {
     "name": "stdout",
     "output_type": "stream",
     "text": [
      "44.6 s ± 4.21 s per loop (mean ± std. dev. of 7 runs, 1 loop each)\n"
     ]
    }
   ],
   "source": [
    "%%timeit \n",
    "minimal_sleepy(N=500,\n",
    "               b=1.0,\n",
    "               stop_after_mrca=True,\n",
    "               output_directory=\"./germination_rate_b1/\")"
   ]
  },
  {
   "cell_type": "code",
   "execution_count": null,
   "id": "substantial-collector",
   "metadata": {},
   "outputs": [],
   "source": [
    "%%timeit -n 10\n",
    "\n",
    "minimal_sleepy(N=500,\n",
    "               b=0.5,\n",
    "               stop_after_mrca=True,\n",
    "               output_directory=\"./germination_rate_b05/\")"
   ]
  },
  {
   "cell_type": "code",
   "execution_count": null,
   "id": "actual-sodium",
   "metadata": {},
   "outputs": [],
   "source": []
  },
  {
   "cell_type": "code",
   "execution_count": null,
   "id": "neural-rebound",
   "metadata": {},
   "outputs": [],
   "source": []
  },
  {
   "cell_type": "code",
   "execution_count": null,
   "id": "alone-budapest",
   "metadata": {},
   "outputs": [],
   "source": []
  },
  {
   "cell_type": "code",
   "execution_count": null,
   "id": "continent-grocery",
   "metadata": {},
   "outputs": [],
   "source": []
  },
  {
   "cell_type": "code",
   "execution_count": null,
   "id": "cooperative-perth",
   "metadata": {},
   "outputs": [],
   "source": []
  },
  {
   "cell_type": "code",
   "execution_count": null,
   "id": "awful-water",
   "metadata": {},
   "outputs": [],
   "source": []
  },
  {
   "cell_type": "code",
   "execution_count": null,
   "id": "supposed-stake",
   "metadata": {},
   "outputs": [],
   "source": []
  },
  {
   "cell_type": "code",
   "execution_count": null,
   "id": "scientific-repeat",
   "metadata": {},
   "outputs": [],
   "source": []
  },
  {
   "cell_type": "code",
   "execution_count": 10,
   "id": "naked-trust",
   "metadata": {},
   "outputs": [
    {
     "name": "stdout",
     "output_type": "stream",
     "text": [
      "for j in 0 100 200 300 400 ; do \n",
      "        sleepy  --num_generations 100000000 --N 500 --m 100 --b 1.0 --gc 50 --r 5e-05 --L 10000.0 --selection_coefficient 1 --dominance_coefficient 0.1 --selection_position 5000 --selection_activation_generation 100000 --stop_after_mrca False --debug_print False --output_name run_$(($i+$j)) --output_directory ./dominance/N500_b1.0_m100_r5e-5_sc1_dc0.1_L1e4_sp5e3_s1/ --generations_post_fixation_threshold -1 --add_mutations_after_fixation True \n",
      "        done\n",
      "for j in 0 100 200 300 400 ; do \n",
      "        sleepy  --num_generations 100000000 --N 500 --m 100 --b 0.35 --gc 50 --r 5e-05 --L 10000.0 --selection_coefficient 1 --dominance_coefficient 0.1 --selection_position 5000 --selection_activation_generation 100000 --stop_after_mrca False --debug_print False --output_name run_$(($i+$j)) --output_directory ./dominance/N500_b0.35_m100_r5e-5_sc1_dc0.1_L1e4_sp5e3_s1/ --generations_post_fixation_threshold -1 --add_mutations_after_fixation True \n",
      "        done\n",
      "for j in 0 100 200 300 400 ; do \n",
      "        sleepy  --num_generations 100000000 --N 500 --m 100 --b 1.0 --gc 50 --r 5e-05 --L 10000.0 --selection_coefficient 1 --dominance_coefficient 0.5 --selection_position 5000 --selection_activation_generation 100000 --stop_after_mrca False --debug_print False --output_name run_$(($i+$j)) --output_directory ./dominance/N500_b1.0_m100_r5e-5_sc1_dc0.5_L1e4_sp5e3_s1/ --generations_post_fixation_threshold -1 --add_mutations_after_fixation True \n",
      "        done\n",
      "for j in 0 100 200 300 400 ; do \n",
      "        sleepy  --num_generations 100000000 --N 500 --m 100 --b 0.35 --gc 50 --r 5e-05 --L 10000.0 --selection_coefficient 1 --dominance_coefficient 0.5 --selection_position 5000 --selection_activation_generation 100000 --stop_after_mrca False --debug_print False --output_name run_$(($i+$j)) --output_directory ./dominance/N500_b0.35_m100_r5e-5_sc1_dc0.5_L1e4_sp5e3_s1/ --generations_post_fixation_threshold -1 --add_mutations_after_fixation True \n",
      "        done\n",
      "for j in 0 100 200 300 400 ; do \n",
      "        sleepy  --num_generations 100000000 --N 500 --m 100 --b 1.0 --gc 50 --r 5e-05 --L 10000.0 --selection_coefficient 1 --dominance_coefficient 1 --selection_position 5000 --selection_activation_generation 100000 --stop_after_mrca False --debug_print False --output_name run_$(($i+$j)) --output_directory ./dominance/N500_b1.0_m100_r5e-5_sc1_dc1_L1e4_sp5e3_s1/ --generations_post_fixation_threshold -1 --add_mutations_after_fixation True \n",
      "        done\n",
      "for j in 0 100 200 300 400 ; do \n",
      "        sleepy  --num_generations 100000000 --N 500 --m 100 --b 0.35 --gc 50 --r 5e-05 --L 10000.0 --selection_coefficient 1 --dominance_coefficient 1 --selection_position 5000 --selection_activation_generation 100000 --stop_after_mrca False --debug_print False --output_name run_$(($i+$j)) --output_directory ./dominance/N500_b0.35_m100_r5e-5_sc1_dc1_L1e4_sp5e3_s1/ --generations_post_fixation_threshold -1 --add_mutations_after_fixation True \n",
      "        done\n"
     ]
    }
   ],
   "source": [
    "for d in [0.1, 0.5, 1]: \n",
    "    for b in [1.0, 0.35]:\n",
    "        output_directory = \"./dominance/N500_b\" + str(b) + \"_m100_r5e-5_sc1_dc\" + str(d) + \"_L1e4_sp5e3_s1/\"\n",
    "        sleepy(n_simulations=100,\n",
    "               N=500, \n",
    "               m=100, \n",
    "               b=b, \n",
    "               gc=50, \n",
    "               r=5e-5, \n",
    "               L=1e4, \n",
    "               selection_coefficient=\"1\",\n",
    "               dominance_coefficient=d, \n",
    "               selection_position=\"5000\",\n",
    "               stop_after_mrca=False, \n",
    "               output_name=\"run\",\n",
    "               selection_activation_generation=100000, \n",
    "               generations_post_fixation_threshold=-1, \n",
    "               output_directory=output_directory,\n",
    "               n_parallel=10, \n",
    "               continue_from=0, \n",
    "               print_cmd=True, \n",
    "               slurm=True, \n",
    "               slurm_limit=500, \n",
    "               slurm_divide=5);"
   ]
  },
  {
   "cell_type": "code",
   "execution_count": 53,
   "id": "desirable-reservation",
   "metadata": {},
   "outputs": [],
   "source": [
    "def sleepy(\n",
    "    n_simulations: int = 1,\n",
    "    num_generations: int = 100000000,\n",
    "    N: int = 500,\n",
    "    m: int = 100,\n",
    "    b: float = 1,\n",
    "    gc: int = 50,\n",
    "    r: float =5e-5, \n",
    "    L: int = 10000, \n",
    "    s: str = \"1\",\n",
    "    d: str = \"0.5\", \n",
    "    selection_position: str = \"5000\", \n",
    "    selection_activation_generation: int = 100_000,\n",
    "    stop_after_mrca: bool = False, \n",
    "    output_name: str = \"run\", \n",
    "    generations_post_fixation_threshold: int = 0,\n",
    "    add_mutations_after_fixation: bool = True,\n",
    "    output_directory: str = \"./\", # make sure to end path with \"/\"\n",
    "    n_parallel: int = 10, \n",
    "    continue_from: int = 0, \n",
    "    \n",
    "    print_cmd: bool = False, # don't run program, but print bash script \n",
    "    slurm = False,\n",
    "    slurm_start = 0, \n",
    "    slurm_divide = 2, \n",
    "    slurm_limit = 200\n",
    ") -> None:\n",
    "    \n",
    "    \"\"\" Python-wrapper for sleepy simulator bash script generation. Also, capable of\n",
    "    directly running simulations locally if print_cmd is false and slurm is false.\n",
    "    \n",
    "    Arg types: \n",
    "        * **n_simulations** *(int)* - Number of simulations if script is directly to be run locally.\n",
    "        * **num_generations** *(int)* - Maximum number of generations (multiplied by gc).\n",
    "        * **N** *(int)* - Diploid population size N=500 -> 1000 Haplotypes.\n",
    "        * **m** *(int)* - Number of generations from which seeds can resusicate.\n",
    "        * **b** *(float)* - Germination rate.\n",
    "        * **gc** *(int)* - Garbage collection interval.\n",
    "        * **r** *(int)* - Recombination rate.\n",
    "        * **L** *(int)* - Mapping length.\n",
    "        * **s** *(str)* - Selection coefficient.\n",
    "        * **d** *(str)* - Dominance coefficient.\n",
    "        * **selection_position** *(str)* - Selection position.\n",
    "        * **selection_activation_generation** *(int)* - Generation from which to start introducing selective alleles.\n",
    "        * **stop_after_mrca** *(bool)* - Stop simulation after MRCA is reached.\n",
    "        * **output_name** *(str)* - Output name.\n",
    "        * **generations_post_fixation_threshold** *(int)* - Number of generations to add after fixation event.\n",
    "        * **add_mutations_after_fixation** *(bool)* - Adding mutation after first fixation event, necessary for recovery.\n",
    "        * **output_directory** *(int)* - Output directory.\n",
    "        * **n_parallel** *(int)* - Number of parallel simulation when running locally.\n",
    "        * **continue_from** *(int)* - Continue simulations from run n if running locally.\n",
    "        * **print_cmd** *(bool)* - Number of simulations if script is directly to be run locally.\n",
    "        * **slurm** *(bool)* - Create part of slurm script for easy parallelization.\n",
    "        * **slurm_start** *(int)* - Start slurm simulatons from.\n",
    "        * **slurm_divide** *(int)* - Divid slurm_limit by.\n",
    "        * **slurm_limit** *(int)* - Number of slurm simulations.\n",
    "    \"\"\"\n",
    "    \n",
    "    \n",
    "    if output_directory[-1] != \"/\": output_directory += \"/\"\n",
    "    \n",
    "    debug_print=False\n",
    "    kwargs = { \n",
    "        \"num_generations\" : num_generations,\n",
    "        \"N\":N, \n",
    "        \"m\":m, \n",
    "        \"b\":b, \n",
    "        \"gc\":gc, \n",
    "        \"r\":r, \n",
    "        \"L\":L, \n",
    "        \"selection_coefficient\":s,\n",
    "        \"dominance_coefficient\":d, \n",
    "        \"selection_position\":selection_position, \n",
    "        \"selection_activation_generation\":selection_activation_generation,\n",
    "        \"stop_after_mrca\":stop_after_mrca, \n",
    "        \"debug_print\":debug_print, \n",
    "        \"output_name\":output_name, \n",
    "        \"output_directory\":output_directory,\n",
    "        \"generations_post_fixation_threshold\": generations_post_fixation_threshold,\n",
    "        \"add_mutations_after_fixation\":add_mutations_after_fixation \n",
    "    }\n",
    "    \n",
    "    cmd_arg_part = \"\"\n",
    "    for k,v in zip(kwargs.keys(), kwargs.values()):\n",
    "        cmd_arg_part += \"--\" + str(k) + \" \" + str(v) \n",
    "        if k == \"output_name\":\n",
    "            if slurm:\n",
    "                cmd_arg_part += str(\"_$(($i+$j))\")\n",
    "            else:\n",
    "                cmd_arg_part += str(\"_$i\")\n",
    "        cmd_arg_part += \" \"\n",
    "    \n",
    "    if slurm:\n",
    "        \n",
    "        loop = \"\" \n",
    "        increment = 0 + slurm_start\n",
    "        for i in range(slurm_divide):\n",
    "\n",
    "            loop += str(int(increment)) + \" \"\n",
    "            increment += slurm_limit / slurm_divide\n",
    "\n",
    "\n",
    "        script = \"\"\"for j in \"\"\" + loop + \"\"\"; do \n",
    "        sleepy  \"\"\" + cmd_arg_part + \"\"\"\n",
    "        done\"\"\"\n",
    "        \n",
    "    else:    \n",
    "        script = \"\"\"\n",
    "\n",
    "            n_simulations=\"\"\" + str(n_simulations) + \"\"\"\n",
    "            n_prog=\"\"\" + str(n_parallel) + \"\"\"\n",
    "            n_prog_count=0\n",
    "\n",
    "            i=\"\"\" + str(continue_from) + \"\"\"\n",
    "            while [[ $i -lt $n_simulations ]]; do\n",
    "\n",
    "            sleepy \"\"\" + cmd_arg_part + \"\"\" &\n",
    "                 (( n_prog_count+=1 ))  \n",
    "                 [[ $((n_prog_count%n_prog)) -eq 0 ]] && wait\n",
    "                 (( i+=1 ))\n",
    "            done\n",
    "            \"\"\"\n",
    "    \n",
    "    if print_cmd: print(script)\n",
    "    else: return run_bash_script(script)"
   ]
  },
  {
   "cell_type": "code",
   "execution_count": null,
   "id": "expensive-basic",
   "metadata": {},
   "outputs": [],
   "source": []
  },
  {
   "cell_type": "code",
   "execution_count": 54,
   "id": "adaptive-worcester",
   "metadata": {},
   "outputs": [
    {
     "data": {
      "text/plain": [
       "''"
      ]
     },
     "execution_count": 54,
     "metadata": {},
     "output_type": "execute_result"
    }
   ],
   "source": [
    "sleepy()"
   ]
  },
  {
   "cell_type": "code",
   "execution_count": null,
   "id": "remarkable-irish",
   "metadata": {},
   "outputs": [],
   "source": []
  },
  {
   "cell_type": "code",
   "execution_count": null,
   "id": "piano-provincial",
   "metadata": {},
   "outputs": [],
   "source": [
    "def calculate_diversity_along_genome(ts):\n",
    "    ts = msprime.sim_mutations(ts, rate=5e-5, discrete_genome=False, keep=False)\n",
    "    windows = np.linspace(0, ts.sequence_length, 50) # window size 200\n",
    "    diversity = ts.diversity(windows=windows, span_normalise=True, mode=\"site\").tolist()\n",
    "    return diversity\n",
    "\n",
    "\n",
    "\n",
    "sns.set_style(\"ticks\")\n",
    "fig, ax = plt.subplots(1, 2, figsize=(14, 6), sharey=True)\n",
    "\n",
    "sns.lineplot(x=windows[:-1], y=calculate_diversity_along_genome(ts_b1), ax=ax[0])\n",
    "ax[0].set(xlabel=\"mapping length\", ylabel=\"genetic diversity [tajima's pi]\")\n",
    "ax[0].set_title('b = 1.0')\n",
    "\n",
    "sns.lineplot(x=windows[:-1], y=calculate_diversity_along_genome(ts_b05), ax=ax[1])\n",
    "ax[1].set(xlabel=\"mapping length\", ylabel=\"genetic diversity [tajima's pi]\")\n",
    "ax[1].set_title('b = 0.5')"
   ]
  }
 ],
 "metadata": {
  "kernelspec": {
   "display_name": "Python 3",
   "language": "python",
   "name": "python3"
  },
  "language_info": {
   "codemirror_mode": {
    "name": "ipython",
    "version": 3
   },
   "file_extension": ".py",
   "mimetype": "text/x-python",
   "name": "python",
   "nbconvert_exporter": "python",
   "pygments_lexer": "ipython3",
   "version": "3.8.5"
  }
 },
 "nbformat": 4,
 "nbformat_minor": 5
}
