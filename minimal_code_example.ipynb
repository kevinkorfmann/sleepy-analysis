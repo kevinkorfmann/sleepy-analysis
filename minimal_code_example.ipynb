{
 "cells": [
  {
   "cell_type": "code",
   "execution_count": 19,
   "id": "pregnant-harassment",
   "metadata": {},
   "outputs": [],
   "source": [
    "import tskit\n",
    "import msprime\n",
    "import numpy as np\n",
    "import seaborn as sns\n",
    "import matplotlib.pyplot as plt\n",
    "%matplotlib inline"
   ]
  },
  {
   "cell_type": "code",
   "execution_count": 20,
   "id": "relative-digit",
   "metadata": {},
   "outputs": [],
   "source": [
    "from utils import sleepy"
   ]
  },
  {
   "cell_type": "markdown",
   "id": "dressed-survivor",
   "metadata": {},
   "source": [
    "# sleepy function"
   ]
  },
  {
   "cell_type": "code",
   "execution_count": 2,
   "id": "adaptive-cooler",
   "metadata": {},
   "outputs": [
    {
     "data": {
      "text/plain": [
       "\u001b[0;31mSignature:\u001b[0m\n",
       "\u001b[0msleepy\u001b[0m\u001b[0;34m(\u001b[0m\u001b[0;34m\u001b[0m\n",
       "\u001b[0;34m\u001b[0m    \u001b[0mn_simulations\u001b[0m\u001b[0;34m:\u001b[0m \u001b[0mint\u001b[0m \u001b[0;34m=\u001b[0m \u001b[0;36m1\u001b[0m\u001b[0;34m,\u001b[0m\u001b[0;34m\u001b[0m\n",
       "\u001b[0;34m\u001b[0m    \u001b[0mnum_generations\u001b[0m\u001b[0;34m:\u001b[0m \u001b[0mint\u001b[0m \u001b[0;34m=\u001b[0m \u001b[0;36m100000000\u001b[0m\u001b[0;34m,\u001b[0m\u001b[0;34m\u001b[0m\n",
       "\u001b[0;34m\u001b[0m    \u001b[0mN\u001b[0m\u001b[0;34m:\u001b[0m \u001b[0mint\u001b[0m \u001b[0;34m=\u001b[0m \u001b[0;36m500\u001b[0m\u001b[0;34m,\u001b[0m\u001b[0;34m\u001b[0m\n",
       "\u001b[0;34m\u001b[0m    \u001b[0mm\u001b[0m\u001b[0;34m:\u001b[0m \u001b[0mint\u001b[0m \u001b[0;34m=\u001b[0m \u001b[0;36m100\u001b[0m\u001b[0;34m,\u001b[0m\u001b[0;34m\u001b[0m\n",
       "\u001b[0;34m\u001b[0m    \u001b[0mb\u001b[0m\u001b[0;34m:\u001b[0m \u001b[0mfloat\u001b[0m \u001b[0;34m=\u001b[0m \u001b[0;36m1\u001b[0m\u001b[0;34m,\u001b[0m\u001b[0;34m\u001b[0m\n",
       "\u001b[0;34m\u001b[0m    \u001b[0mgc\u001b[0m\u001b[0;34m:\u001b[0m \u001b[0mint\u001b[0m \u001b[0;34m=\u001b[0m \u001b[0;36m50\u001b[0m\u001b[0;34m,\u001b[0m\u001b[0;34m\u001b[0m\n",
       "\u001b[0;34m\u001b[0m    \u001b[0mr\u001b[0m\u001b[0;34m:\u001b[0m \u001b[0mfloat\u001b[0m \u001b[0;34m=\u001b[0m \u001b[0;36m5e-05\u001b[0m\u001b[0;34m,\u001b[0m\u001b[0;34m\u001b[0m\n",
       "\u001b[0;34m\u001b[0m    \u001b[0mL\u001b[0m\u001b[0;34m:\u001b[0m \u001b[0mint\u001b[0m \u001b[0;34m=\u001b[0m \u001b[0;36m10000\u001b[0m\u001b[0;34m,\u001b[0m\u001b[0;34m\u001b[0m\n",
       "\u001b[0;34m\u001b[0m    \u001b[0ms\u001b[0m\u001b[0;34m:\u001b[0m \u001b[0mstr\u001b[0m \u001b[0;34m=\u001b[0m \u001b[0;34m'1'\u001b[0m\u001b[0;34m,\u001b[0m\u001b[0;34m\u001b[0m\n",
       "\u001b[0;34m\u001b[0m    \u001b[0md\u001b[0m\u001b[0;34m:\u001b[0m \u001b[0mstr\u001b[0m \u001b[0;34m=\u001b[0m \u001b[0;34m'0.5'\u001b[0m\u001b[0;34m,\u001b[0m\u001b[0;34m\u001b[0m\n",
       "\u001b[0;34m\u001b[0m    \u001b[0mselection_position\u001b[0m\u001b[0;34m:\u001b[0m \u001b[0mstr\u001b[0m \u001b[0;34m=\u001b[0m \u001b[0;34m'5000'\u001b[0m\u001b[0;34m,\u001b[0m\u001b[0;34m\u001b[0m\n",
       "\u001b[0;34m\u001b[0m    \u001b[0mselection_activation_generation\u001b[0m\u001b[0;34m:\u001b[0m \u001b[0mint\u001b[0m \u001b[0;34m=\u001b[0m \u001b[0;36m100000\u001b[0m\u001b[0;34m,\u001b[0m\u001b[0;34m\u001b[0m\n",
       "\u001b[0;34m\u001b[0m    \u001b[0mstop_after_mrca\u001b[0m\u001b[0;34m:\u001b[0m \u001b[0mbool\u001b[0m \u001b[0;34m=\u001b[0m \u001b[0;32mFalse\u001b[0m\u001b[0;34m,\u001b[0m\u001b[0;34m\u001b[0m\n",
       "\u001b[0;34m\u001b[0m    \u001b[0moutput_name\u001b[0m\u001b[0;34m:\u001b[0m \u001b[0mstr\u001b[0m \u001b[0;34m=\u001b[0m \u001b[0;34m'run'\u001b[0m\u001b[0;34m,\u001b[0m\u001b[0;34m\u001b[0m\n",
       "\u001b[0;34m\u001b[0m    \u001b[0mgenerations_post_fixation_threshold\u001b[0m\u001b[0;34m:\u001b[0m \u001b[0mint\u001b[0m \u001b[0;34m=\u001b[0m \u001b[0;36m0\u001b[0m\u001b[0;34m,\u001b[0m\u001b[0;34m\u001b[0m\n",
       "\u001b[0;34m\u001b[0m    \u001b[0madd_mutations_after_fixation\u001b[0m\u001b[0;34m:\u001b[0m \u001b[0mbool\u001b[0m \u001b[0;34m=\u001b[0m \u001b[0;32mTrue\u001b[0m\u001b[0;34m,\u001b[0m\u001b[0;34m\u001b[0m\n",
       "\u001b[0;34m\u001b[0m    \u001b[0moutput_directory\u001b[0m\u001b[0;34m:\u001b[0m \u001b[0mstr\u001b[0m \u001b[0;34m=\u001b[0m \u001b[0;34m'./'\u001b[0m\u001b[0;34m,\u001b[0m\u001b[0;34m\u001b[0m\n",
       "\u001b[0;34m\u001b[0m    \u001b[0mn_parallel\u001b[0m\u001b[0;34m:\u001b[0m \u001b[0mint\u001b[0m \u001b[0;34m=\u001b[0m \u001b[0;36m10\u001b[0m\u001b[0;34m,\u001b[0m\u001b[0;34m\u001b[0m\n",
       "\u001b[0;34m\u001b[0m    \u001b[0mcontinue_from\u001b[0m\u001b[0;34m:\u001b[0m \u001b[0mint\u001b[0m \u001b[0;34m=\u001b[0m \u001b[0;36m0\u001b[0m\u001b[0;34m,\u001b[0m\u001b[0;34m\u001b[0m\n",
       "\u001b[0;34m\u001b[0m    \u001b[0mprint_cmd\u001b[0m\u001b[0;34m:\u001b[0m \u001b[0mbool\u001b[0m \u001b[0;34m=\u001b[0m \u001b[0;32mFalse\u001b[0m\u001b[0;34m,\u001b[0m\u001b[0;34m\u001b[0m\n",
       "\u001b[0;34m\u001b[0m    \u001b[0mslurm\u001b[0m\u001b[0;34m=\u001b[0m\u001b[0;32mFalse\u001b[0m\u001b[0;34m,\u001b[0m\u001b[0;34m\u001b[0m\n",
       "\u001b[0;34m\u001b[0m    \u001b[0mslurm_start\u001b[0m\u001b[0;34m=\u001b[0m\u001b[0;36m0\u001b[0m\u001b[0;34m,\u001b[0m\u001b[0;34m\u001b[0m\n",
       "\u001b[0;34m\u001b[0m    \u001b[0mslurm_divide\u001b[0m\u001b[0;34m=\u001b[0m\u001b[0;36m2\u001b[0m\u001b[0;34m,\u001b[0m\u001b[0;34m\u001b[0m\n",
       "\u001b[0;34m\u001b[0m    \u001b[0mslurm_limit\u001b[0m\u001b[0;34m=\u001b[0m\u001b[0;36m200\u001b[0m\u001b[0;34m,\u001b[0m\u001b[0;34m\u001b[0m\n",
       "\u001b[0;34m\u001b[0m\u001b[0;34m)\u001b[0m \u001b[0;34m->\u001b[0m \u001b[0;32mNone\u001b[0m\u001b[0;34m\u001b[0m\u001b[0;34m\u001b[0m\u001b[0m\n",
       "\u001b[0;31mDocstring:\u001b[0m\n",
       "Python-wrapper for sleepy simulator bash script generation. Also, capable of\n",
       "directly running simulations locally if print_cmd is false and slurm is false.\n",
       "\n",
       "Arg types: \n",
       "    * **n_simulations** *(int)* - Number of simulations if script is directly to be run locally.\n",
       "    * **num_generations** *(int)* - Maximum number of generations (multiplied by gc).\n",
       "    * **N** *(int)* - Diploid population size N=500 -> 1000 Haplotypes.\n",
       "    * **m** *(int)* - Number of generations from which seeds can resusicate.\n",
       "    * **b** *(float)* - Germination rate.\n",
       "    * **gc** *(int)* - Garbage collection interval.\n",
       "    * **r** *(int)* - Recombination rate.\n",
       "    * **L** *(int)* - Mapping length.\n",
       "    * **s** *(str)* - Selection coefficient.\n",
       "    * **d** *(str)* - Dominance coefficient.\n",
       "    * **selection_position** *(str)* - Selection position.\n",
       "    * **selection_activation_generation** *(int)* - Generation from which to start introducing selective alleles.\n",
       "    * **stop_after_mrca** *(bool)* - Stop simulation after MRCA is reached.\n",
       "    * **output_name** *(str)* - Output name.\n",
       "    * **generations_post_fixation_threshold** *(int)* - Number of generations to add after fixation event.\n",
       "    * **add_mutations_after_fixation** *(bool)* - Adding mutation after first fixation event, necessary for recovery.\n",
       "    * **output_directory** *(int)* - Output directory.\n",
       "    * **n_parallel** *(int)* - Number of parallel simulation when running locally.\n",
       "    * **continue_from** *(int)* - Continue simulations from run n if running locally.\n",
       "    * **print_cmd** *(bool)* - Number of simulations if script is directly to be run locally.\n",
       "    * **slurm** *(bool)* - Create part of slurm script for easy parallelization.\n",
       "    * **slurm_start** *(int)* - Start slurm simulatons from.\n",
       "    * **slurm_divide** *(int)* - Divid slurm_limit by.\n",
       "    * **slurm_limit** *(int)* - Number of slurm simulations.\n",
       "\u001b[0;31mFile:\u001b[0m      ~/projects/sleepy-analysis/utils.py\n",
       "\u001b[0;31mType:\u001b[0m      function\n"
      ]
     },
     "metadata": {},
     "output_type": "display_data"
    }
   ],
   "source": [
    "?sleepy"
   ]
  },
  {
   "cell_type": "markdown",
   "id": "protective-democracy",
   "metadata": {},
   "source": [
    "# Example"
   ]
  },
  {
   "cell_type": "markdown",
   "id": "anticipated-diamond",
   "metadata": {},
   "source": [
    "## no selection"
   ]
  },
  {
   "cell_type": "code",
   "execution_count": 2,
   "id": "hybrid-stockholm",
   "metadata": {},
   "outputs": [
    {
     "name": "stdout",
     "output_type": "stream",
     "text": [
      "CPU times: user 10.4 ms, sys: 46 ms, total: 56.4 ms\n",
      "Wall time: 1min 22s\n"
     ]
    },
    {
     "data": {
      "text/plain": [
       "''"
      ]
     },
     "execution_count": 2,
     "metadata": {},
     "output_type": "execute_result"
    }
   ],
   "source": [
    "%%time\n",
    "\n",
    "sleepy(\n",
    "    N=500,\n",
    "    b=1.0,\n",
    "    s=0,\n",
    "    stop_after_mrca=True,\n",
    "    output_directory=\"./germination_rate_b1/\"\n",
    ")"
   ]
  },
  {
   "cell_type": "code",
   "execution_count": 3,
   "id": "multiple-seating",
   "metadata": {},
   "outputs": [
    {
     "name": "stdout",
     "output_type": "stream",
     "text": [
      "CPU times: user 4.17 ms, sys: 7.96 ms, total: 12.1 ms\n",
      "Wall time: 1min 54s\n"
     ]
    },
    {
     "data": {
      "text/plain": [
       "''"
      ]
     },
     "execution_count": 3,
     "metadata": {},
     "output_type": "execute_result"
    }
   ],
   "source": [
    "%%time\n",
    "\n",
    "sleepy(\n",
    "    N=500,\n",
    "    b=0.5,\n",
    "    s=0,\n",
    "    stop_after_mrca=True,\n",
    "    output_directory=\"./germination_rate_b05/\"\n",
    ")"
   ]
  },
  {
   "cell_type": "markdown",
   "id": "checked-absence",
   "metadata": {},
   "source": [
    "## selection"
   ]
  },
  {
   "cell_type": "code",
   "execution_count": 4,
   "id": "analyzed-chinese",
   "metadata": {},
   "outputs": [
    {
     "name": "stdout",
     "output_type": "stream",
     "text": [
      "CPU times: user 7.02 ms, sys: 5.97 ms, total: 13 ms\n",
      "Wall time: 4min 7s\n"
     ]
    },
    {
     "data": {
      "text/plain": [
       "''"
      ]
     },
     "execution_count": 4,
     "metadata": {},
     "output_type": "execute_result"
    }
   ],
   "source": [
    "%%time\n",
    "\n",
    "sleepy(\n",
    "    N=500,\n",
    "    b=1.0,\n",
    "    s=1,\n",
    "    stop_after_mrca=False,\n",
    "    output_directory=\"./germination_rate_b1_selection/\"\n",
    ")"
   ]
  },
  {
   "cell_type": "code",
   "execution_count": 5,
   "id": "complex-district",
   "metadata": {},
   "outputs": [
    {
     "name": "stdout",
     "output_type": "stream",
     "text": [
      "CPU times: user 8.5 ms, sys: 6.27 ms, total: 14.8 ms\n",
      "Wall time: 5min\n"
     ]
    },
    {
     "data": {
      "text/plain": [
       "''"
      ]
     },
     "execution_count": 5,
     "metadata": {},
     "output_type": "execute_result"
    }
   ],
   "source": [
    "%%time\n",
    "\n",
    "sleepy(\n",
    "    N=500,\n",
    "    b=0.5,\n",
    "    s=1,\n",
    "    stop_after_mrca=False,\n",
    "    output_directory=\"./germination_rate_b05_selection/\"\n",
    ")"
   ]
  },
  {
   "cell_type": "markdown",
   "id": "boring-warrior",
   "metadata": {},
   "source": [
    "## plotting"
   ]
  },
  {
   "cell_type": "code",
   "execution_count": 10,
   "id": "essential-cheese",
   "metadata": {},
   "outputs": [
    {
     "data": {
      "text/html": [
       "\n",
       "            <div>\n",
       "              <style>\n",
       "                .tskit-table thead tr th {text-align: left;padding: 0.5em 0.5em;}\n",
       "                .tskit-table tbody tr td {padding: 0.5em 0.5em;}\n",
       "                .tskit-table tbody tr td:first-of-type {text-align: left;}\n",
       "                .tskit-details-label {vertical-align: top; padding-right:5px;}\n",
       "                .tskit-table-set {display: inline-flex;flex-wrap: wrap;margin: -12px 0 0 -12px;width: calc(100% + 12px);}\n",
       "                .tskit-table-set-table {margin: 12px 0 0 12px;}\n",
       "                details {display: inline-block;}\n",
       "                summary {cursor: pointer; outline: 0; display: list-item;}\n",
       "              </style>\n",
       "              <div class=\"tskit-table-set\">\n",
       "                <div class=\"tskit-table-set-table\">\n",
       "                  <table class=\"tskit-table\">\n",
       "                    <thead>\n",
       "                      <tr>\n",
       "                        <th style=\"padding:0;line-height:21px;\">\n",
       "                          <img style=\"height: 32px;display: inline-block;padding: 3px 5px 3px 0;\" src=\"https://raw.githubusercontent.com/tskit-dev/administrative/main/tskit_logo.svg\"/>\n",
       "                          <a target=\"_blank\" href=\"https://tskit.readthedocs.io/en/latest/python-api.html#the-treesequence-class\"> Tree Sequence </a>\n",
       "                        </th>\n",
       "                      </tr>\n",
       "                    </thead>\n",
       "                    <tbody>\n",
       "                      <tr><td>Trees</td><td>5726</td></tr>\n",
       "                      <tr><td>Sequence Length</td><td>10000.0</td></tr>\n",
       "                      <tr><td>Sample Nodes</td><td>1000</td></tr>\n",
       "                      <tr><td>Total Size</td><td>879.9 KiB</td></tr>\n",
       "                      <tr>\n",
       "                        <td>Metadata</td><td style=\"text-align: left;\">No Metadata</td></tr>\n",
       "                    </tbody>\n",
       "                  </table>\n",
       "                </div>\n",
       "                <div class=\"tskit-table-set-table\">\n",
       "                  <table class=\"tskit-table\">\n",
       "                    <thead>\n",
       "                      <tr>\n",
       "                        <th style=\"line-height:21px;\">Table</th>\n",
       "                        <th>Rows</th>\n",
       "                        <th>Size</th>\n",
       "                        <th>Has Metadata</th>\n",
       "                      </tr>\n",
       "                    </thead>\n",
       "                    <tbody>\n",
       "                    \n",
       "                  <tr>\n",
       "                    <td>Edges</td>\n",
       "                      <td>21564</td>\n",
       "                      <td>589.6 KiB</td>\n",
       "                      <td style=\"text-align: center;\">\n",
       "                        \n",
       "                      </td>\n",
       "                    </tr>\n",
       "                \n",
       "                  <tr>\n",
       "                    <td>Individuals</td>\n",
       "                      <td>0</td>\n",
       "                      <td>12 Bytes</td>\n",
       "                      <td style=\"text-align: center;\">\n",
       "                        \n",
       "                      </td>\n",
       "                    </tr>\n",
       "                \n",
       "                  <tr>\n",
       "                    <td>Migrations</td>\n",
       "                      <td>0</td>\n",
       "                      <td>4 Bytes</td>\n",
       "                      <td style=\"text-align: center;\">\n",
       "                        \n",
       "                      </td>\n",
       "                    </tr>\n",
       "                \n",
       "                  <tr>\n",
       "                    <td>Mutations</td>\n",
       "                      <td>1</td>\n",
       "                      <td>37 Bytes</td>\n",
       "                      <td style=\"text-align: center;\">\n",
       "                        \n",
       "                      </td>\n",
       "                    </tr>\n",
       "                \n",
       "                  <tr>\n",
       "                    <td>Nodes</td>\n",
       "                      <td>5191</td>\n",
       "                      <td>121.7 KiB</td>\n",
       "                      <td style=\"text-align: center;\">\n",
       "                        \n",
       "                      </td>\n",
       "                    </tr>\n",
       "                \n",
       "                  <tr>\n",
       "                    <td>Populations</td>\n",
       "                      <td>0</td>\n",
       "                      <td>4 Bytes</td>\n",
       "                      <td style=\"text-align: center;\">\n",
       "                        \n",
       "                      </td>\n",
       "                    </tr>\n",
       "                \n",
       "                  <tr>\n",
       "                    <td>Provenances</td>\n",
       "                      <td>0</td>\n",
       "                      <td>8 Bytes</td>\n",
       "                      <td style=\"text-align: center;\">\n",
       "                        \n",
       "                      </td>\n",
       "                    </tr>\n",
       "                \n",
       "                  <tr>\n",
       "                    <td>Sites</td>\n",
       "                      <td>1</td>\n",
       "                      <td>25 Bytes</td>\n",
       "                      <td style=\"text-align: center;\">\n",
       "                        \n",
       "                      </td>\n",
       "                    </tr>\n",
       "                \n",
       "                    </tbody>\n",
       "                  </table>\n",
       "                </div>\n",
       "              </div>\n",
       "            </div>\n",
       "            "
      ],
      "text/plain": [
       "<tskit.trees.TreeSequence at 0x7f9c2bcabc70>"
      ]
     },
     "execution_count": 10,
     "metadata": {},
     "output_type": "execute_result"
    }
   ],
   "source": [
    "ts_b1 = tskit.load(\"./germination_rate_b1_selection/run_0.trees\"); ts_b1"
   ]
  },
  {
   "cell_type": "code",
   "execution_count": 6,
   "id": "greenhouse-smoke",
   "metadata": {},
   "outputs": [
    {
     "data": {
      "text/html": [
       "\n",
       "            <div>\n",
       "              <style>\n",
       "                .tskit-table thead tr th {text-align: left;padding: 0.5em 0.5em;}\n",
       "                .tskit-table tbody tr td {padding: 0.5em 0.5em;}\n",
       "                .tskit-table tbody tr td:first-of-type {text-align: left;}\n",
       "                .tskit-details-label {vertical-align: top; padding-right:5px;}\n",
       "                .tskit-table-set {display: inline-flex;flex-wrap: wrap;margin: -12px 0 0 -12px;width: calc(100% + 12px);}\n",
       "                .tskit-table-set-table {margin: 12px 0 0 12px;}\n",
       "                details {display: inline-block;}\n",
       "                summary {cursor: pointer; outline: 0; display: list-item;}\n",
       "              </style>\n",
       "              <div class=\"tskit-table-set\">\n",
       "                <div class=\"tskit-table-set-table\">\n",
       "                  <table class=\"tskit-table\">\n",
       "                    <thead>\n",
       "                      <tr>\n",
       "                        <th style=\"padding:0;line-height:21px;\">\n",
       "                          <img style=\"height: 32px;display: inline-block;padding: 3px 5px 3px 0;\" src=\"https://raw.githubusercontent.com/tskit-dev/administrative/main/tskit_logo.svg\"/>\n",
       "                          <a target=\"_blank\" href=\"https://tskit.readthedocs.io/en/latest/python-api.html#the-treesequence-class\"> Tree Sequence </a>\n",
       "                        </th>\n",
       "                      </tr>\n",
       "                    </thead>\n",
       "                    <tbody>\n",
       "                      <tr><td>Trees</td><td>7390</td></tr>\n",
       "                      <tr><td>Sequence Length</td><td>10000.0</td></tr>\n",
       "                      <tr><td>Sample Nodes</td><td>1000</td></tr>\n",
       "                      <tr><td>Total Size</td><td>1.1 MiB</td></tr>\n",
       "                      <tr>\n",
       "                        <td>Metadata</td><td style=\"text-align: left;\">No Metadata</td></tr>\n",
       "                    </tbody>\n",
       "                  </table>\n",
       "                </div>\n",
       "                <div class=\"tskit-table-set-table\">\n",
       "                  <table class=\"tskit-table\">\n",
       "                    <thead>\n",
       "                      <tr>\n",
       "                        <th style=\"line-height:21px;\">Table</th>\n",
       "                        <th>Rows</th>\n",
       "                        <th>Size</th>\n",
       "                        <th>Has Metadata</th>\n",
       "                      </tr>\n",
       "                    </thead>\n",
       "                    <tbody>\n",
       "                    \n",
       "                  <tr>\n",
       "                    <td>Edges</td>\n",
       "                      <td>27437</td>\n",
       "                      <td>750.2 KiB</td>\n",
       "                      <td style=\"text-align: center;\">\n",
       "                        \n",
       "                      </td>\n",
       "                    </tr>\n",
       "                \n",
       "                  <tr>\n",
       "                    <td>Individuals</td>\n",
       "                      <td>0</td>\n",
       "                      <td>12 Bytes</td>\n",
       "                      <td style=\"text-align: center;\">\n",
       "                        \n",
       "                      </td>\n",
       "                    </tr>\n",
       "                \n",
       "                  <tr>\n",
       "                    <td>Migrations</td>\n",
       "                      <td>0</td>\n",
       "                      <td>4 Bytes</td>\n",
       "                      <td style=\"text-align: center;\">\n",
       "                        \n",
       "                      </td>\n",
       "                    </tr>\n",
       "                \n",
       "                  <tr>\n",
       "                    <td>Mutations</td>\n",
       "                      <td>1</td>\n",
       "                      <td>37 Bytes</td>\n",
       "                      <td style=\"text-align: center;\">\n",
       "                        \n",
       "                      </td>\n",
       "                    </tr>\n",
       "                \n",
       "                  <tr>\n",
       "                    <td>Nodes</td>\n",
       "                      <td>6115</td>\n",
       "                      <td>143.3 KiB</td>\n",
       "                      <td style=\"text-align: center;\">\n",
       "                        \n",
       "                      </td>\n",
       "                    </tr>\n",
       "                \n",
       "                  <tr>\n",
       "                    <td>Populations</td>\n",
       "                      <td>0</td>\n",
       "                      <td>4 Bytes</td>\n",
       "                      <td style=\"text-align: center;\">\n",
       "                        \n",
       "                      </td>\n",
       "                    </tr>\n",
       "                \n",
       "                  <tr>\n",
       "                    <td>Provenances</td>\n",
       "                      <td>0</td>\n",
       "                      <td>8 Bytes</td>\n",
       "                      <td style=\"text-align: center;\">\n",
       "                        \n",
       "                      </td>\n",
       "                    </tr>\n",
       "                \n",
       "                  <tr>\n",
       "                    <td>Sites</td>\n",
       "                      <td>1</td>\n",
       "                      <td>25 Bytes</td>\n",
       "                      <td style=\"text-align: center;\">\n",
       "                        \n",
       "                      </td>\n",
       "                    </tr>\n",
       "                \n",
       "                    </tbody>\n",
       "                  </table>\n",
       "                </div>\n",
       "              </div>\n",
       "            </div>\n",
       "            "
      ],
      "text/plain": [
       "<tskit.trees.TreeSequence at 0x7f9c2c031df0>"
      ]
     },
     "execution_count": 6,
     "metadata": {},
     "output_type": "execute_result"
    }
   ],
   "source": [
    "ts_b05 = tskit.load(\"./germination_rate_b05_selection/run_0.trees\"); ts_b05"
   ]
  },
  {
   "cell_type": "code",
   "execution_count": 8,
   "id": "interesting-scotland",
   "metadata": {},
   "outputs": [],
   "source": [
    "def calculate_diversity_along_genome(ts):\n",
    "    ts = msprime.sim_mutations(ts, rate=5e-5, discrete_genome=False, keep=False)\n",
    "    windows = np.linspace(0, ts.sequence_length, 50) # window size 200\n",
    "    diversity = ts.diversity(windows=windows, span_normalise=True, mode=\"site\").tolist()\n",
    "    return diversity\n",
    "\n",
    "windows = np.linspace(0, 10_000, 50) # window size 200"
   ]
  },
  {
   "cell_type": "code",
   "execution_count": 11,
   "id": "amino-argentina",
   "metadata": {},
   "outputs": [
    {
     "data": {
      "text/plain": [
       "Text(0.5, 1.0, 'b = 0.5')"
      ]
     },
     "execution_count": 11,
     "metadata": {},
     "output_type": "execute_result"
    },
    {
     "data": {
      "image/png": "[encoded data removed]",
      "text/plain": [
       "<Figure size 1008x432 with 2 Axes>"
      ]
     },
     "metadata": {},
     "output_type": "display_data"
    }
   ],
   "source": [
    "sns.set_style(\"ticks\")\n",
    "fig, ax = plt.subplots(1, 2, figsize=(14, 6), sharey=True)\n",
    "\n",
    "sns.lineplot(x=windows[:-1], y=calculate_diversity_along_genome(ts_b1), ax=ax[0])\n",
    "ax[0].set(xlabel=\"mapping length\", ylabel=\"genetic diversity [tajima's pi]\")\n",
    "ax[0].set_title('b = 1.0')\n",
    "\n",
    "sns.lineplot(x=windows[:-1], y=calculate_diversity_along_genome(ts_b05), ax=ax[1])\n",
    "ax[1].set(xlabel=\"mapping length\", ylabel=\"genetic diversity [tajima's pi]\")\n",
    "ax[1].set_title('b = 0.5')"
   ]
  },
  {
   "cell_type": "code",
   "execution_count": 15,
   "id": "proud-relations",
   "metadata": {},
   "outputs": [
    {
     "name": "stdout",
     "output_type": "stream",
     "text": [
      "for j in 0 100 ; do \n",
      "        sleepy  --num_generations 100000000 --N 500 --m 100 --b 1 --gc 50 --r 5e-05 --L 10000 --selection_coefficient 1 --dominance_coefficient 0.5 --selection_position 5000 --selection_activation_generation 100000 --stop_after_mrca False --debug_print False --output_name run_$(($i+$j)) --output_directory ./ --generations_post_fixation_threshold 0 --add_mutations_after_fixation True \n",
      "        done\n"
     ]
    }
   ],
   "source": [
    "sleepy(print_cmd=True, slurm=True, slurm_start=0, slurm_limit=200, slurm_divide=2)"
   ]
  },
  {
   "cell_type": "markdown",
   "id": "finnish-birmingham",
   "metadata": {},
   "source": [
    "## slurm header and bash script from above"
   ]
  },
  {
   "cell_type": "markdown",
   "id": "welcome-partner",
   "metadata": {},
   "source": [
    "```console\n",
    "\n",
    "#!/bin/bash\n",
    "\n",
    "#SBATCH --job-name=array  \n",
    "#SBATCH --output=./log/array_%A_%a.out  \n",
    "#SBATCH --error=./log/array_%A_%a.err  \n",
    "#SBATCH --array=0-99  \n",
    "#SBATCH --clusters=serial  \n",
    "#SBATCH --partition=serial_std  \n",
    "#SBATCH --get-user-env  \n",
    "#SBATCH --time=72:00:00  \n",
    "#SBATCH --ntasks=1  \n",
    "#SBATCH --mem=5000mb  \n",
    "\n",
    "conda activate sleepy\n",
    "\n",
    "i=$SLURM_ARRAY_TASK_ID\n",
    "\n",
    "for j in 0 100 ; do   \n",
    "    sleepy  --num_generations 100000000 --N 500 --m 100 --b 1 --gc 50 --r 5e-05 --L 10000 --selection_coefficient 1 --dominance_coefficient 0.5 --selection_position 5000 --selection_activation_generation 100000 --stop_after_mrca False --debug_print False --output_name run_$(($i+$j)) --output_directory ./ --generations_post_fixation_threshold 0 --add_mutations_after_fixation True      \n",
    "        done     \n",
    "```\n"
   ]
  },
  {
   "cell_type": "markdown",
   "id": "beginning-density",
   "metadata": {},
   "source": [
    "# print script which rans locally:"
   ]
  },
  {
   "cell_type": "code",
   "execution_count": 16,
   "id": "minus-given",
   "metadata": {},
   "outputs": [
    {
     "name": "stdout",
     "output_type": "stream",
     "text": [
      "\n",
      "\n",
      "            n_simulations=1\n",
      "            n_prog=10\n",
      "            n_prog_count=0\n",
      "\n",
      "            i=0\n",
      "            while [[ $i -lt $n_simulations ]]; do\n",
      "\n",
      "            sleepy --num_generations 100000000 --N 500 --m 100 --b 1 --gc 50 --r 5e-05 --L 10000 --selection_coefficient 1 --dominance_coefficient 0.5 --selection_position 5000 --selection_activation_generation 100000 --stop_after_mrca False --debug_print False --output_name run_$i --output_directory ./ --generations_post_fixation_threshold 0 --add_mutations_after_fixation True  &\n",
      "                 (( n_prog_count+=1 ))  \n",
      "                 [[ $((n_prog_count%n_prog)) -eq 0 ]] && wait\n",
      "                 (( i+=1 ))\n",
      "            done\n",
      "            \n"
     ]
    }
   ],
   "source": [
    "sleepy(print_cmd=True, slurm=False)"
   ]
  }
 ],
 "metadata": {
  "kernelspec": {
   "display_name": "Python 3",
   "language": "python",
   "name": "python3"
  },
  "language_info": {
   "codemirror_mode": {
    "name": "ipython",
    "version": 3
   },
   "file_extension": ".py",
   "mimetype": "text/x-python",
   "name": "python",
   "nbconvert_exporter": "python",
   "pygments_lexer": "ipython3",
   "version": "3.8.5"
  }
 },
 "nbformat": 4,
 "nbformat_minor": 5
}
